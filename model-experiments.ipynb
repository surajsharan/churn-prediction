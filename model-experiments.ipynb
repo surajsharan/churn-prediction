{
 "cells": [
  {
   "cell_type": "code",
   "execution_count": 1,
   "metadata": {},
   "outputs": [],
   "source": [
    "import pandas as pd\n",
    "import numpy as np\n",
    "from sklearn.model_selection import KFold , StratifiedKFold\n",
    "from sklearn.preprocessing import LabelEncoder\n",
    "from sklearn.model_selection import train_test_split\n",
    "from sklearn.metrics import accuracy_score,confusion_matrix ,roc_auc_score ,f1_score,classification_report\n",
    "from sklearn.impute import KNNImputer\n",
    "\n",
    "from catboost import CatBoostClassifier\n",
    "from xgboost import XGBClassifier\n",
    "from lightgbm import LGBMClassifier\n",
    "import lightgbm as lgb\n",
    "from sklearn.linear_model import LogisticRegression\n",
    "from sklearn.calibration import calibration_curve\n",
    "from sklearn.calibration import CalibratedClassifierCV\n",
    "\n",
    "\n",
    "from pytorch_tabnet.tab_model import TabNetClassifier\n",
    "import matplotlib.pyplot as plt\n",
    "import torch\n",
    "from sklearn.ensemble import (RandomForestClassifier, AdaBoostClassifier, \n",
    "                              GradientBoostingClassifier, ExtraTreesClassifier)\n",
    "\n",
    "\n",
    "from tqdm import tqdm\n",
    "import warnings\n",
    "warnings.filterwarnings(\"ignore\")\n"
   ]
  },
  {
   "cell_type": "code",
   "execution_count": 2,
   "metadata": {},
   "outputs": [
    {
     "name": "stdout",
     "output_type": "stream",
     "text": [
      "[WinError 123] The filename, directory name, or volume label syntax is incorrect: 'Churn \\r'\n",
      "F:\\Cassava\\Churn\n"
     ]
    }
   ],
   "source": [
    "cd Churn \r\n"
   ]
  },
  {
   "cell_type": "code",
   "execution_count": 3,
   "metadata": {},
   "outputs": [],
   "source": [
    "train = pd.read_csv('train.csv')\n",
    "test = pd.read_csv('test.csv')\n"
   ]
  },
  {
   "cell_type": "code",
   "execution_count": 4,
   "metadata": {},
   "outputs": [],
   "source": [
    "train['Churn'] =  [0 if i ==\"No\" else 1 for i in train['Churn'] ]"
   ]
  },
  {
   "cell_type": "code",
   "execution_count": null,
   "metadata": {},
   "outputs": [],
   "source": [
    "## Descriptive Statistics "
   ]
  },
  {
   "cell_type": "code",
   "execution_count": 176,
   "metadata": {},
   "outputs": [
    {
     "data": {
      "text/html": [
       "<div>\n",
       "<style scoped>\n",
       "    .dataframe tbody tr th:only-of-type {\n",
       "        vertical-align: middle;\n",
       "    }\n",
       "\n",
       "    .dataframe tbody tr th {\n",
       "        vertical-align: top;\n",
       "    }\n",
       "\n",
       "    .dataframe thead tr th {\n",
       "        text-align: left;\n",
       "    }\n",
       "</style>\n",
       "<table border=\"1\" class=\"dataframe\">\n",
       "  <thead>\n",
       "    <tr>\n",
       "      <th></th>\n",
       "      <th>Churn</th>\n",
       "      <th colspan=\"2\" halign=\"left\">TotalCharges</th>\n",
       "      <th colspan=\"2\" halign=\"left\">MonthlyCharges</th>\n",
       "      <th colspan=\"2\" halign=\"left\">tenure</th>\n",
       "    </tr>\n",
       "    <tr>\n",
       "      <th></th>\n",
       "      <th></th>\n",
       "      <th>mean</th>\n",
       "      <th>median</th>\n",
       "      <th>mean</th>\n",
       "      <th>median</th>\n",
       "      <th>mean</th>\n",
       "      <th>median</th>\n",
       "    </tr>\n",
       "  </thead>\n",
       "  <tbody>\n",
       "    <tr>\n",
       "      <th>0</th>\n",
       "      <td>0</td>\n",
       "      <td>2529.181675</td>\n",
       "      <td>1643.400</td>\n",
       "      <td>60.889076</td>\n",
       "      <td>64.025</td>\n",
       "      <td>37.053851</td>\n",
       "      <td>36</td>\n",
       "    </tr>\n",
       "    <tr>\n",
       "      <th>1</th>\n",
       "      <td>1</td>\n",
       "      <td>1565.176742</td>\n",
       "      <td>762.175</td>\n",
       "      <td>74.481462</td>\n",
       "      <td>79.900</td>\n",
       "      <td>18.371080</td>\n",
       "      <td>10</td>\n",
       "    </tr>\n",
       "  </tbody>\n",
       "</table>\n",
       "</div>"
      ],
      "text/plain": [
       "  Churn TotalCharges           MonthlyCharges             tenure       \n",
       "                mean    median           mean  median       mean median\n",
       "0     0  2529.181675  1643.400      60.889076  64.025  37.053851     36\n",
       "1     1  1565.176742   762.175      74.481462  79.900  18.371080     10"
      ]
     },
     "execution_count": 176,
     "metadata": {},
     "output_type": "execute_result"
    }
   ],
   "source": [
    "train.groupby(['Churn']).agg({'TotalCharges':['mean','median'],'MonthlyCharges':['mean','median'],'tenure':['mean','median']}).reset_index()"
   ]
  },
  {
   "cell_type": "code",
   "execution_count": 178,
   "metadata": {},
   "outputs": [
    {
     "data": {
      "text/html": [
       "<div>\n",
       "<style scoped>\n",
       "    .dataframe tbody tr th:only-of-type {\n",
       "        vertical-align: middle;\n",
       "    }\n",
       "\n",
       "    .dataframe tbody tr th {\n",
       "        vertical-align: top;\n",
       "    }\n",
       "\n",
       "    .dataframe thead tr th {\n",
       "        text-align: left;\n",
       "    }\n",
       "</style>\n",
       "<table border=\"1\" class=\"dataframe\">\n",
       "  <thead>\n",
       "    <tr>\n",
       "      <th></th>\n",
       "      <th>Churn</th>\n",
       "      <th>Contract</th>\n",
       "      <th colspan=\"2\" halign=\"left\">TotalCharges</th>\n",
       "      <th colspan=\"2\" halign=\"left\">MonthlyCharges</th>\n",
       "      <th colspan=\"3\" halign=\"left\">tenure</th>\n",
       "    </tr>\n",
       "    <tr>\n",
       "      <th></th>\n",
       "      <th></th>\n",
       "      <th></th>\n",
       "      <th>mean</th>\n",
       "      <th>median</th>\n",
       "      <th>mean</th>\n",
       "      <th>median</th>\n",
       "      <th>mean</th>\n",
       "      <th>median</th>\n",
       "      <th>count</th>\n",
       "    </tr>\n",
       "  </thead>\n",
       "  <tbody>\n",
       "    <tr>\n",
       "      <th>0</th>\n",
       "      <td>0</td>\n",
       "      <td>Month-to-month</td>\n",
       "      <td>1497.874548</td>\n",
       "      <td>808.025</td>\n",
       "      <td>61.225720</td>\n",
       "      <td>64.925</td>\n",
       "      <td>20.654367</td>\n",
       "      <td>16.0</td>\n",
       "      <td>1328</td>\n",
       "    </tr>\n",
       "    <tr>\n",
       "      <th>1</th>\n",
       "      <td>0</td>\n",
       "      <td>One year</td>\n",
       "      <td>2892.628145</td>\n",
       "      <td>2364.000</td>\n",
       "      <td>61.382460</td>\n",
       "      <td>62.850</td>\n",
       "      <td>41.534974</td>\n",
       "      <td>43.0</td>\n",
       "      <td>772</td>\n",
       "    </tr>\n",
       "    <tr>\n",
       "      <th>2</th>\n",
       "      <td>0</td>\n",
       "      <td>Two year</td>\n",
       "      <td>3667.487461</td>\n",
       "      <td>3571.600</td>\n",
       "      <td>60.034030</td>\n",
       "      <td>63.550</td>\n",
       "      <td>56.057054</td>\n",
       "      <td>64.0</td>\n",
       "      <td>964</td>\n",
       "    </tr>\n",
       "    <tr>\n",
       "      <th>3</th>\n",
       "      <td>1</td>\n",
       "      <td>Month-to-month</td>\n",
       "      <td>1196.656391</td>\n",
       "      <td>523.500</td>\n",
       "      <td>72.981099</td>\n",
       "      <td>79.225</td>\n",
       "      <td>14.382498</td>\n",
       "      <td>8.0</td>\n",
       "      <td>1017</td>\n",
       "    </tr>\n",
       "    <tr>\n",
       "      <th>4</th>\n",
       "      <td>1</td>\n",
       "      <td>One year</td>\n",
       "      <td>4073.970408</td>\n",
       "      <td>4044.650</td>\n",
       "      <td>85.458242</td>\n",
       "      <td>94.350</td>\n",
       "      <td>45.295918</td>\n",
       "      <td>49.5</td>\n",
       "      <td>98</td>\n",
       "    </tr>\n",
       "    <tr>\n",
       "      <th>5</th>\n",
       "      <td>1</td>\n",
       "      <td>Two year</td>\n",
       "      <td>5471.946970</td>\n",
       "      <td>6144.550</td>\n",
       "      <td>85.932813</td>\n",
       "      <td>95.750</td>\n",
       "      <td>61.333333</td>\n",
       "      <td>66.0</td>\n",
       "      <td>33</td>\n",
       "    </tr>\n",
       "  </tbody>\n",
       "</table>\n",
       "</div>"
      ],
      "text/plain": [
       "  Churn        Contract TotalCharges           MonthlyCharges          \\\n",
       "                                mean    median           mean  median   \n",
       "0     0  Month-to-month  1497.874548   808.025      61.225720  64.925   \n",
       "1     0        One year  2892.628145  2364.000      61.382460  62.850   \n",
       "2     0        Two year  3667.487461  3571.600      60.034030  63.550   \n",
       "3     1  Month-to-month  1196.656391   523.500      72.981099  79.225   \n",
       "4     1        One year  4073.970408  4044.650      85.458242  94.350   \n",
       "5     1        Two year  5471.946970  6144.550      85.932813  95.750   \n",
       "\n",
       "      tenure               \n",
       "        mean median count  \n",
       "0  20.654367   16.0  1328  \n",
       "1  41.534974   43.0   772  \n",
       "2  56.057054   64.0   964  \n",
       "3  14.382498    8.0  1017  \n",
       "4  45.295918   49.5    98  \n",
       "5  61.333333   66.0    33  "
      ]
     },
     "execution_count": 178,
     "metadata": {},
     "output_type": "execute_result"
    }
   ],
   "source": [
    "train.groupby(['Churn','Contract']).agg({'TotalCharges':['mean','median'],'MonthlyCharges':['mean','median'],'tenure':['mean','median','count']}).reset_index()"
   ]
  },
  {
   "cell_type": "code",
   "execution_count": 209,
   "metadata": {},
   "outputs": [
    {
     "data": {
      "text/plain": [
       "0    3064\n",
       "1    1148\n",
       "Name: Churn, dtype: int64"
      ]
     },
     "execution_count": 209,
     "metadata": {},
     "output_type": "execute_result"
    }
   ],
   "source": [
    "train.Churn.value_counts()"
   ]
  },
  {
   "cell_type": "code",
   "execution_count": 220,
   "metadata": {},
   "outputs": [
    {
     "data": {
      "text/html": [
       "<div>\n",
       "<style scoped>\n",
       "    .dataframe tbody tr th:only-of-type {\n",
       "        vertical-align: middle;\n",
       "    }\n",
       "\n",
       "    .dataframe tbody tr th {\n",
       "        vertical-align: top;\n",
       "    }\n",
       "\n",
       "    .dataframe thead tr th {\n",
       "        text-align: left;\n",
       "    }\n",
       "</style>\n",
       "<table border=\"1\" class=\"dataframe\">\n",
       "  <thead>\n",
       "    <tr>\n",
       "      <th></th>\n",
       "      <th>Churn</th>\n",
       "      <th>tenure_bin</th>\n",
       "      <th colspan=\"2\" halign=\"left\">TotalCharges</th>\n",
       "      <th colspan=\"2\" halign=\"left\">MonthlyCharges</th>\n",
       "    </tr>\n",
       "    <tr>\n",
       "      <th></th>\n",
       "      <th></th>\n",
       "      <th></th>\n",
       "      <th>mean</th>\n",
       "      <th>median</th>\n",
       "      <th>mean</th>\n",
       "      <th>median</th>\n",
       "    </tr>\n",
       "  </thead>\n",
       "  <tbody>\n",
       "    <tr>\n",
       "      <th>0</th>\n",
       "      <td>0</td>\n",
       "      <td>1</td>\n",
       "      <td>NaN</td>\n",
       "      <td>NaN</td>\n",
       "      <td>43.000000</td>\n",
       "      <td>25.350</td>\n",
       "    </tr>\n",
       "    <tr>\n",
       "      <th>1</th>\n",
       "      <td>0</td>\n",
       "      <td>2</td>\n",
       "      <td>37.879921</td>\n",
       "      <td>25.250</td>\n",
       "      <td>37.416514</td>\n",
       "      <td>25.000</td>\n",
       "    </tr>\n",
       "    <tr>\n",
       "      <th>2</th>\n",
       "      <td>0</td>\n",
       "      <td>3</td>\n",
       "      <td>92.783766</td>\n",
       "      <td>87.900</td>\n",
       "      <td>46.074265</td>\n",
       "      <td>45.325</td>\n",
       "    </tr>\n",
       "    <tr>\n",
       "      <th>3</th>\n",
       "      <td>0</td>\n",
       "      <td>4</td>\n",
       "      <td>154.979825</td>\n",
       "      <td>160.850</td>\n",
       "      <td>50.441667</td>\n",
       "      <td>50.325</td>\n",
       "    </tr>\n",
       "    <tr>\n",
       "      <th>4</th>\n",
       "      <td>0</td>\n",
       "      <td>5</td>\n",
       "      <td>219.102913</td>\n",
       "      <td>217.100</td>\n",
       "      <td>48.907895</td>\n",
       "      <td>50.300</td>\n",
       "    </tr>\n",
       "    <tr>\n",
       "      <th>5</th>\n",
       "      <td>0</td>\n",
       "      <td>6</td>\n",
       "      <td>417.163849</td>\n",
       "      <td>402.050</td>\n",
       "      <td>48.899012</td>\n",
       "      <td>50.300</td>\n",
       "    </tr>\n",
       "    <tr>\n",
       "      <th>6</th>\n",
       "      <td>0</td>\n",
       "      <td>7</td>\n",
       "      <td>801.656306</td>\n",
       "      <td>772.400</td>\n",
       "      <td>54.596985</td>\n",
       "      <td>55.200</td>\n",
       "    </tr>\n",
       "    <tr>\n",
       "      <th>7</th>\n",
       "      <td>0</td>\n",
       "      <td>8</td>\n",
       "      <td>3372.209580</td>\n",
       "      <td>2969.325</td>\n",
       "      <td>65.823114</td>\n",
       "      <td>70.550</td>\n",
       "    </tr>\n",
       "    <tr>\n",
       "      <th>8</th>\n",
       "      <td>1</td>\n",
       "      <td>2</td>\n",
       "      <td>57.337662</td>\n",
       "      <td>60.150</td>\n",
       "      <td>57.350469</td>\n",
       "      <td>60.150</td>\n",
       "    </tr>\n",
       "    <tr>\n",
       "      <th>9</th>\n",
       "      <td>1</td>\n",
       "      <td>3</td>\n",
       "      <td>123.528676</td>\n",
       "      <td>118.200</td>\n",
       "      <td>62.476271</td>\n",
       "      <td>68.950</td>\n",
       "    </tr>\n",
       "    <tr>\n",
       "      <th>10</th>\n",
       "      <td>1</td>\n",
       "      <td>4</td>\n",
       "      <td>197.158333</td>\n",
       "      <td>221.450</td>\n",
       "      <td>65.504082</td>\n",
       "      <td>75.500</td>\n",
       "    </tr>\n",
       "    <tr>\n",
       "      <th>11</th>\n",
       "      <td>1</td>\n",
       "      <td>5</td>\n",
       "      <td>311.538776</td>\n",
       "      <td>324.875</td>\n",
       "      <td>71.098851</td>\n",
       "      <td>76.650</td>\n",
       "    </tr>\n",
       "    <tr>\n",
       "      <th>12</th>\n",
       "      <td>1</td>\n",
       "      <td>6</td>\n",
       "      <td>637.296078</td>\n",
       "      <td>622.900</td>\n",
       "      <td>76.068519</td>\n",
       "      <td>80.500</td>\n",
       "    </tr>\n",
       "    <tr>\n",
       "      <th>13</th>\n",
       "      <td>1</td>\n",
       "      <td>7</td>\n",
       "      <td>1133.891892</td>\n",
       "      <td>1147.450</td>\n",
       "      <td>80.031188</td>\n",
       "      <td>84.600</td>\n",
       "    </tr>\n",
       "    <tr>\n",
       "      <th>14</th>\n",
       "      <td>1</td>\n",
       "      <td>8</td>\n",
       "      <td>3488.758199</td>\n",
       "      <td>3030.600</td>\n",
       "      <td>85.578149</td>\n",
       "      <td>90.200</td>\n",
       "    </tr>\n",
       "  </tbody>\n",
       "</table>\n",
       "</div>"
      ],
      "text/plain": [
       "   Churn tenure_bin TotalCharges           MonthlyCharges        \n",
       "                            mean    median           mean  median\n",
       "0      0          1          NaN       NaN      43.000000  25.350\n",
       "1      0          2    37.879921    25.250      37.416514  25.000\n",
       "2      0          3    92.783766    87.900      46.074265  45.325\n",
       "3      0          4   154.979825   160.850      50.441667  50.325\n",
       "4      0          5   219.102913   217.100      48.907895  50.300\n",
       "5      0          6   417.163849   402.050      48.899012  50.300\n",
       "6      0          7   801.656306   772.400      54.596985  55.200\n",
       "7      0          8  3372.209580  2969.325      65.823114  70.550\n",
       "8      1          2    57.337662    60.150      57.350469  60.150\n",
       "9      1          3   123.528676   118.200      62.476271  68.950\n",
       "10     1          4   197.158333   221.450      65.504082  75.500\n",
       "11     1          5   311.538776   324.875      71.098851  76.650\n",
       "12     1          6   637.296078   622.900      76.068519  80.500\n",
       "13     1          7  1133.891892  1147.450      80.031188  84.600\n",
       "14     1          8  3488.758199  3030.600      85.578149  90.200"
      ]
     },
     "execution_count": 220,
     "metadata": {},
     "output_type": "execute_result"
    }
   ],
   "source": [
    "train.groupby(['Churn','tenure_bin']).agg({'TotalCharges':['mean','median'],'MonthlyCharges':['mean','median']}).reset_index()"
   ]
  },
  {
   "cell_type": "code",
   "execution_count": 180,
   "metadata": {},
   "outputs": [
    {
     "data": {
      "text/plain": [
       "Month-to-month    55.674264\n",
       "Two year          23.670465\n",
       "One year          20.655271\n",
       "Name: Contract, dtype: float64"
      ]
     },
     "execution_count": 180,
     "metadata": {},
     "output_type": "execute_result"
    }
   ],
   "source": [
    "train.Contract.value_counts(normalize=True)*100"
   ]
  },
  {
   "cell_type": "code",
   "execution_count": 206,
   "metadata": {},
   "outputs": [
    {
     "data": {
      "text/plain": [
       "0    72.744539\n",
       "1    27.255461\n",
       "Name: Churn, dtype: float64"
      ]
     },
     "execution_count": 206,
     "metadata": {},
     "output_type": "execute_result"
    }
   ],
   "source": [
    "train.Churn.value_counts(normalize=True)*100"
   ]
  },
  {
   "cell_type": "code",
   "execution_count": 204,
   "metadata": {},
   "outputs": [
    {
     "data": {
      "text/plain": [
       "<matplotlib.axes._subplots.AxesSubplot at 0x23989066108>"
      ]
     },
     "execution_count": 204,
     "metadata": {},
     "output_type": "execute_result"
    },
    {
     "data": {
      "image/png": "[encoded data removed]",
      "text/plain": [
       "<Figure size 432x288 with 1 Axes>"
      ]
     },
     "metadata": {
      "needs_background": "light"
     },
     "output_type": "display_data"
    }
   ],
   "source": [
    "train.Contract.value_counts(normalize=True).plot.bar(y='percentage')"
   ]
  },
  {
   "cell_type": "markdown",
   "metadata": {},
   "source": [
    "# Model Development"
   ]
  },
  {
   "cell_type": "code",
   "execution_count": 64,
   "metadata": {},
   "outputs": [],
   "source": [
    "df = train.append(test)"
   ]
  },
  {
   "cell_type": "code",
   "execution_count": 65,
   "metadata": {},
   "outputs": [],
   "source": [
    "df['SeniorCitizen'] = df['SeniorCitizen'].astype(object)"
   ]
  },
  {
   "cell_type": "code",
   "execution_count": 66,
   "metadata": {},
   "outputs": [],
   "source": [
    "# df = df.sample(frac=1).reset_index(drop=True)"
   ]
  },
  {
   "cell_type": "code",
   "execution_count": 67,
   "metadata": {},
   "outputs": [],
   "source": [
    "# ## dropping the target variable\n",
    "target = df['Churn']\n",
    "df.drop(['Churn'],axis=1, inplace=True)"
   ]
  },
  {
   "cell_type": "code",
   "execution_count": 68,
   "metadata": {},
   "outputs": [],
   "source": [
    "cat_cols = df.columns[df.dtypes== object]\n",
    "num_cols = df.columns[df.dtypes!= object]"
   ]
  },
  {
   "cell_type": "code",
   "execution_count": 69,
   "metadata": {},
   "outputs": [
    {
     "name": "stderr",
     "output_type": "stream",
     "text": [
      "100%|███████████████████████████████████████████████████████████████████████████████████████████████████████████████████████████████████████████████████████████████████| 16/16 [00:00<00:00, 477.61it/s]"
     ]
    },
    {
     "name": "stdout",
     "output_type": "stream",
     "text": [
      "Label Encoder...\n"
     ]
    },
    {
     "name": "stderr",
     "output_type": "stream",
     "text": [
      "\n"
     ]
    }
   ],
   "source": [
    "### converting the categorical columns to labels\n",
    "\n",
    "print('Label Encoder...')\n",
    "\n",
    "for col in tqdm(cat_cols):\n",
    "    le = LabelEncoder()\n",
    "    df[col] = le.fit_transform(df[col].astype(str))\n",
    "del le\n"
   ]
  },
  {
   "cell_type": "code",
   "execution_count": 70,
   "metadata": {},
   "outputs": [],
   "source": [
    "imputer = KNNImputer(n_neighbors=20)\n",
    "df_imputed = pd.DataFrame(imputer.fit_transform(df),columns=df.columns,index=df.index)"
   ]
  },
  {
   "cell_type": "markdown",
   "metadata": {},
   "source": [
    "# Feature engineering "
   ]
  },
  {
   "cell_type": "code",
   "execution_count": 72,
   "metadata": {},
   "outputs": [],
   "source": [
    "\n",
    "\n",
    "\n",
    "df_imputed['tenure'] = df_imputed['tenure'].apply(lambda x: 0.5 if x==0 else x)\n",
    "df_imputed['tenure_days'] = df_imputed['tenure']*30\n",
    "# Create bins of or days in tenure\n",
    "bins = [0,30,60,90,120,180,360,540]\n",
    "df_imputed['tenure_bin']= np.digitize(df_imputed.tenure_days,bins)\n",
    "\n",
    "df_imputed['total_charges_calc'] = df_imputed['MonthlyCharges']*df_imputed['tenure']\n",
    "df_imputed['diff_total_charges'] = df_imputed['TotalCharges'] - df_imputed['total_charges_calc']\n",
    "\n",
    "df_imputed['monthly_charges_calc']= df_imputed['TotalCharges']/df_imputed['tenure']\n",
    "df_imputed['diff_monthly_charges'] = df_imputed['MonthlyCharges']- df_imputed['monthly_charges_calc']\n",
    "\n",
    "df_imputed['charges_per_day_from_month'] = df_imputed['MonthlyCharges']/30\n",
    "df_imputed['charges_per_day_from_total'] = df_imputed['TotalCharges']/df_imputed['tenure_days']\n",
    "df_imputed['single'] = (df_imputed.Dependents + df_imputed.Partner == 0)*1\n",
    "\n",
    "df_imputed['diff_charges_per_day']= df_imputed['charges_per_day_from_month'] -df_imputed['charges_per_day_from_total']\n",
    "df_imputed['all_of_internet_services'] = df_imputed.OnlineSecurity + df_imputed.OnlineBackup + df_imputed.DeviceProtection + df_imputed.StreamingTV + df_imputed.StreamingMovies + df_imputed.TechSupport\n"
   ]
  },
  {
   "cell_type": "code",
   "execution_count": 73,
   "metadata": {},
   "outputs": [
    {
     "name": "stderr",
     "output_type": "stream",
     "text": [
      "100%|█████████████████████████████████████████████████████████████████████████████████████████████████████████████████████████████████████████████████████████████████████| 9/9 [00:00<00:00, 268.68it/s]\n"
     ]
    }
   ],
   "source": [
    "## Feature engineering groupby features\n",
    "\n",
    "\n",
    "for col in tqdm(['tenure_bin', 'Partner', 'Dependents', 'PhoneService',\n",
    "       'MultipleLines', 'all_of_internet_services',\n",
    "       'Contract', 'PaperlessBilling', 'PaymentMethod']) :\n",
    "    for cols in [ 'MonthlyCharges', 'TotalCharges']:\n",
    "        df_imputed[cols+\"_\"+col+\"_mean\"] = df_imputed.groupby(col)[cols].transform('mean')\n",
    "        df_imputed[cols+\"_\"+col+\"_count\"] = df_imputed.groupby(col)[cols].transform('count')\n",
    "#         df[cols+\"_\"+col+\"_sum\"] = df.groupby(col)[cols].transform('sum')\n",
    "        \n",
    "        \n"
   ]
  },
  {
   "cell_type": "code",
   "execution_count": 74,
   "metadata": {},
   "outputs": [],
   "source": [
    "df_imputed['Churn'] = target\n",
    "df_imputed[cat_cols] = df_imputed[cat_cols].astype(int)"
   ]
  },
  {
   "cell_type": "code",
   "execution_count": 75,
   "metadata": {},
   "outputs": [],
   "source": [
    "df_imputed.drop(['gender'],axis=1, inplace=True)\n",
    "\n",
    "df_train = df_imputed[~df_imputed.Churn.isnull()]\n",
    "df_test = df_imputed[df_imputed.Churn.isnull()]\n"
   ]
  },
  {
   "cell_type": "code",
   "execution_count": 231,
   "metadata": {},
   "outputs": [
    {
     "data": {
      "text/html": [
       "<style  type=\"text/css\" >\n",
       "#T_3a9039dc_6f4f_11eb_9615_00d861116937row0_col0,#T_3a9039dc_6f4f_11eb_9615_00d861116937row1_col1,#T_3a9039dc_6f4f_11eb_9615_00d861116937row2_col2,#T_3a9039dc_6f4f_11eb_9615_00d861116937row3_col3,#T_3a9039dc_6f4f_11eb_9615_00d861116937row4_col4,#T_3a9039dc_6f4f_11eb_9615_00d861116937row5_col5,#T_3a9039dc_6f4f_11eb_9615_00d861116937row6_col6,#T_3a9039dc_6f4f_11eb_9615_00d861116937row7_col7,#T_3a9039dc_6f4f_11eb_9615_00d861116937row8_col8,#T_3a9039dc_6f4f_11eb_9615_00d861116937row9_col9,#T_3a9039dc_6f4f_11eb_9615_00d861116937row10_col10,#T_3a9039dc_6f4f_11eb_9615_00d861116937row11_col11,#T_3a9039dc_6f4f_11eb_9615_00d861116937row12_col12,#T_3a9039dc_6f4f_11eb_9615_00d861116937row13_col13,#T_3a9039dc_6f4f_11eb_9615_00d861116937row14_col14,#T_3a9039dc_6f4f_11eb_9615_00d861116937row15_col15,#T_3a9039dc_6f4f_11eb_9615_00d861116937row16_col16,#T_3a9039dc_6f4f_11eb_9615_00d861116937row17_col17,#T_3a9039dc_6f4f_11eb_9615_00d861116937row18_col18{\n",
       "            background-color:  #b40426;\n",
       "            color:  #f1f1f1;\n",
       "        }#T_3a9039dc_6f4f_11eb_9615_00d861116937row0_col1,#T_3a9039dc_6f4f_11eb_9615_00d861116937row2_col16,#T_3a9039dc_6f4f_11eb_9615_00d861116937row5_col2,#T_3a9039dc_6f4f_11eb_9615_00d861116937row9_col0,#T_3a9039dc_6f4f_11eb_9615_00d861116937row14_col13,#T_3a9039dc_6f4f_11eb_9615_00d861116937row15_col7{\n",
       "            background-color:  #6b8df0;\n",
       "            color:  #000000;\n",
       "        }#T_3a9039dc_6f4f_11eb_9615_00d861116937row0_col2,#T_3a9039dc_6f4f_11eb_9615_00d861116937row2_col0,#T_3a9039dc_6f4f_11eb_9615_00d861116937row2_col4,#T_3a9039dc_6f4f_11eb_9615_00d861116937row3_col15,#T_3a9039dc_6f4f_11eb_9615_00d861116937row6_col16,#T_3a9039dc_6f4f_11eb_9615_00d861116937row13_col14,#T_3a9039dc_6f4f_11eb_9615_00d861116937row13_col18,#T_3a9039dc_6f4f_11eb_9615_00d861116937row15_col1,#T_3a9039dc_6f4f_11eb_9615_00d861116937row15_col3,#T_3a9039dc_6f4f_11eb_9615_00d861116937row15_col5,#T_3a9039dc_6f4f_11eb_9615_00d861116937row15_col11,#T_3a9039dc_6f4f_11eb_9615_00d861116937row15_col12,#T_3a9039dc_6f4f_11eb_9615_00d861116937row15_col17,#T_3a9039dc_6f4f_11eb_9615_00d861116937row16_col6,#T_3a9039dc_6f4f_11eb_9615_00d861116937row18_col1,#T_3a9039dc_6f4f_11eb_9615_00d861116937row18_col7,#T_3a9039dc_6f4f_11eb_9615_00d861116937row18_col8,#T_3a9039dc_6f4f_11eb_9615_00d861116937row18_col9,#T_3a9039dc_6f4f_11eb_9615_00d861116937row18_col10,#T_3a9039dc_6f4f_11eb_9615_00d861116937row18_col13{\n",
       "            background-color:  #3b4cc0;\n",
       "            color:  #f1f1f1;\n",
       "        }#T_3a9039dc_6f4f_11eb_9615_00d861116937row0_col3,#T_3a9039dc_6f4f_11eb_9615_00d861116937row11_col5,#T_3a9039dc_6f4f_11eb_9615_00d861116937row17_col14{\n",
       "            background-color:  #98b9ff;\n",
       "            color:  #000000;\n",
       "        }#T_3a9039dc_6f4f_11eb_9615_00d861116937row0_col4,#T_3a9039dc_6f4f_11eb_9615_00d861116937row7_col14{\n",
       "            background-color:  #3f53c6;\n",
       "            color:  #f1f1f1;\n",
       "        }#T_3a9039dc_6f4f_11eb_9615_00d861116937row0_col5,#T_3a9039dc_6f4f_11eb_9615_00d861116937row1_col8,#T_3a9039dc_6f4f_11eb_9615_00d861116937row2_col17,#T_3a9039dc_6f4f_11eb_9615_00d861116937row17_col0{\n",
       "            background-color:  #96b7ff;\n",
       "            color:  #000000;\n",
       "        }#T_3a9039dc_6f4f_11eb_9615_00d861116937row0_col6,#T_3a9039dc_6f4f_11eb_9615_00d861116937row5_col10,#T_3a9039dc_6f4f_11eb_9615_00d861116937row5_col11,#T_3a9039dc_6f4f_11eb_9615_00d861116937row10_col6,#T_3a9039dc_6f4f_11eb_9615_00d861116937row11_col14,#T_3a9039dc_6f4f_11eb_9615_00d861116937row16_col1{\n",
       "            background-color:  #85a8fc;\n",
       "            color:  #000000;\n",
       "        }#T_3a9039dc_6f4f_11eb_9615_00d861116937row0_col7,#T_3a9039dc_6f4f_11eb_9615_00d861116937row0_col9,#T_3a9039dc_6f4f_11eb_9615_00d861116937row4_col5,#T_3a9039dc_6f4f_11eb_9615_00d861116937row16_col15,#T_3a9039dc_6f4f_11eb_9615_00d861116937row17_col6{\n",
       "            background-color:  #6282ea;\n",
       "            color:  #000000;\n",
       "        }#T_3a9039dc_6f4f_11eb_9615_00d861116937row0_col8,#T_3a9039dc_6f4f_11eb_9615_00d861116937row3_col14,#T_3a9039dc_6f4f_11eb_9615_00d861116937row4_col9,#T_3a9039dc_6f4f_11eb_9615_00d861116937row14_col11{\n",
       "            background-color:  #6c8ff1;\n",
       "            color:  #000000;\n",
       "        }#T_3a9039dc_6f4f_11eb_9615_00d861116937row0_col10{\n",
       "            background-color:  #5977e3;\n",
       "            color:  #000000;\n",
       "        }#T_3a9039dc_6f4f_11eb_9615_00d861116937row0_col11,#T_3a9039dc_6f4f_11eb_9615_00d861116937row14_col10{\n",
       "            background-color:  #6180e9;\n",
       "            color:  #000000;\n",
       "        }#T_3a9039dc_6f4f_11eb_9615_00d861116937row0_col12,#T_3a9039dc_6f4f_11eb_9615_00d861116937row5_col15{\n",
       "            background-color:  #6687ed;\n",
       "            color:  #000000;\n",
       "        }#T_3a9039dc_6f4f_11eb_9615_00d861116937row0_col13,#T_3a9039dc_6f4f_11eb_9615_00d861116937row6_col12,#T_3a9039dc_6f4f_11eb_9615_00d861116937row16_col7{\n",
       "            background-color:  #7699f6;\n",
       "            color:  #000000;\n",
       "        }#T_3a9039dc_6f4f_11eb_9615_00d861116937row0_col14,#T_3a9039dc_6f4f_11eb_9615_00d861116937row2_col6,#T_3a9039dc_6f4f_11eb_9615_00d861116937row4_col13,#T_3a9039dc_6f4f_11eb_9615_00d861116937row9_col6,#T_3a9039dc_6f4f_11eb_9615_00d861116937row10_col2,#T_3a9039dc_6f4f_11eb_9615_00d861116937row13_col11,#T_3a9039dc_6f4f_11eb_9615_00d861116937row14_col5,#T_3a9039dc_6f4f_11eb_9615_00d861116937row16_col9,#T_3a9039dc_6f4f_11eb_9615_00d861116937row18_col0{\n",
       "            background-color:  #9abbff;\n",
       "            color:  #000000;\n",
       "        }#T_3a9039dc_6f4f_11eb_9615_00d861116937row0_col15,#T_3a9039dc_6f4f_11eb_9615_00d861116937row1_col12,#T_3a9039dc_6f4f_11eb_9615_00d861116937row2_col8,#T_3a9039dc_6f4f_11eb_9615_00d861116937row2_col9,#T_3a9039dc_6f4f_11eb_9615_00d861116937row5_col7,#T_3a9039dc_6f4f_11eb_9615_00d861116937row12_col14{\n",
       "            background-color:  #84a7fc;\n",
       "            color:  #000000;\n",
       "        }#T_3a9039dc_6f4f_11eb_9615_00d861116937row0_col16,#T_3a9039dc_6f4f_11eb_9615_00d861116937row4_col16,#T_3a9039dc_6f4f_11eb_9615_00d861116937row7_col17{\n",
       "            background-color:  #c9d7f0;\n",
       "            color:  #000000;\n",
       "        }#T_3a9039dc_6f4f_11eb_9615_00d861116937row0_col17,#T_3a9039dc_6f4f_11eb_9615_00d861116937row1_col10,#T_3a9039dc_6f4f_11eb_9615_00d861116937row9_col11,#T_3a9039dc_6f4f_11eb_9615_00d861116937row12_col6{\n",
       "            background-color:  #a7c5fe;\n",
       "            color:  #000000;\n",
       "        }#T_3a9039dc_6f4f_11eb_9615_00d861116937row0_col18,#T_3a9039dc_6f4f_11eb_9615_00d861116937row2_col3{\n",
       "            background-color:  #b9d0f9;\n",
       "            color:  #000000;\n",
       "        }#T_3a9039dc_6f4f_11eb_9615_00d861116937row1_col0,#T_3a9039dc_6f4f_11eb_9615_00d861116937row6_col9{\n",
       "            background-color:  #799cf8;\n",
       "            color:  #000000;\n",
       "        }#T_3a9039dc_6f4f_11eb_9615_00d861116937row1_col2,#T_3a9039dc_6f4f_11eb_9615_00d861116937row7_col13{\n",
       "            background-color:  #e9d5cb;\n",
       "            color:  #000000;\n",
       "        }#T_3a9039dc_6f4f_11eb_9615_00d861116937row1_col3,#T_3a9039dc_6f4f_11eb_9615_00d861116937row9_col3{\n",
       "            background-color:  #e8d6cc;\n",
       "            color:  #000000;\n",
       "        }#T_3a9039dc_6f4f_11eb_9615_00d861116937row1_col4,#T_3a9039dc_6f4f_11eb_9615_00d861116937row3_col4,#T_3a9039dc_6f4f_11eb_9615_00d861116937row6_col14,#T_3a9039dc_6f4f_11eb_9615_00d861116937row8_col4,#T_3a9039dc_6f4f_11eb_9615_00d861116937row17_col15{\n",
       "            background-color:  #445acc;\n",
       "            color:  #f1f1f1;\n",
       "        }#T_3a9039dc_6f4f_11eb_9615_00d861116937row1_col5,#T_3a9039dc_6f4f_11eb_9615_00d861116937row5_col12,#T_3a9039dc_6f4f_11eb_9615_00d861116937row7_col1,#T_3a9039dc_6f4f_11eb_9615_00d861116937row12_col7,#T_3a9039dc_6f4f_11eb_9615_00d861116937row14_col3{\n",
       "            background-color:  #93b5fe;\n",
       "            color:  #000000;\n",
       "        }#T_3a9039dc_6f4f_11eb_9615_00d861116937row1_col6,#T_3a9039dc_6f4f_11eb_9615_00d861116937row4_col15,#T_3a9039dc_6f4f_11eb_9615_00d861116937row10_col16{\n",
       "            background-color:  #8db0fe;\n",
       "            color:  #000000;\n",
       "        }#T_3a9039dc_6f4f_11eb_9615_00d861116937row1_col7,#T_3a9039dc_6f4f_11eb_9615_00d861116937row8_col16,#T_3a9039dc_6f4f_11eb_9615_00d861116937row11_col10{\n",
       "            background-color:  #abc8fd;\n",
       "            color:  #000000;\n",
       "        }#T_3a9039dc_6f4f_11eb_9615_00d861116937row1_col9,#T_3a9039dc_6f4f_11eb_9615_00d861116937row8_col9,#T_3a9039dc_6f4f_11eb_9615_00d861116937row14_col0{\n",
       "            background-color:  #a2c1ff;\n",
       "            color:  #000000;\n",
       "        }#T_3a9039dc_6f4f_11eb_9615_00d861116937row1_col11,#T_3a9039dc_6f4f_11eb_9615_00d861116937row3_col0,#T_3a9039dc_6f4f_11eb_9615_00d861116937row6_col7,#T_3a9039dc_6f4f_11eb_9615_00d861116937row7_col15{\n",
       "            background-color:  #7b9ff9;\n",
       "            color:  #000000;\n",
       "        }#T_3a9039dc_6f4f_11eb_9615_00d861116937row1_col13{\n",
       "            background-color:  #dddcdc;\n",
       "            color:  #000000;\n",
       "        }#T_3a9039dc_6f4f_11eb_9615_00d861116937row1_col14,#T_3a9039dc_6f4f_11eb_9615_00d861116937row4_col12,#T_3a9039dc_6f4f_11eb_9615_00d861116937row15_col13,#T_3a9039dc_6f4f_11eb_9615_00d861116937row17_col4{\n",
       "            background-color:  #6384eb;\n",
       "            color:  #000000;\n",
       "        }#T_3a9039dc_6f4f_11eb_9615_00d861116937row1_col15,#T_3a9039dc_6f4f_11eb_9615_00d861116937row7_col5,#T_3a9039dc_6f4f_11eb_9615_00d861116937row8_col18,#T_3a9039dc_6f4f_11eb_9615_00d861116937row10_col5,#T_3a9039dc_6f4f_11eb_9615_00d861116937row15_col10,#T_3a9039dc_6f4f_11eb_9615_00d861116937row17_col18{\n",
       "            background-color:  #688aef;\n",
       "            color:  #000000;\n",
       "        }#T_3a9039dc_6f4f_11eb_9615_00d861116937row1_col16,#T_3a9039dc_6f4f_11eb_9615_00d861116937row2_col7,#T_3a9039dc_6f4f_11eb_9615_00d861116937row11_col6{\n",
       "            background-color:  #a9c6fd;\n",
       "            color:  #000000;\n",
       "        }#T_3a9039dc_6f4f_11eb_9615_00d861116937row1_col17,#T_3a9039dc_6f4f_11eb_9615_00d861116937row8_col13,#T_3a9039dc_6f4f_11eb_9615_00d861116937row11_col3{\n",
       "            background-color:  #d8dce2;\n",
       "            color:  #000000;\n",
       "        }#T_3a9039dc_6f4f_11eb_9615_00d861116937row1_col18,#T_3a9039dc_6f4f_11eb_9615_00d861116937row4_col14,#T_3a9039dc_6f4f_11eb_9615_00d861116937row9_col15{\n",
       "            background-color:  #6f92f3;\n",
       "            color:  #000000;\n",
       "        }#T_3a9039dc_6f4f_11eb_9615_00d861116937row2_col1{\n",
       "            background-color:  #e4d9d2;\n",
       "            color:  #000000;\n",
       "        }#T_3a9039dc_6f4f_11eb_9615_00d861116937row2_col5,#T_3a9039dc_6f4f_11eb_9615_00d861116937row4_col11,#T_3a9039dc_6f4f_11eb_9615_00d861116937row7_col11,#T_3a9039dc_6f4f_11eb_9615_00d861116937row15_col16{\n",
       "            background-color:  #5e7de7;\n",
       "            color:  #000000;\n",
       "        }#T_3a9039dc_6f4f_11eb_9615_00d861116937row2_col10,#T_3a9039dc_6f4f_11eb_9615_00d861116937row4_col17,#T_3a9039dc_6f4f_11eb_9615_00d861116937row5_col18,#T_3a9039dc_6f4f_11eb_9615_00d861116937row6_col15,#T_3a9039dc_6f4f_11eb_9615_00d861116937row7_col8{\n",
       "            background-color:  #a6c4fe;\n",
       "            color:  #000000;\n",
       "        }#T_3a9039dc_6f4f_11eb_9615_00d861116937row2_col11,#T_3a9039dc_6f4f_11eb_9615_00d861116937row6_col17{\n",
       "            background-color:  #5b7ae5;\n",
       "            color:  #000000;\n",
       "        }#T_3a9039dc_6f4f_11eb_9615_00d861116937row2_col12{\n",
       "            background-color:  #5d7ce6;\n",
       "            color:  #000000;\n",
       "        }#T_3a9039dc_6f4f_11eb_9615_00d861116937row2_col13,#T_3a9039dc_6f4f_11eb_9615_00d861116937row13_col9,#T_3a9039dc_6f4f_11eb_9615_00d861116937row17_col12{\n",
       "            background-color:  #d2dbe8;\n",
       "            color:  #000000;\n",
       "        }#T_3a9039dc_6f4f_11eb_9615_00d861116937row2_col14,#T_3a9039dc_6f4f_11eb_9615_00d861116937row6_col5,#T_3a9039dc_6f4f_11eb_9615_00d861116937row12_col4,#T_3a9039dc_6f4f_11eb_9615_00d861116937row15_col8{\n",
       "            background-color:  #4b64d5;\n",
       "            color:  #f1f1f1;\n",
       "        }#T_3a9039dc_6f4f_11eb_9615_00d861116937row2_col15,#T_3a9039dc_6f4f_11eb_9615_00d861116937row13_col5{\n",
       "            background-color:  #86a9fc;\n",
       "            color:  #000000;\n",
       "        }#T_3a9039dc_6f4f_11eb_9615_00d861116937row2_col18,#T_3a9039dc_6f4f_11eb_9615_00d861116937row4_col2{\n",
       "            background-color:  #6e90f2;\n",
       "            color:  #000000;\n",
       "        }#T_3a9039dc_6f4f_11eb_9615_00d861116937row3_col1,#T_3a9039dc_6f4f_11eb_9615_00d861116937row3_col8{\n",
       "            background-color:  #d4dbe6;\n",
       "            color:  #000000;\n",
       "        }#T_3a9039dc_6f4f_11eb_9615_00d861116937row3_col2,#T_3a9039dc_6f4f_11eb_9615_00d861116937row7_col9,#T_3a9039dc_6f4f_11eb_9615_00d861116937row12_col5{\n",
       "            background-color:  #9fbfff;\n",
       "            color:  #000000;\n",
       "        }#T_3a9039dc_6f4f_11eb_9615_00d861116937row3_col5{\n",
       "            background-color:  #cbd8ee;\n",
       "            color:  #000000;\n",
       "        }#T_3a9039dc_6f4f_11eb_9615_00d861116937row3_col6,#T_3a9039dc_6f4f_11eb_9615_00d861116937row7_col6,#T_3a9039dc_6f4f_11eb_9615_00d861116937row16_col13{\n",
       "            background-color:  #88abfd;\n",
       "            color:  #000000;\n",
       "        }#T_3a9039dc_6f4f_11eb_9615_00d861116937row3_col7{\n",
       "            background-color:  #d5dbe5;\n",
       "            color:  #000000;\n",
       "        }#T_3a9039dc_6f4f_11eb_9615_00d861116937row3_col9,#T_3a9039dc_6f4f_11eb_9615_00d861116937row3_col10,#T_3a9039dc_6f4f_11eb_9615_00d861116937row12_col11{\n",
       "            background-color:  #d7dce3;\n",
       "            color:  #000000;\n",
       "        }#T_3a9039dc_6f4f_11eb_9615_00d861116937row3_col11,#T_3a9039dc_6f4f_11eb_9615_00d861116937row14_col17{\n",
       "            background-color:  #b1cbfc;\n",
       "            color:  #000000;\n",
       "        }#T_3a9039dc_6f4f_11eb_9615_00d861116937row3_col12,#T_3a9039dc_6f4f_11eb_9615_00d861116937row9_col16,#T_3a9039dc_6f4f_11eb_9615_00d861116937row16_col0{\n",
       "            background-color:  #b6cefa;\n",
       "            color:  #000000;\n",
       "        }#T_3a9039dc_6f4f_11eb_9615_00d861116937row3_col13{\n",
       "            background-color:  #f39475;\n",
       "            color:  #000000;\n",
       "        }#T_3a9039dc_6f4f_11eb_9615_00d861116937row3_col16,#T_3a9039dc_6f4f_11eb_9615_00d861116937row10_col17,#T_3a9039dc_6f4f_11eb_9615_00d861116937row12_col13{\n",
       "            background-color:  #d1dae9;\n",
       "            color:  #000000;\n",
       "        }#T_3a9039dc_6f4f_11eb_9615_00d861116937row3_col17{\n",
       "            background-color:  #df634e;\n",
       "            color:  #000000;\n",
       "        }#T_3a9039dc_6f4f_11eb_9615_00d861116937row3_col18,#T_3a9039dc_6f4f_11eb_9615_00d861116937row15_col9,#T_3a9039dc_6f4f_11eb_9615_00d861116937row18_col2{\n",
       "            background-color:  #465ecf;\n",
       "            color:  #f1f1f1;\n",
       "        }#T_3a9039dc_6f4f_11eb_9615_00d861116937row4_col0,#T_3a9039dc_6f4f_11eb_9615_00d861116937row8_col15,#T_3a9039dc_6f4f_11eb_9615_00d861116937row14_col12{\n",
       "            background-color:  #7295f4;\n",
       "            color:  #000000;\n",
       "        }#T_3a9039dc_6f4f_11eb_9615_00d861116937row4_col1,#T_3a9039dc_6f4f_11eb_9615_00d861116937row6_col0,#T_3a9039dc_6f4f_11eb_9615_00d861116937row7_col12,#T_3a9039dc_6f4f_11eb_9615_00d861116937row9_col18,#T_3a9039dc_6f4f_11eb_9615_00d861116937row14_col6{\n",
       "            background-color:  #6a8bef;\n",
       "            color:  #000000;\n",
       "        }#T_3a9039dc_6f4f_11eb_9615_00d861116937row4_col3,#T_3a9039dc_6f4f_11eb_9615_00d861116937row11_col8,#T_3a9039dc_6f4f_11eb_9615_00d861116937row12_col8{\n",
       "            background-color:  #94b6ff;\n",
       "            color:  #000000;\n",
       "        }#T_3a9039dc_6f4f_11eb_9615_00d861116937row4_col6,#T_3a9039dc_6f4f_11eb_9615_00d861116937row9_col13,#T_3a9039dc_6f4f_11eb_9615_00d861116937row11_col17,#T_3a9039dc_6f4f_11eb_9615_00d861116937row12_col17{\n",
       "            background-color:  #e7d7ce;\n",
       "            color:  #000000;\n",
       "        }#T_3a9039dc_6f4f_11eb_9615_00d861116937row4_col7,#T_3a9039dc_6f4f_11eb_9615_00d861116937row4_col10,#T_3a9039dc_6f4f_11eb_9615_00d861116937row10_col11,#T_3a9039dc_6f4f_11eb_9615_00d861116937row14_col15{\n",
       "            background-color:  #80a3fa;\n",
       "            color:  #000000;\n",
       "        }#T_3a9039dc_6f4f_11eb_9615_00d861116937row4_col8,#T_3a9039dc_6f4f_11eb_9615_00d861116937row6_col11{\n",
       "            background-color:  #7093f3;\n",
       "            color:  #000000;\n",
       "        }#T_3a9039dc_6f4f_11eb_9615_00d861116937row4_col18,#T_3a9039dc_6f4f_11eb_9615_00d861116937row5_col14{\n",
       "            background-color:  #9dbdff;\n",
       "            color:  #000000;\n",
       "        }#T_3a9039dc_6f4f_11eb_9615_00d861116937row5_col0{\n",
       "            background-color:  #a1c0ff;\n",
       "            color:  #000000;\n",
       "        }#T_3a9039dc_6f4f_11eb_9615_00d861116937row5_col1{\n",
       "            background-color:  #92b4fe;\n",
       "            color:  #000000;\n",
       "        }#T_3a9039dc_6f4f_11eb_9615_00d861116937row5_col3,#T_3a9039dc_6f4f_11eb_9615_00d861116937row8_col17,#T_3a9039dc_6f4f_11eb_9615_00d861116937row14_col16,#T_3a9039dc_6f4f_11eb_9615_00d861116937row16_col5{\n",
       "            background-color:  #e0dbd8;\n",
       "            color:  #000000;\n",
       "        }#T_3a9039dc_6f4f_11eb_9615_00d861116937row5_col4,#T_3a9039dc_6f4f_11eb_9615_00d861116937row10_col4{\n",
       "            background-color:  #3c4ec2;\n",
       "            color:  #f1f1f1;\n",
       "        }#T_3a9039dc_6f4f_11eb_9615_00d861116937row5_col6,#T_3a9039dc_6f4f_11eb_9615_00d861116937row8_col0{\n",
       "            background-color:  #7396f5;\n",
       "            color:  #000000;\n",
       "        }#T_3a9039dc_6f4f_11eb_9615_00d861116937row5_col8,#T_3a9039dc_6f4f_11eb_9615_00d861116937row5_col9,#T_3a9039dc_6f4f_11eb_9615_00d861116937row8_col1,#T_3a9039dc_6f4f_11eb_9615_00d861116937row11_col1,#T_3a9039dc_6f4f_11eb_9615_00d861116937row12_col1,#T_3a9039dc_6f4f_11eb_9615_00d861116937row12_col18{\n",
       "            background-color:  #90b2fe;\n",
       "            color:  #000000;\n",
       "        }#T_3a9039dc_6f4f_11eb_9615_00d861116937row5_col13,#T_3a9039dc_6f4f_11eb_9615_00d861116937row6_col13,#T_3a9039dc_6f4f_11eb_9615_00d861116937row9_col12{\n",
       "            background-color:  #b3cdfb;\n",
       "            color:  #000000;\n",
       "        }#T_3a9039dc_6f4f_11eb_9615_00d861116937row5_col16,#T_3a9039dc_6f4f_11eb_9615_00d861116937row5_col17,#T_3a9039dc_6f4f_11eb_9615_00d861116937row13_col17{\n",
       "            background-color:  #efcfbf;\n",
       "            color:  #000000;\n",
       "        }#T_3a9039dc_6f4f_11eb_9615_00d861116937row6_col1,#T_3a9039dc_6f4f_11eb_9615_00d861116937row8_col14,#T_3a9039dc_6f4f_11eb_9615_00d861116937row15_col0{\n",
       "            background-color:  #6485ec;\n",
       "            color:  #000000;\n",
       "        }#T_3a9039dc_6f4f_11eb_9615_00d861116937row6_col2,#T_3a9039dc_6f4f_11eb_9615_00d861116937row8_col12,#T_3a9039dc_6f4f_11eb_9615_00d861116937row12_col0{\n",
       "            background-color:  #81a4fb;\n",
       "            color:  #000000;\n",
       "        }#T_3a9039dc_6f4f_11eb_9615_00d861116937row6_col3,#T_3a9039dc_6f4f_11eb_9615_00d861116937row8_col5,#T_3a9039dc_6f4f_11eb_9615_00d861116937row10_col12,#T_3a9039dc_6f4f_11eb_9615_00d861116937row11_col18{\n",
       "            background-color:  #8badfd;\n",
       "            color:  #000000;\n",
       "        }#T_3a9039dc_6f4f_11eb_9615_00d861116937row6_col4{\n",
       "            background-color:  #bfd3f6;\n",
       "            color:  #000000;\n",
       "        }#T_3a9039dc_6f4f_11eb_9615_00d861116937row6_col8,#T_3a9039dc_6f4f_11eb_9615_00d861116937row10_col15,#T_3a9039dc_6f4f_11eb_9615_00d861116937row12_col2,#T_3a9039dc_6f4f_11eb_9615_00d861116937row18_col5{\n",
       "            background-color:  #779af7;\n",
       "            color:  #000000;\n",
       "        }#T_3a9039dc_6f4f_11eb_9615_00d861116937row6_col10,#T_3a9039dc_6f4f_11eb_9615_00d861116937row8_col11{\n",
       "            background-color:  #7a9df8;\n",
       "            color:  #000000;\n",
       "        }#T_3a9039dc_6f4f_11eb_9615_00d861116937row6_col18,#T_3a9039dc_6f4f_11eb_9615_00d861116937row8_col2{\n",
       "            background-color:  #89acfd;\n",
       "            color:  #000000;\n",
       "        }#T_3a9039dc_6f4f_11eb_9615_00d861116937row7_col0,#T_3a9039dc_6f4f_11eb_9615_00d861116937row7_col18{\n",
       "            background-color:  #536edd;\n",
       "            color:  #000000;\n",
       "        }#T_3a9039dc_6f4f_11eb_9615_00d861116937row7_col2{\n",
       "            background-color:  #9bbcff;\n",
       "            color:  #000000;\n",
       "        }#T_3a9039dc_6f4f_11eb_9615_00d861116937row7_col3,#T_3a9039dc_6f4f_11eb_9615_00d861116937row12_col16{\n",
       "            background-color:  #dcdddd;\n",
       "            color:  #000000;\n",
       "        }#T_3a9039dc_6f4f_11eb_9615_00d861116937row7_col4,#T_3a9039dc_6f4f_11eb_9615_00d861116937row18_col3{\n",
       "            background-color:  #3e51c5;\n",
       "            color:  #f1f1f1;\n",
       "        }#T_3a9039dc_6f4f_11eb_9615_00d861116937row7_col10,#T_3a9039dc_6f4f_11eb_9615_00d861116937row11_col13,#T_3a9039dc_6f4f_11eb_9615_00d861116937row16_col14{\n",
       "            background-color:  #cedaeb;\n",
       "            color:  #000000;\n",
       "        }#T_3a9039dc_6f4f_11eb_9615_00d861116937row7_col16,#T_3a9039dc_6f4f_11eb_9615_00d861116937row11_col0,#T_3a9039dc_6f4f_11eb_9615_00d861116937row16_col10,#T_3a9039dc_6f4f_11eb_9615_00d861116937row17_col2{\n",
       "            background-color:  #82a6fb;\n",
       "            color:  #000000;\n",
       "        }#T_3a9039dc_6f4f_11eb_9615_00d861116937row8_col3{\n",
       "            background-color:  #e5d8d1;\n",
       "            color:  #000000;\n",
       "        }#T_3a9039dc_6f4f_11eb_9615_00d861116937row8_col6{\n",
       "            background-color:  #97b8ff;\n",
       "            color:  #000000;\n",
       "        }#T_3a9039dc_6f4f_11eb_9615_00d861116937row8_col7,#T_3a9039dc_6f4f_11eb_9615_00d861116937row10_col9,#T_3a9039dc_6f4f_11eb_9615_00d861116937row16_col11{\n",
       "            background-color:  #b7cff9;\n",
       "            color:  #000000;\n",
       "        }#T_3a9039dc_6f4f_11eb_9615_00d861116937row8_col10,#T_3a9039dc_6f4f_11eb_9615_00d861116937row15_col18{\n",
       "            background-color:  #b5cdfa;\n",
       "            color:  #000000;\n",
       "        }#T_3a9039dc_6f4f_11eb_9615_00d861116937row9_col1{\n",
       "            background-color:  #9ebeff;\n",
       "            color:  #000000;\n",
       "        }#T_3a9039dc_6f4f_11eb_9615_00d861116937row9_col2,#T_3a9039dc_6f4f_11eb_9615_00d861116937row9_col5,#T_3a9039dc_6f4f_11eb_9615_00d861116937row16_col4{\n",
       "            background-color:  #8caffe;\n",
       "            color:  #000000;\n",
       "        }#T_3a9039dc_6f4f_11eb_9615_00d861116937row9_col4,#T_3a9039dc_6f4f_11eb_9615_00d861116937row13_col4,#T_3a9039dc_6f4f_11eb_9615_00d861116937row18_col11{\n",
       "            background-color:  #4257c9;\n",
       "            color:  #f1f1f1;\n",
       "        }#T_3a9039dc_6f4f_11eb_9615_00d861116937row9_col7{\n",
       "            background-color:  #b2ccfb;\n",
       "            color:  #000000;\n",
       "        }#T_3a9039dc_6f4f_11eb_9615_00d861116937row9_col8,#T_3a9039dc_6f4f_11eb_9615_00d861116937row10_col8,#T_3a9039dc_6f4f_11eb_9615_00d861116937row13_col12,#T_3a9039dc_6f4f_11eb_9615_00d861116937row15_col6{\n",
       "            background-color:  #a3c2fe;\n",
       "            color:  #000000;\n",
       "        }#T_3a9039dc_6f4f_11eb_9615_00d861116937row9_col10{\n",
       "            background-color:  #c6d6f1;\n",
       "            color:  #000000;\n",
       "        }#T_3a9039dc_6f4f_11eb_9615_00d861116937row9_col14,#T_3a9039dc_6f4f_11eb_9615_00d861116937row14_col1,#T_3a9039dc_6f4f_11eb_9615_00d861116937row14_col9{\n",
       "            background-color:  #5f7fe8;\n",
       "            color:  #000000;\n",
       "        }#T_3a9039dc_6f4f_11eb_9615_00d861116937row9_col17{\n",
       "            background-color:  #e6d7cf;\n",
       "            color:  #000000;\n",
       "        }#T_3a9039dc_6f4f_11eb_9615_00d861116937row10_col0{\n",
       "            background-color:  #4961d2;\n",
       "            color:  #f1f1f1;\n",
       "        }#T_3a9039dc_6f4f_11eb_9615_00d861116937row10_col1,#T_3a9039dc_6f4f_11eb_9615_00d861116937row11_col7,#T_3a9039dc_6f4f_11eb_9615_00d861116937row16_col8{\n",
       "            background-color:  #8fb1fe;\n",
       "            color:  #000000;\n",
       "        }#T_3a9039dc_6f4f_11eb_9615_00d861116937row10_col3{\n",
       "            background-color:  #dedcdb;\n",
       "            color:  #000000;\n",
       "        }#T_3a9039dc_6f4f_11eb_9615_00d861116937row10_col7,#T_3a9039dc_6f4f_11eb_9615_00d861116937row17_col10{\n",
       "            background-color:  #cdd9ec;\n",
       "            color:  #000000;\n",
       "        }#T_3a9039dc_6f4f_11eb_9615_00d861116937row10_col13{\n",
       "            background-color:  #f1ccb8;\n",
       "            color:  #000000;\n",
       "        }#T_3a9039dc_6f4f_11eb_9615_00d861116937row10_col14{\n",
       "            background-color:  #485fd1;\n",
       "            color:  #f1f1f1;\n",
       "        }#T_3a9039dc_6f4f_11eb_9615_00d861116937row10_col18{\n",
       "            background-color:  #516ddb;\n",
       "            color:  #000000;\n",
       "        }#T_3a9039dc_6f4f_11eb_9615_00d861116937row11_col2,#T_3a9039dc_6f4f_11eb_9615_00d861116937row11_col15,#T_3a9039dc_6f4f_11eb_9615_00d861116937row13_col16{\n",
       "            background-color:  #7da0f9;\n",
       "            color:  #000000;\n",
       "        }#T_3a9039dc_6f4f_11eb_9615_00d861116937row11_col4{\n",
       "            background-color:  #4e68d8;\n",
       "            color:  #000000;\n",
       "        }#T_3a9039dc_6f4f_11eb_9615_00d861116937row11_col9{\n",
       "            background-color:  #bbd1f8;\n",
       "            color:  #000000;\n",
       "        }#T_3a9039dc_6f4f_11eb_9615_00d861116937row11_col12,#T_3a9039dc_6f4f_11eb_9615_00d861116937row17_col9{\n",
       "            background-color:  #dadce0;\n",
       "            color:  #000000;\n",
       "        }#T_3a9039dc_6f4f_11eb_9615_00d861116937row11_col16{\n",
       "            background-color:  #dbdcde;\n",
       "            color:  #000000;\n",
       "        }#T_3a9039dc_6f4f_11eb_9615_00d861116937row12_col3{\n",
       "            background-color:  #d9dce1;\n",
       "            color:  #000000;\n",
       "        }#T_3a9039dc_6f4f_11eb_9615_00d861116937row12_col9,#T_3a9039dc_6f4f_11eb_9615_00d861116937row13_col1{\n",
       "            background-color:  #c1d4f4;\n",
       "            color:  #000000;\n",
       "        }#T_3a9039dc_6f4f_11eb_9615_00d861116937row12_col10{\n",
       "            background-color:  #afcafc;\n",
       "            color:  #000000;\n",
       "        }#T_3a9039dc_6f4f_11eb_9615_00d861116937row12_col15{\n",
       "            background-color:  #7597f6;\n",
       "            color:  #000000;\n",
       "        }#T_3a9039dc_6f4f_11eb_9615_00d861116937row13_col0,#T_3a9039dc_6f4f_11eb_9615_00d861116937row16_col2,#T_3a9039dc_6f4f_11eb_9615_00d861116937row18_col12{\n",
       "            background-color:  #4f69d9;\n",
       "            color:  #000000;\n",
       "        }#T_3a9039dc_6f4f_11eb_9615_00d861116937row13_col2{\n",
       "            background-color:  #bad0f8;\n",
       "            color:  #000000;\n",
       "        }#T_3a9039dc_6f4f_11eb_9615_00d861116937row13_col3{\n",
       "            background-color:  #f39778;\n",
       "            color:  #000000;\n",
       "        }#T_3a9039dc_6f4f_11eb_9615_00d861116937row13_col6{\n",
       "            background-color:  #aac7fd;\n",
       "            color:  #000000;\n",
       "        }#T_3a9039dc_6f4f_11eb_9615_00d861116937row13_col7{\n",
       "            background-color:  #dfdbd9;\n",
       "            color:  #000000;\n",
       "        }#T_3a9039dc_6f4f_11eb_9615_00d861116937row13_col8,#T_3a9039dc_6f4f_11eb_9615_00d861116937row16_col12,#T_3a9039dc_6f4f_11eb_9615_00d861116937row18_col16{\n",
       "            background-color:  #bed2f6;\n",
       "            color:  #000000;\n",
       "        }#T_3a9039dc_6f4f_11eb_9615_00d861116937row13_col10{\n",
       "            background-color:  #ebd3c6;\n",
       "            color:  #000000;\n",
       "        }#T_3a9039dc_6f4f_11eb_9615_00d861116937row13_col15{\n",
       "            background-color:  #5a78e4;\n",
       "            color:  #000000;\n",
       "        }#T_3a9039dc_6f4f_11eb_9615_00d861116937row14_col2{\n",
       "            background-color:  #5572df;\n",
       "            color:  #000000;\n",
       "        }#T_3a9039dc_6f4f_11eb_9615_00d861116937row14_col4,#T_3a9039dc_6f4f_11eb_9615_00d861116937row18_col4{\n",
       "            background-color:  #455cce;\n",
       "            color:  #f1f1f1;\n",
       "        }#T_3a9039dc_6f4f_11eb_9615_00d861116937row14_col7,#T_3a9039dc_6f4f_11eb_9615_00d861116937row15_col14,#T_3a9039dc_6f4f_11eb_9615_00d861116937row18_col17{\n",
       "            background-color:  #5875e1;\n",
       "            color:  #000000;\n",
       "        }#T_3a9039dc_6f4f_11eb_9615_00d861116937row14_col8,#T_3a9039dc_6f4f_11eb_9615_00d861116937row15_col2{\n",
       "            background-color:  #6788ee;\n",
       "            color:  #000000;\n",
       "        }#T_3a9039dc_6f4f_11eb_9615_00d861116937row14_col18{\n",
       "            background-color:  #c7d7f0;\n",
       "            color:  #000000;\n",
       "        }#T_3a9039dc_6f4f_11eb_9615_00d861116937row15_col4{\n",
       "            background-color:  #3d50c3;\n",
       "            color:  #f1f1f1;\n",
       "        }#T_3a9039dc_6f4f_11eb_9615_00d861116937row16_col3,#T_3a9039dc_6f4f_11eb_9615_00d861116937row17_col8{\n",
       "            background-color:  #d3dbe7;\n",
       "            color:  #000000;\n",
       "        }#T_3a9039dc_6f4f_11eb_9615_00d861116937row16_col17{\n",
       "            background-color:  #f59d7e;\n",
       "            color:  #000000;\n",
       "        }#T_3a9039dc_6f4f_11eb_9615_00d861116937row16_col18,#T_3a9039dc_6f4f_11eb_9615_00d861116937row17_col1,#T_3a9039dc_6f4f_11eb_9615_00d861116937row17_col7{\n",
       "            background-color:  #c5d6f2;\n",
       "            color:  #000000;\n",
       "        }#T_3a9039dc_6f4f_11eb_9615_00d861116937row17_col3{\n",
       "            background-color:  #dd5f4b;\n",
       "            color:  #000000;\n",
       "        }#T_3a9039dc_6f4f_11eb_9615_00d861116937row17_col5{\n",
       "            background-color:  #e3d9d3;\n",
       "            color:  #000000;\n",
       "        }#T_3a9039dc_6f4f_11eb_9615_00d861116937row17_col11{\n",
       "            background-color:  #ccd9ed;\n",
       "            color:  #000000;\n",
       "        }#T_3a9039dc_6f4f_11eb_9615_00d861116937row17_col13{\n",
       "            background-color:  #f2cab5;\n",
       "            color:  #000000;\n",
       "        }#T_3a9039dc_6f4f_11eb_9615_00d861116937row17_col16{\n",
       "            background-color:  #f49a7b;\n",
       "            color:  #000000;\n",
       "        }#T_3a9039dc_6f4f_11eb_9615_00d861116937row18_col6{\n",
       "            background-color:  #7ea1fa;\n",
       "            color:  #000000;\n",
       "        }#T_3a9039dc_6f4f_11eb_9615_00d861116937row18_col14{\n",
       "            background-color:  #a5c3fe;\n",
       "            color:  #000000;\n",
       "        }#T_3a9039dc_6f4f_11eb_9615_00d861116937row18_col15{\n",
       "            background-color:  #aec9fc;\n",
       "            color:  #000000;\n",
       "        }</style><table id=\"T_3a9039dc_6f4f_11eb_9615_00d861116937\" ><thead>    <tr>        <th class=\"blank level0\" ></th>        <th class=\"col_heading level0 col0\" >SeniorCitizen</th>        <th class=\"col_heading level0 col1\" >Partner</th>        <th class=\"col_heading level0 col2\" >Dependents</th>        <th class=\"col_heading level0 col3\" >tenure</th>        <th class=\"col_heading level0 col4\" >PhoneService</th>        <th class=\"col_heading level0 col5\" >MultipleLines</th>        <th class=\"col_heading level0 col6\" >InternetService</th>        <th class=\"col_heading level0 col7\" >OnlineSecurity</th>        <th class=\"col_heading level0 col8\" >OnlineBackup</th>        <th class=\"col_heading level0 col9\" >DeviceProtection</th>        <th class=\"col_heading level0 col10\" >TechSupport</th>        <th class=\"col_heading level0 col11\" >StreamingTV</th>        <th class=\"col_heading level0 col12\" >StreamingMovies</th>        <th class=\"col_heading level0 col13\" >Contract</th>        <th class=\"col_heading level0 col14\" >PaperlessBilling</th>        <th class=\"col_heading level0 col15\" >PaymentMethod</th>        <th class=\"col_heading level0 col16\" >MonthlyCharges</th>        <th class=\"col_heading level0 col17\" >TotalCharges</th>        <th class=\"col_heading level0 col18\" >Churn</th>    </tr></thead><tbody>\n",
       "                <tr>\n",
       "                        <th id=\"T_3a9039dc_6f4f_11eb_9615_00d861116937level0_row0\" class=\"row_heading level0 row0\" >SeniorCitizen</th>\n",
       "                        <td id=\"T_3a9039dc_6f4f_11eb_9615_00d861116937row0_col0\" class=\"data row0 col0\" >1.000000</td>\n",
       "                        <td id=\"T_3a9039dc_6f4f_11eb_9615_00d861116937row0_col1\" class=\"data row0 col1\" >0.018431</td>\n",
       "                        <td id=\"T_3a9039dc_6f4f_11eb_9615_00d861116937row0_col2\" class=\"data row0 col2\" >-0.218755</td>\n",
       "                        <td id=\"T_3a9039dc_6f4f_11eb_9615_00d861116937row0_col3\" class=\"data row0 col3\" >0.025223</td>\n",
       "                        <td id=\"T_3a9039dc_6f4f_11eb_9615_00d861116937row0_col4\" class=\"data row0 col4\" >-0.004625</td>\n",
       "                        <td id=\"T_3a9039dc_6f4f_11eb_9615_00d861116937row0_col5\" class=\"data row0 col5\" >0.152894</td>\n",
       "                        <td id=\"T_3a9039dc_6f4f_11eb_9615_00d861116937row0_col6\" class=\"data row0 col6\" >-0.036384</td>\n",
       "                        <td id=\"T_3a9039dc_6f4f_11eb_9615_00d861116937row0_col7\" class=\"data row0 col7\" >-0.121767</td>\n",
       "                        <td id=\"T_3a9039dc_6f4f_11eb_9615_00d861116937row0_col8\" class=\"data row0 col8\" >-0.000367</td>\n",
       "                        <td id=\"T_3a9039dc_6f4f_11eb_9615_00d861116937row0_col9\" class=\"data row0 col9\" >-0.032974</td>\n",
       "                        <td id=\"T_3a9039dc_6f4f_11eb_9615_00d861116937row0_col10\" class=\"data row0 col10\" >-0.159061</td>\n",
       "                        <td id=\"T_3a9039dc_6f4f_11eb_9615_00d861116937row0_col11\" class=\"data row0 col11\" >0.050436</td>\n",
       "                        <td id=\"T_3a9039dc_6f4f_11eb_9615_00d861116937row0_col12\" class=\"data row0 col12\" >0.046828</td>\n",
       "                        <td id=\"T_3a9039dc_6f4f_11eb_9615_00d861116937row0_col13\" class=\"data row0 col13\" >-0.136839</td>\n",
       "                        <td id=\"T_3a9039dc_6f4f_11eb_9615_00d861116937row0_col14\" class=\"data row0 col14\" >0.159340</td>\n",
       "                        <td id=\"T_3a9039dc_6f4f_11eb_9615_00d861116937row0_col15\" class=\"data row0 col15\" >-0.053205</td>\n",
       "                        <td id=\"T_3a9039dc_6f4f_11eb_9615_00d861116937row0_col16\" class=\"data row0 col16\" >0.232064</td>\n",
       "                        <td id=\"T_3a9039dc_6f4f_11eb_9615_00d861116937row0_col17\" class=\"data row0 col17\" >0.116250</td>\n",
       "                        <td id=\"T_3a9039dc_6f4f_11eb_9615_00d861116937row0_col18\" class=\"data row0 col18\" >0.130071</td>\n",
       "            </tr>\n",
       "            <tr>\n",
       "                        <th id=\"T_3a9039dc_6f4f_11eb_9615_00d861116937level0_row1\" class=\"row_heading level0 row1\" >Partner</th>\n",
       "                        <td id=\"T_3a9039dc_6f4f_11eb_9615_00d861116937row1_col0\" class=\"data row1 col0\" >0.018431</td>\n",
       "                        <td id=\"T_3a9039dc_6f4f_11eb_9615_00d861116937row1_col1\" class=\"data row1 col1\" >1.000000</td>\n",
       "                        <td id=\"T_3a9039dc_6f4f_11eb_9615_00d861116937row1_col2\" class=\"data row1 col2\" >0.450529</td>\n",
       "                        <td id=\"T_3a9039dc_6f4f_11eb_9615_00d861116937row1_col3\" class=\"data row1 col3\" >0.379988</td>\n",
       "                        <td id=\"T_3a9039dc_6f4f_11eb_9615_00d861116937row1_col4\" class=\"data row1 col4\" >0.012371</td>\n",
       "                        <td id=\"T_3a9039dc_6f4f_11eb_9615_00d861116937row1_col5\" class=\"data row1 col5\" >0.144982</td>\n",
       "                        <td id=\"T_3a9039dc_6f4f_11eb_9615_00d861116937row1_col6\" class=\"data row1 col6\" >-0.004475</td>\n",
       "                        <td id=\"T_3a9039dc_6f4f_11eb_9615_00d861116937row1_col7\" class=\"data row1 col7\" >0.148978</td>\n",
       "                        <td id=\"T_3a9039dc_6f4f_11eb_9615_00d861116937row1_col8\" class=\"data row1 col8\" >0.138362</td>\n",
       "                        <td id=\"T_3a9039dc_6f4f_11eb_9615_00d861116937row1_col9\" class=\"data row1 col9\" >0.183674</td>\n",
       "                        <td id=\"T_3a9039dc_6f4f_11eb_9615_00d861116937row1_col10\" class=\"data row1 col10\" >0.134434</td>\n",
       "                        <td id=\"T_3a9039dc_6f4f_11eb_9615_00d861116937row1_col11\" class=\"data row1 col11\" >0.136705</td>\n",
       "                        <td id=\"T_3a9039dc_6f4f_11eb_9615_00d861116937row1_col12\" class=\"data row1 col12\" >0.139423</td>\n",
       "                        <td id=\"T_3a9039dc_6f4f_11eb_9615_00d861116937row1_col13\" class=\"data row1 col13\" >0.305503</td>\n",
       "                        <td id=\"T_3a9039dc_6f4f_11eb_9615_00d861116937row1_col14\" class=\"data row1 col14\" >-0.024143</td>\n",
       "                        <td id=\"T_3a9039dc_6f4f_11eb_9615_00d861116937row1_col15\" class=\"data row1 col15\" >-0.158986</td>\n",
       "                        <td id=\"T_3a9039dc_6f4f_11eb_9615_00d861116937row1_col16\" class=\"data row1 col16\" >0.100603</td>\n",
       "                        <td id=\"T_3a9039dc_6f4f_11eb_9615_00d861116937row1_col17\" class=\"data row1 col17\" >0.318846</td>\n",
       "                        <td id=\"T_3a9039dc_6f4f_11eb_9615_00d861116937row1_col18\" class=\"data row1 col18\" >-0.163311</td>\n",
       "            </tr>\n",
       "            <tr>\n",
       "                        <th id=\"T_3a9039dc_6f4f_11eb_9615_00d861116937level0_row2\" class=\"row_heading level0 row2\" >Dependents</th>\n",
       "                        <td id=\"T_3a9039dc_6f4f_11eb_9615_00d861116937row2_col0\" class=\"data row2 col0\" >-0.218755</td>\n",
       "                        <td id=\"T_3a9039dc_6f4f_11eb_9615_00d861116937row2_col1\" class=\"data row2 col1\" >0.450529</td>\n",
       "                        <td id=\"T_3a9039dc_6f4f_11eb_9615_00d861116937row2_col2\" class=\"data row2 col2\" >1.000000</td>\n",
       "                        <td id=\"T_3a9039dc_6f4f_11eb_9615_00d861116937row2_col3\" class=\"data row2 col3\" >0.152354</td>\n",
       "                        <td id=\"T_3a9039dc_6f4f_11eb_9615_00d861116937row2_col4\" class=\"data row2 col4\" >-0.021254</td>\n",
       "                        <td id=\"T_3a9039dc_6f4f_11eb_9615_00d861116937row2_col5\" class=\"data row2 col5\" >-0.032364</td>\n",
       "                        <td id=\"T_3a9039dc_6f4f_11eb_9615_00d861116937row2_col6\" class=\"data row2 col6\" >0.044728</td>\n",
       "                        <td id=\"T_3a9039dc_6f4f_11eb_9615_00d861116937row2_col7\" class=\"data row2 col7\" >0.137849</td>\n",
       "                        <td id=\"T_3a9039dc_6f4f_11eb_9615_00d861116937row2_col8\" class=\"data row2 col8\" >0.074533</td>\n",
       "                        <td id=\"T_3a9039dc_6f4f_11eb_9615_00d861116937row2_col9\" class=\"data row2 col9\" >0.082724</td>\n",
       "                        <td id=\"T_3a9039dc_6f4f_11eb_9615_00d861116937row2_col10\" class=\"data row2 col10\" >0.129567</td>\n",
       "                        <td id=\"T_3a9039dc_6f4f_11eb_9615_00d861116937row2_col11\" class=\"data row2 col11\" >0.033368</td>\n",
       "                        <td id=\"T_3a9039dc_6f4f_11eb_9615_00d861116937row2_col12\" class=\"data row2 col12\" >0.013728</td>\n",
       "                        <td id=\"T_3a9039dc_6f4f_11eb_9615_00d861116937row2_col13\" class=\"data row2 col13\" >0.245016</td>\n",
       "                        <td id=\"T_3a9039dc_6f4f_11eb_9615_00d861116937row2_col14\" class=\"data row2 col14\" >-0.113844</td>\n",
       "                        <td id=\"T_3a9039dc_6f4f_11eb_9615_00d861116937row2_col15\" class=\"data row2 col15\" >-0.043352</td>\n",
       "                        <td id=\"T_3a9039dc_6f4f_11eb_9615_00d861116937row2_col16\" class=\"data row2 col16\" >-0.134437</td>\n",
       "                        <td id=\"T_3a9039dc_6f4f_11eb_9615_00d861116937row2_col17\" class=\"data row2 col17\" >0.048533</td>\n",
       "                        <td id=\"T_3a9039dc_6f4f_11eb_9615_00d861116937row2_col18\" class=\"data row2 col18\" >-0.166864</td>\n",
       "            </tr>\n",
       "            <tr>\n",
       "                        <th id=\"T_3a9039dc_6f4f_11eb_9615_00d861116937level0_row3\" class=\"row_heading level0 row3\" >tenure</th>\n",
       "                        <td id=\"T_3a9039dc_6f4f_11eb_9615_00d861116937row3_col0\" class=\"data row3 col0\" >0.025223</td>\n",
       "                        <td id=\"T_3a9039dc_6f4f_11eb_9615_00d861116937row3_col1\" class=\"data row3 col1\" >0.379988</td>\n",
       "                        <td id=\"T_3a9039dc_6f4f_11eb_9615_00d861116937row3_col2\" class=\"data row3 col2\" >0.152354</td>\n",
       "                        <td id=\"T_3a9039dc_6f4f_11eb_9615_00d861116937row3_col3\" class=\"data row3 col3\" >1.000000</td>\n",
       "                        <td id=\"T_3a9039dc_6f4f_11eb_9615_00d861116937row3_col4\" class=\"data row3 col4\" >0.014047</td>\n",
       "                        <td id=\"T_3a9039dc_6f4f_11eb_9615_00d861116937row3_col5\" class=\"data row3 col5\" >0.341655</td>\n",
       "                        <td id=\"T_3a9039dc_6f4f_11eb_9615_00d861116937row3_col6\" class=\"data row3 col6\" >-0.024615</td>\n",
       "                        <td id=\"T_3a9039dc_6f4f_11eb_9615_00d861116937row3_col7\" class=\"data row3 col7\" >0.319470</td>\n",
       "                        <td id=\"T_3a9039dc_6f4f_11eb_9615_00d861116937row3_col8\" class=\"data row3 col8\" >0.364355</td>\n",
       "                        <td id=\"T_3a9039dc_6f4f_11eb_9615_00d861116937row3_col9\" class=\"data row3 col9\" >0.380608</td>\n",
       "                        <td id=\"T_3a9039dc_6f4f_11eb_9615_00d861116937row3_col10\" class=\"data row3 col10\" >0.327923</td>\n",
       "                        <td id=\"T_3a9039dc_6f4f_11eb_9615_00d861116937row3_col11\" class=\"data row3 col11\" >0.300119</td>\n",
       "                        <td id=\"T_3a9039dc_6f4f_11eb_9615_00d861116937row3_col12\" class=\"data row3 col12\" >0.303016</td>\n",
       "                        <td id=\"T_3a9039dc_6f4f_11eb_9615_00d861116937row3_col13\" class=\"data row3 col13\" >0.668328</td>\n",
       "                        <td id=\"T_3a9039dc_6f4f_11eb_9615_00d861116937row3_col14\" class=\"data row3 col14\" >0.004183</td>\n",
       "                        <td id=\"T_3a9039dc_6f4f_11eb_9615_00d861116937row3_col15\" class=\"data row3 col15\" >-0.356886</td>\n",
       "                        <td id=\"T_3a9039dc_6f4f_11eb_9615_00d861116937row3_col16\" class=\"data row3 col16\" >0.270253</td>\n",
       "                        <td id=\"T_3a9039dc_6f4f_11eb_9615_00d861116937row3_col17\" class=\"data row3 col17\" >0.830457</td>\n",
       "                        <td id=\"T_3a9039dc_6f4f_11eb_9615_00d861116937row3_col18\" class=\"data row3 col18\" >-0.340974</td>\n",
       "            </tr>\n",
       "            <tr>\n",
       "                        <th id=\"T_3a9039dc_6f4f_11eb_9615_00d861116937level0_row4\" class=\"row_heading level0 row4\" >PhoneService</th>\n",
       "                        <td id=\"T_3a9039dc_6f4f_11eb_9615_00d861116937row4_col0\" class=\"data row4 col0\" >-0.004625</td>\n",
       "                        <td id=\"T_3a9039dc_6f4f_11eb_9615_00d861116937row4_col1\" class=\"data row4 col1\" >0.012371</td>\n",
       "                        <td id=\"T_3a9039dc_6f4f_11eb_9615_00d861116937row4_col2\" class=\"data row4 col2\" >-0.021254</td>\n",
       "                        <td id=\"T_3a9039dc_6f4f_11eb_9615_00d861116937row4_col3\" class=\"data row4 col3\" >0.014047</td>\n",
       "                        <td id=\"T_3a9039dc_6f4f_11eb_9615_00d861116937row4_col4\" class=\"data row4 col4\" >1.000000</td>\n",
       "                        <td id=\"T_3a9039dc_6f4f_11eb_9615_00d861116937row4_col5\" class=\"data row4 col5\" >-0.017107</td>\n",
       "                        <td id=\"T_3a9039dc_6f4f_11eb_9615_00d861116937row4_col6\" class=\"data row4 col6\" >0.385471</td>\n",
       "                        <td id=\"T_3a9039dc_6f4f_11eb_9615_00d861116937row4_col7\" class=\"data row4 col7\" >-0.008622</td>\n",
       "                        <td id=\"T_3a9039dc_6f4f_11eb_9615_00d861116937row4_col8\" class=\"data row4 col8\" >0.011699</td>\n",
       "                        <td id=\"T_3a9039dc_6f4f_11eb_9615_00d861116937row4_col9\" class=\"data row4 col9\" >0.003388</td>\n",
       "                        <td id=\"T_3a9039dc_6f4f_11eb_9615_00d861116937row4_col10\" class=\"data row4 col10\" >-0.014555</td>\n",
       "                        <td id=\"T_3a9039dc_6f4f_11eb_9615_00d861116937row4_col11\" class=\"data row4 col11\" >0.044317</td>\n",
       "                        <td id=\"T_3a9039dc_6f4f_11eb_9615_00d861116937row4_col12\" class=\"data row4 col12\" >0.037532</td>\n",
       "                        <td id=\"T_3a9039dc_6f4f_11eb_9615_00d861116937row4_col13\" class=\"data row4 col13\" >0.004539</td>\n",
       "                        <td id=\"T_3a9039dc_6f4f_11eb_9615_00d861116937row4_col14\" class=\"data row4 col14\" >0.015820</td>\n",
       "                        <td id=\"T_3a9039dc_6f4f_11eb_9615_00d861116937row4_col15\" class=\"data row4 col15\" >-0.012461</td>\n",
       "                        <td id=\"T_3a9039dc_6f4f_11eb_9615_00d861116937row4_col16\" class=\"data row4 col16\" >0.233180</td>\n",
       "                        <td id=\"T_3a9039dc_6f4f_11eb_9615_00d861116937row4_col17\" class=\"data row4 col17\" >0.111107</td>\n",
       "                        <td id=\"T_3a9039dc_6f4f_11eb_9615_00d861116937row4_col18\" class=\"data row4 col18\" >0.015068</td>\n",
       "            </tr>\n",
       "            <tr>\n",
       "                        <th id=\"T_3a9039dc_6f4f_11eb_9615_00d861116937level0_row5\" class=\"row_heading level0 row5\" >MultipleLines</th>\n",
       "                        <td id=\"T_3a9039dc_6f4f_11eb_9615_00d861116937row5_col0\" class=\"data row5 col0\" >0.152894</td>\n",
       "                        <td id=\"T_3a9039dc_6f4f_11eb_9615_00d861116937row5_col1\" class=\"data row5 col1\" >0.144982</td>\n",
       "                        <td id=\"T_3a9039dc_6f4f_11eb_9615_00d861116937row5_col2\" class=\"data row5 col2\" >-0.032364</td>\n",
       "                        <td id=\"T_3a9039dc_6f4f_11eb_9615_00d861116937row5_col3\" class=\"data row5 col3\" >0.341655</td>\n",
       "                        <td id=\"T_3a9039dc_6f4f_11eb_9615_00d861116937row5_col4\" class=\"data row5 col4\" >-0.017107</td>\n",
       "                        <td id=\"T_3a9039dc_6f4f_11eb_9615_00d861116937row5_col5\" class=\"data row5 col5\" >1.000000</td>\n",
       "                        <td id=\"T_3a9039dc_6f4f_11eb_9615_00d861116937row5_col6\" class=\"data row5 col6\" >-0.100123</td>\n",
       "                        <td id=\"T_3a9039dc_6f4f_11eb_9615_00d861116937row5_col7\" class=\"data row5 col7\" >0.003102</td>\n",
       "                        <td id=\"T_3a9039dc_6f4f_11eb_9615_00d861116937row5_col8\" class=\"data row5 col8\" >0.120643</td>\n",
       "                        <td id=\"T_3a9039dc_6f4f_11eb_9615_00d861116937row5_col9\" class=\"data row5 col9\" >0.123154</td>\n",
       "                        <td id=\"T_3a9039dc_6f4f_11eb_9615_00d861116937row5_col10\" class=\"data row5 col10\" >0.005981</td>\n",
       "                        <td id=\"T_3a9039dc_6f4f_11eb_9615_00d861116937row5_col11\" class=\"data row5 col11\" >0.165824</td>\n",
       "                        <td id=\"T_3a9039dc_6f4f_11eb_9615_00d861116937row5_col12\" class=\"data row5 col12\" >0.186787</td>\n",
       "                        <td id=\"T_3a9039dc_6f4f_11eb_9615_00d861116937row5_col13\" class=\"data row5 col13\" >0.106881</td>\n",
       "                        <td id=\"T_3a9039dc_6f4f_11eb_9615_00d861116937row5_col14\" class=\"data row5 col14\" >0.166620</td>\n",
       "                        <td id=\"T_3a9039dc_6f4f_11eb_9615_00d861116937row5_col15\" class=\"data row5 col15\" >-0.166195</td>\n",
       "                        <td id=\"T_3a9039dc_6f4f_11eb_9615_00d861116937row5_col16\" class=\"data row5 col16\" >0.434549</td>\n",
       "                        <td id=\"T_3a9039dc_6f4f_11eb_9615_00d861116937row5_col17\" class=\"data row5 col17\" >0.446636</td>\n",
       "                        <td id=\"T_3a9039dc_6f4f_11eb_9615_00d861116937row5_col18\" class=\"data row5 col18\" >0.056418</td>\n",
       "            </tr>\n",
       "            <tr>\n",
       "                        <th id=\"T_3a9039dc_6f4f_11eb_9615_00d861116937level0_row6\" class=\"row_heading level0 row6\" >InternetService</th>\n",
       "                        <td id=\"T_3a9039dc_6f4f_11eb_9615_00d861116937row6_col0\" class=\"data row6 col0\" >-0.036384</td>\n",
       "                        <td id=\"T_3a9039dc_6f4f_11eb_9615_00d861116937row6_col1\" class=\"data row6 col1\" >-0.004475</td>\n",
       "                        <td id=\"T_3a9039dc_6f4f_11eb_9615_00d861116937row6_col2\" class=\"data row6 col2\" >0.044728</td>\n",
       "                        <td id=\"T_3a9039dc_6f4f_11eb_9615_00d861116937row6_col3\" class=\"data row6 col3\" >-0.024615</td>\n",
       "                        <td id=\"T_3a9039dc_6f4f_11eb_9615_00d861116937row6_col4\" class=\"data row6 col4\" >0.385471</td>\n",
       "                        <td id=\"T_3a9039dc_6f4f_11eb_9615_00d861116937row6_col5\" class=\"data row6 col5\" >-0.100123</td>\n",
       "                        <td id=\"T_3a9039dc_6f4f_11eb_9615_00d861116937row6_col6\" class=\"data row6 col6\" >1.000000</td>\n",
       "                        <td id=\"T_3a9039dc_6f4f_11eb_9615_00d861116937row6_col7\" class=\"data row6 col7\" >-0.023326</td>\n",
       "                        <td id=\"T_3a9039dc_6f4f_11eb_9615_00d861116937row6_col8\" class=\"data row6 col8\" >0.035461</td>\n",
       "                        <td id=\"T_3a9039dc_6f4f_11eb_9615_00d861116937row6_col9\" class=\"data row6 col9\" >0.045766</td>\n",
       "                        <td id=\"T_3a9039dc_6f4f_11eb_9615_00d861116937row6_col10\" class=\"data row6 col10\" >-0.033635</td>\n",
       "                        <td id=\"T_3a9039dc_6f4f_11eb_9615_00d861116937row6_col11\" class=\"data row6 col11\" >0.102080</td>\n",
       "                        <td id=\"T_3a9039dc_6f4f_11eb_9615_00d861116937row6_col12\" class=\"data row6 col12\" >0.098709</td>\n",
       "                        <td id=\"T_3a9039dc_6f4f_11eb_9615_00d861116937row6_col13\" class=\"data row6 col13\" >0.106820</td>\n",
       "                        <td id=\"T_3a9039dc_6f4f_11eb_9615_00d861116937row6_col14\" class=\"data row6 col14\" >-0.139980</td>\n",
       "                        <td id=\"T_3a9039dc_6f4f_11eb_9615_00d861116937row6_col15\" class=\"data row6 col15\" >0.078537</td>\n",
       "                        <td id=\"T_3a9039dc_6f4f_11eb_9615_00d861116937row6_col16\" class=\"data row6 col16\" >-0.340691</td>\n",
       "                        <td id=\"T_3a9039dc_6f4f_11eb_9615_00d861116937row6_col17\" class=\"data row6 col17\" >-0.170358</td>\n",
       "                        <td id=\"T_3a9039dc_6f4f_11eb_9615_00d861116937row6_col18\" class=\"data row6 col18\" >-0.061099</td>\n",
       "            </tr>\n",
       "            <tr>\n",
       "                        <th id=\"T_3a9039dc_6f4f_11eb_9615_00d861116937level0_row7\" class=\"row_heading level0 row7\" >OnlineSecurity</th>\n",
       "                        <td id=\"T_3a9039dc_6f4f_11eb_9615_00d861116937row7_col0\" class=\"data row7 col0\" >-0.121767</td>\n",
       "                        <td id=\"T_3a9039dc_6f4f_11eb_9615_00d861116937row7_col1\" class=\"data row7 col1\" >0.148978</td>\n",
       "                        <td id=\"T_3a9039dc_6f4f_11eb_9615_00d861116937row7_col2\" class=\"data row7 col2\" >0.137849</td>\n",
       "                        <td id=\"T_3a9039dc_6f4f_11eb_9615_00d861116937row7_col3\" class=\"data row7 col3\" >0.319470</td>\n",
       "                        <td id=\"T_3a9039dc_6f4f_11eb_9615_00d861116937row7_col4\" class=\"data row7 col4\" >-0.008622</td>\n",
       "                        <td id=\"T_3a9039dc_6f4f_11eb_9615_00d861116937row7_col5\" class=\"data row7 col5\" >0.003102</td>\n",
       "                        <td id=\"T_3a9039dc_6f4f_11eb_9615_00d861116937row7_col6\" class=\"data row7 col6\" >-0.023326</td>\n",
       "                        <td id=\"T_3a9039dc_6f4f_11eb_9615_00d861116937row7_col7\" class=\"data row7 col7\" >1.000000</td>\n",
       "                        <td id=\"T_3a9039dc_6f4f_11eb_9615_00d861116937row7_col8\" class=\"data row7 col8\" >0.193404</td>\n",
       "                        <td id=\"T_3a9039dc_6f4f_11eb_9615_00d861116937row7_col9\" class=\"data row7 col9\" >0.176358</td>\n",
       "                        <td id=\"T_3a9039dc_6f4f_11eb_9615_00d861116937row7_col10\" class=\"data row7 col10\" >0.287738</td>\n",
       "                        <td id=\"T_3a9039dc_6f4f_11eb_9615_00d861116937row7_col11\" class=\"data row7 col11\" >0.043949</td>\n",
       "                        <td id=\"T_3a9039dc_6f4f_11eb_9615_00d861116937row7_col12\" class=\"data row7 col12\" >0.058698</td>\n",
       "                        <td id=\"T_3a9039dc_6f4f_11eb_9615_00d861116937row7_col13\" class=\"data row7 col13\" >0.369026</td>\n",
       "                        <td id=\"T_3a9039dc_6f4f_11eb_9615_00d861116937row7_col14\" class=\"data row7 col14\" >-0.158488</td>\n",
       "                        <td id=\"T_3a9039dc_6f4f_11eb_9615_00d861116937row7_col15\" class=\"data row7 col15\" >-0.085621</td>\n",
       "                        <td id=\"T_3a9039dc_6f4f_11eb_9615_00d861116937row7_col16\" class=\"data row7 col16\" >-0.045416</td>\n",
       "                        <td id=\"T_3a9039dc_6f4f_11eb_9615_00d861116937row7_col17\" class=\"data row7 col17\" >0.250601</td>\n",
       "                        <td id=\"T_3a9039dc_6f4f_11eb_9615_00d861116937row7_col18\" class=\"data row7 col18\" >-0.283758</td>\n",
       "            </tr>\n",
       "            <tr>\n",
       "                        <th id=\"T_3a9039dc_6f4f_11eb_9615_00d861116937level0_row8\" class=\"row_heading level0 row8\" >OnlineBackup</th>\n",
       "                        <td id=\"T_3a9039dc_6f4f_11eb_9615_00d861116937row8_col0\" class=\"data row8 col0\" >-0.000367</td>\n",
       "                        <td id=\"T_3a9039dc_6f4f_11eb_9615_00d861116937row8_col1\" class=\"data row8 col1\" >0.138362</td>\n",
       "                        <td id=\"T_3a9039dc_6f4f_11eb_9615_00d861116937row8_col2\" class=\"data row8 col2\" >0.074533</td>\n",
       "                        <td id=\"T_3a9039dc_6f4f_11eb_9615_00d861116937row8_col3\" class=\"data row8 col3\" >0.364355</td>\n",
       "                        <td id=\"T_3a9039dc_6f4f_11eb_9615_00d861116937row8_col4\" class=\"data row8 col4\" >0.011699</td>\n",
       "                        <td id=\"T_3a9039dc_6f4f_11eb_9615_00d861116937row8_col5\" class=\"data row8 col5\" >0.120643</td>\n",
       "                        <td id=\"T_3a9039dc_6f4f_11eb_9615_00d861116937row8_col6\" class=\"data row8 col6\" >0.035461</td>\n",
       "                        <td id=\"T_3a9039dc_6f4f_11eb_9615_00d861116937row8_col7\" class=\"data row8 col7\" >0.193404</td>\n",
       "                        <td id=\"T_3a9039dc_6f4f_11eb_9615_00d861116937row8_col8\" class=\"data row8 col8\" >1.000000</td>\n",
       "                        <td id=\"T_3a9039dc_6f4f_11eb_9615_00d861116937row8_col9\" class=\"data row8 col9\" >0.185109</td>\n",
       "                        <td id=\"T_3a9039dc_6f4f_11eb_9615_00d861116937row8_col10\" class=\"data row8 col10\" >0.184907</td>\n",
       "                        <td id=\"T_3a9039dc_6f4f_11eb_9615_00d861116937row8_col11\" class=\"data row8 col11\" >0.131655</td>\n",
       "                        <td id=\"T_3a9039dc_6f4f_11eb_9615_00d861116937row8_col12\" class=\"data row8 col12\" >0.132445</td>\n",
       "                        <td id=\"T_3a9039dc_6f4f_11eb_9615_00d861116937row8_col13\" class=\"data row8 col13\" >0.276039</td>\n",
       "                        <td id=\"T_3a9039dc_6f4f_11eb_9615_00d861116937row8_col14\" class=\"data row8 col14\" >-0.022147</td>\n",
       "                        <td id=\"T_3a9039dc_6f4f_11eb_9615_00d861116937row8_col15\" class=\"data row8 col15\" >-0.122324</td>\n",
       "                        <td id=\"T_3a9039dc_6f4f_11eb_9615_00d861116937row8_col16\" class=\"data row8 col16\" >0.112481</td>\n",
       "                        <td id=\"T_3a9039dc_6f4f_11eb_9615_00d861116937row8_col17\" class=\"data row8 col17\" >0.361800</td>\n",
       "                        <td id=\"T_3a9039dc_6f4f_11eb_9615_00d861116937row8_col18\" class=\"data row8 col18\" >-0.190661</td>\n",
       "            </tr>\n",
       "            <tr>\n",
       "                        <th id=\"T_3a9039dc_6f4f_11eb_9615_00d861116937level0_row9\" class=\"row_heading level0 row9\" >DeviceProtection</th>\n",
       "                        <td id=\"T_3a9039dc_6f4f_11eb_9615_00d861116937row9_col0\" class=\"data row9 col0\" >-0.032974</td>\n",
       "                        <td id=\"T_3a9039dc_6f4f_11eb_9615_00d861116937row9_col1\" class=\"data row9 col1\" >0.183674</td>\n",
       "                        <td id=\"T_3a9039dc_6f4f_11eb_9615_00d861116937row9_col2\" class=\"data row9 col2\" >0.082724</td>\n",
       "                        <td id=\"T_3a9039dc_6f4f_11eb_9615_00d861116937row9_col3\" class=\"data row9 col3\" >0.380608</td>\n",
       "                        <td id=\"T_3a9039dc_6f4f_11eb_9615_00d861116937row9_col4\" class=\"data row9 col4\" >0.003388</td>\n",
       "                        <td id=\"T_3a9039dc_6f4f_11eb_9615_00d861116937row9_col5\" class=\"data row9 col5\" >0.123154</td>\n",
       "                        <td id=\"T_3a9039dc_6f4f_11eb_9615_00d861116937row9_col6\" class=\"data row9 col6\" >0.045766</td>\n",
       "                        <td id=\"T_3a9039dc_6f4f_11eb_9615_00d861116937row9_col7\" class=\"data row9 col7\" >0.176358</td>\n",
       "                        <td id=\"T_3a9039dc_6f4f_11eb_9615_00d861116937row9_col8\" class=\"data row9 col8\" >0.185109</td>\n",
       "                        <td id=\"T_3a9039dc_6f4f_11eb_9615_00d861116937row9_col9\" class=\"data row9 col9\" >1.000000</td>\n",
       "                        <td id=\"T_3a9039dc_6f4f_11eb_9615_00d861116937row9_col10\" class=\"data row9 col10\" >0.255657</td>\n",
       "                        <td id=\"T_3a9039dc_6f4f_11eb_9615_00d861116937row9_col11\" class=\"data row9 col11\" >0.270702</td>\n",
       "                        <td id=\"T_3a9039dc_6f4f_11eb_9615_00d861116937row9_col12\" class=\"data row9 col12\" >0.292235</td>\n",
       "                        <td id=\"T_3a9039dc_6f4f_11eb_9615_00d861116937row9_col13\" class=\"data row9 col13\" >0.357455</td>\n",
       "                        <td id=\"T_3a9039dc_6f4f_11eb_9615_00d861116937row9_col14\" class=\"data row9 col14\" >-0.041352</td>\n",
       "                        <td id=\"T_3a9039dc_6f4f_11eb_9615_00d861116937row9_col15\" class=\"data row9 col15\" >-0.133988</td>\n",
       "                        <td id=\"T_3a9039dc_6f4f_11eb_9615_00d861116937row9_col16\" class=\"data row9 col16\" >0.156285</td>\n",
       "                        <td id=\"T_3a9039dc_6f4f_11eb_9615_00d861116937row9_col17\" class=\"data row9 col17\" >0.394285</td>\n",
       "                        <td id=\"T_3a9039dc_6f4f_11eb_9615_00d861116937row9_col18\" class=\"data row9 col18\" >-0.184354</td>\n",
       "            </tr>\n",
       "            <tr>\n",
       "                        <th id=\"T_3a9039dc_6f4f_11eb_9615_00d861116937level0_row10\" class=\"row_heading level0 row10\" >TechSupport</th>\n",
       "                        <td id=\"T_3a9039dc_6f4f_11eb_9615_00d861116937row10_col0\" class=\"data row10 col0\" >-0.159061</td>\n",
       "                        <td id=\"T_3a9039dc_6f4f_11eb_9615_00d861116937row10_col1\" class=\"data row10 col1\" >0.134434</td>\n",
       "                        <td id=\"T_3a9039dc_6f4f_11eb_9615_00d861116937row10_col2\" class=\"data row10 col2\" >0.129567</td>\n",
       "                        <td id=\"T_3a9039dc_6f4f_11eb_9615_00d861116937row10_col3\" class=\"data row10 col3\" >0.327923</td>\n",
       "                        <td id=\"T_3a9039dc_6f4f_11eb_9615_00d861116937row10_col4\" class=\"data row10 col4\" >-0.014555</td>\n",
       "                        <td id=\"T_3a9039dc_6f4f_11eb_9615_00d861116937row10_col5\" class=\"data row10 col5\" >0.005981</td>\n",
       "                        <td id=\"T_3a9039dc_6f4f_11eb_9615_00d861116937row10_col6\" class=\"data row10 col6\" >-0.033635</td>\n",
       "                        <td id=\"T_3a9039dc_6f4f_11eb_9615_00d861116937row10_col7\" class=\"data row10 col7\" >0.287738</td>\n",
       "                        <td id=\"T_3a9039dc_6f4f_11eb_9615_00d861116937row10_col8\" class=\"data row10 col8\" >0.184907</td>\n",
       "                        <td id=\"T_3a9039dc_6f4f_11eb_9615_00d861116937row10_col9\" class=\"data row10 col9\" >0.255657</td>\n",
       "                        <td id=\"T_3a9039dc_6f4f_11eb_9615_00d861116937row10_col10\" class=\"data row10 col10\" >1.000000</td>\n",
       "                        <td id=\"T_3a9039dc_6f4f_11eb_9615_00d861116937row10_col11\" class=\"data row10 col11\" >0.149489</td>\n",
       "                        <td id=\"T_3a9039dc_6f4f_11eb_9615_00d861116937row10_col12\" class=\"data row10 col12\" >0.164123</td>\n",
       "                        <td id=\"T_3a9039dc_6f4f_11eb_9615_00d861116937row10_col13\" class=\"data row10 col13\" >0.433082</td>\n",
       "                        <td id=\"T_3a9039dc_6f4f_11eb_9615_00d861116937row10_col14\" class=\"data row10 col14\" >-0.128485</td>\n",
       "                        <td id=\"T_3a9039dc_6f4f_11eb_9615_00d861116937row10_col15\" class=\"data row10 col15\" >-0.099391</td>\n",
       "                        <td id=\"T_3a9039dc_6f4f_11eb_9615_00d861116937row10_col16\" class=\"data row10 col16\" >-0.003162</td>\n",
       "                        <td id=\"T_3a9039dc_6f4f_11eb_9615_00d861116937row10_col17\" class=\"data row10 col17\" >0.283300</td>\n",
       "                        <td id=\"T_3a9039dc_6f4f_11eb_9615_00d861116937row10_col18\" class=\"data row10 col18\" >-0.287088</td>\n",
       "            </tr>\n",
       "            <tr>\n",
       "                        <th id=\"T_3a9039dc_6f4f_11eb_9615_00d861116937level0_row11\" class=\"row_heading level0 row11\" >StreamingTV</th>\n",
       "                        <td id=\"T_3a9039dc_6f4f_11eb_9615_00d861116937row11_col0\" class=\"data row11 col0\" >0.050436</td>\n",
       "                        <td id=\"T_3a9039dc_6f4f_11eb_9615_00d861116937row11_col1\" class=\"data row11 col1\" >0.136705</td>\n",
       "                        <td id=\"T_3a9039dc_6f4f_11eb_9615_00d861116937row11_col2\" class=\"data row11 col2\" >0.033368</td>\n",
       "                        <td id=\"T_3a9039dc_6f4f_11eb_9615_00d861116937row11_col3\" class=\"data row11 col3\" >0.300119</td>\n",
       "                        <td id=\"T_3a9039dc_6f4f_11eb_9615_00d861116937row11_col4\" class=\"data row11 col4\" >0.044317</td>\n",
       "                        <td id=\"T_3a9039dc_6f4f_11eb_9615_00d861116937row11_col5\" class=\"data row11 col5\" >0.165824</td>\n",
       "                        <td id=\"T_3a9039dc_6f4f_11eb_9615_00d861116937row11_col6\" class=\"data row11 col6\" >0.102080</td>\n",
       "                        <td id=\"T_3a9039dc_6f4f_11eb_9615_00d861116937row11_col7\" class=\"data row11 col7\" >0.043949</td>\n",
       "                        <td id=\"T_3a9039dc_6f4f_11eb_9615_00d861116937row11_col8\" class=\"data row11 col8\" >0.131655</td>\n",
       "                        <td id=\"T_3a9039dc_6f4f_11eb_9615_00d861116937row11_col9\" class=\"data row11 col9\" >0.270702</td>\n",
       "                        <td id=\"T_3a9039dc_6f4f_11eb_9615_00d861116937row11_col10\" class=\"data row11 col10\" >0.149489</td>\n",
       "                        <td id=\"T_3a9039dc_6f4f_11eb_9615_00d861116937row11_col11\" class=\"data row11 col11\" >1.000000</td>\n",
       "                        <td id=\"T_3a9039dc_6f4f_11eb_9615_00d861116937row11_col12\" class=\"data row11 col12\" >0.435323</td>\n",
       "                        <td id=\"T_3a9039dc_6f4f_11eb_9615_00d861116937row11_col13\" class=\"data row11 col13\" >0.229891</td>\n",
       "                        <td id=\"T_3a9039dc_6f4f_11eb_9615_00d861116937row11_col14\" class=\"data row11 col14\" >0.090932</td>\n",
       "                        <td id=\"T_3a9039dc_6f4f_11eb_9615_00d861116937row11_col15\" class=\"data row11 col15\" >-0.081080</td>\n",
       "                        <td id=\"T_3a9039dc_6f4f_11eb_9615_00d861116937row11_col16\" class=\"data row11 col16\" >0.322699</td>\n",
       "                        <td id=\"T_3a9039dc_6f4f_11eb_9615_00d861116937row11_col17\" class=\"data row11 col17\" >0.395313</td>\n",
       "                        <td id=\"T_3a9039dc_6f4f_11eb_9615_00d861116937row11_col18\" class=\"data row11 col18\" >-0.054894</td>\n",
       "            </tr>\n",
       "            <tr>\n",
       "                        <th id=\"T_3a9039dc_6f4f_11eb_9615_00d861116937level0_row12\" class=\"row_heading level0 row12\" >StreamingMovies</th>\n",
       "                        <td id=\"T_3a9039dc_6f4f_11eb_9615_00d861116937row12_col0\" class=\"data row12 col0\" >0.046828</td>\n",
       "                        <td id=\"T_3a9039dc_6f4f_11eb_9615_00d861116937row12_col1\" class=\"data row12 col1\" >0.139423</td>\n",
       "                        <td id=\"T_3a9039dc_6f4f_11eb_9615_00d861116937row12_col2\" class=\"data row12 col2\" >0.013728</td>\n",
       "                        <td id=\"T_3a9039dc_6f4f_11eb_9615_00d861116937row12_col3\" class=\"data row12 col3\" >0.303016</td>\n",
       "                        <td id=\"T_3a9039dc_6f4f_11eb_9615_00d861116937row12_col4\" class=\"data row12 col4\" >0.037532</td>\n",
       "                        <td id=\"T_3a9039dc_6f4f_11eb_9615_00d861116937row12_col5\" class=\"data row12 col5\" >0.186787</td>\n",
       "                        <td id=\"T_3a9039dc_6f4f_11eb_9615_00d861116937row12_col6\" class=\"data row12 col6\" >0.098709</td>\n",
       "                        <td id=\"T_3a9039dc_6f4f_11eb_9615_00d861116937row12_col7\" class=\"data row12 col7\" >0.058698</td>\n",
       "                        <td id=\"T_3a9039dc_6f4f_11eb_9615_00d861116937row12_col8\" class=\"data row12 col8\" >0.132445</td>\n",
       "                        <td id=\"T_3a9039dc_6f4f_11eb_9615_00d861116937row12_col9\" class=\"data row12 col9\" >0.292235</td>\n",
       "                        <td id=\"T_3a9039dc_6f4f_11eb_9615_00d861116937row12_col10\" class=\"data row12 col10\" >0.164123</td>\n",
       "                        <td id=\"T_3a9039dc_6f4f_11eb_9615_00d861116937row12_col11\" class=\"data row12 col11\" >0.435323</td>\n",
       "                        <td id=\"T_3a9039dc_6f4f_11eb_9615_00d861116937row12_col12\" class=\"data row12 col12\" >1.000000</td>\n",
       "                        <td id=\"T_3a9039dc_6f4f_11eb_9615_00d861116937row12_col13\" class=\"data row12 col13\" >0.239534</td>\n",
       "                        <td id=\"T_3a9039dc_6f4f_11eb_9615_00d861116937row12_col14\" class=\"data row12 col14\" >0.084584</td>\n",
       "                        <td id=\"T_3a9039dc_6f4f_11eb_9615_00d861116937row12_col15\" class=\"data row12 col15\" >-0.107770</td>\n",
       "                        <td id=\"T_3a9039dc_6f4f_11eb_9615_00d861116937row12_col16\" class=\"data row12 col16\" >0.326900</td>\n",
       "                        <td id=\"T_3a9039dc_6f4f_11eb_9615_00d861116937row12_col17\" class=\"data row12 col17\" >0.399932</td>\n",
       "                        <td id=\"T_3a9039dc_6f4f_11eb_9615_00d861116937row12_col18\" class=\"data row12 col18\" >-0.030595</td>\n",
       "            </tr>\n",
       "            <tr>\n",
       "                        <th id=\"T_3a9039dc_6f4f_11eb_9615_00d861116937level0_row13\" class=\"row_heading level0 row13\" >Contract</th>\n",
       "                        <td id=\"T_3a9039dc_6f4f_11eb_9615_00d861116937row13_col0\" class=\"data row13 col0\" >-0.136839</td>\n",
       "                        <td id=\"T_3a9039dc_6f4f_11eb_9615_00d861116937row13_col1\" class=\"data row13 col1\" >0.305503</td>\n",
       "                        <td id=\"T_3a9039dc_6f4f_11eb_9615_00d861116937row13_col2\" class=\"data row13 col2\" >0.245016</td>\n",
       "                        <td id=\"T_3a9039dc_6f4f_11eb_9615_00d861116937row13_col3\" class=\"data row13 col3\" >0.668328</td>\n",
       "                        <td id=\"T_3a9039dc_6f4f_11eb_9615_00d861116937row13_col4\" class=\"data row13 col4\" >0.004539</td>\n",
       "                        <td id=\"T_3a9039dc_6f4f_11eb_9615_00d861116937row13_col5\" class=\"data row13 col5\" >0.106881</td>\n",
       "                        <td id=\"T_3a9039dc_6f4f_11eb_9615_00d861116937row13_col6\" class=\"data row13 col6\" >0.106820</td>\n",
       "                        <td id=\"T_3a9039dc_6f4f_11eb_9615_00d861116937row13_col7\" class=\"data row13 col7\" >0.369026</td>\n",
       "                        <td id=\"T_3a9039dc_6f4f_11eb_9615_00d861116937row13_col8\" class=\"data row13 col8\" >0.276039</td>\n",
       "                        <td id=\"T_3a9039dc_6f4f_11eb_9615_00d861116937row13_col9\" class=\"data row13 col9\" >0.357455</td>\n",
       "                        <td id=\"T_3a9039dc_6f4f_11eb_9615_00d861116937row13_col10\" class=\"data row13 col10\" >0.433082</td>\n",
       "                        <td id=\"T_3a9039dc_6f4f_11eb_9615_00d861116937row13_col11\" class=\"data row13 col11\" >0.229891</td>\n",
       "                        <td id=\"T_3a9039dc_6f4f_11eb_9615_00d861116937row13_col12\" class=\"data row13 col12\" >0.239534</td>\n",
       "                        <td id=\"T_3a9039dc_6f4f_11eb_9615_00d861116937row13_col13\" class=\"data row13 col13\" >1.000000</td>\n",
       "                        <td id=\"T_3a9039dc_6f4f_11eb_9615_00d861116937row13_col14\" class=\"data row13 col14\" >-0.180294</td>\n",
       "                        <td id=\"T_3a9039dc_6f4f_11eb_9615_00d861116937row13_col15\" class=\"data row13 col15\" >-0.215406</td>\n",
       "                        <td id=\"T_3a9039dc_6f4f_11eb_9615_00d861116937row13_col16\" class=\"data row13 col16\" >-0.065130</td>\n",
       "                        <td id=\"T_3a9039dc_6f4f_11eb_9615_00d861116937row13_col17\" class=\"data row13 col17\" >0.447222</td>\n",
       "                        <td id=\"T_3a9039dc_6f4f_11eb_9615_00d861116937row13_col18\" class=\"data row13 col18\" >-0.395494</td>\n",
       "            </tr>\n",
       "            <tr>\n",
       "                        <th id=\"T_3a9039dc_6f4f_11eb_9615_00d861116937level0_row14\" class=\"row_heading level0 row14\" >PaperlessBilling</th>\n",
       "                        <td id=\"T_3a9039dc_6f4f_11eb_9615_00d861116937row14_col0\" class=\"data row14 col0\" >0.159340</td>\n",
       "                        <td id=\"T_3a9039dc_6f4f_11eb_9615_00d861116937row14_col1\" class=\"data row14 col1\" >-0.024143</td>\n",
       "                        <td id=\"T_3a9039dc_6f4f_11eb_9615_00d861116937row14_col2\" class=\"data row14 col2\" >-0.113844</td>\n",
       "                        <td id=\"T_3a9039dc_6f4f_11eb_9615_00d861116937row14_col3\" class=\"data row14 col3\" >0.004183</td>\n",
       "                        <td id=\"T_3a9039dc_6f4f_11eb_9615_00d861116937row14_col4\" class=\"data row14 col4\" >0.015820</td>\n",
       "                        <td id=\"T_3a9039dc_6f4f_11eb_9615_00d861116937row14_col5\" class=\"data row14 col5\" >0.166620</td>\n",
       "                        <td id=\"T_3a9039dc_6f4f_11eb_9615_00d861116937row14_col6\" class=\"data row14 col6\" >-0.139980</td>\n",
       "                        <td id=\"T_3a9039dc_6f4f_11eb_9615_00d861116937row14_col7\" class=\"data row14 col7\" >-0.158488</td>\n",
       "                        <td id=\"T_3a9039dc_6f4f_11eb_9615_00d861116937row14_col8\" class=\"data row14 col8\" >-0.022147</td>\n",
       "                        <td id=\"T_3a9039dc_6f4f_11eb_9615_00d861116937row14_col9\" class=\"data row14 col9\" >-0.041352</td>\n",
       "                        <td id=\"T_3a9039dc_6f4f_11eb_9615_00d861116937row14_col10\" class=\"data row14 col10\" >-0.128485</td>\n",
       "                        <td id=\"T_3a9039dc_6f4f_11eb_9615_00d861116937row14_col11\" class=\"data row14 col11\" >0.090932</td>\n",
       "                        <td id=\"T_3a9039dc_6f4f_11eb_9615_00d861116937row14_col12\" class=\"data row14 col12\" >0.084584</td>\n",
       "                        <td id=\"T_3a9039dc_6f4f_11eb_9615_00d861116937row14_col13\" class=\"data row14 col13\" >-0.180294</td>\n",
       "                        <td id=\"T_3a9039dc_6f4f_11eb_9615_00d861116937row14_col14\" class=\"data row14 col14\" >1.000000</td>\n",
       "                        <td id=\"T_3a9039dc_6f4f_11eb_9615_00d861116937row14_col15\" class=\"data row14 col15\" >-0.067640</td>\n",
       "                        <td id=\"T_3a9039dc_6f4f_11eb_9615_00d861116937row14_col16\" class=\"data row14 col16\" >0.349176</td>\n",
       "                        <td id=\"T_3a9039dc_6f4f_11eb_9615_00d861116937row14_col17\" class=\"data row14 col17\" >0.153818</td>\n",
       "                        <td id=\"T_3a9039dc_6f4f_11eb_9615_00d861116937row14_col18\" class=\"data row14 col18\" >0.195092</td>\n",
       "            </tr>\n",
       "            <tr>\n",
       "                        <th id=\"T_3a9039dc_6f4f_11eb_9615_00d861116937level0_row15\" class=\"row_heading level0 row15\" >PaymentMethod</th>\n",
       "                        <td id=\"T_3a9039dc_6f4f_11eb_9615_00d861116937row15_col0\" class=\"data row15 col0\" >-0.053205</td>\n",
       "                        <td id=\"T_3a9039dc_6f4f_11eb_9615_00d861116937row15_col1\" class=\"data row15 col1\" >-0.158986</td>\n",
       "                        <td id=\"T_3a9039dc_6f4f_11eb_9615_00d861116937row15_col2\" class=\"data row15 col2\" >-0.043352</td>\n",
       "                        <td id=\"T_3a9039dc_6f4f_11eb_9615_00d861116937row15_col3\" class=\"data row15 col3\" >-0.356886</td>\n",
       "                        <td id=\"T_3a9039dc_6f4f_11eb_9615_00d861116937row15_col4\" class=\"data row15 col4\" >-0.012461</td>\n",
       "                        <td id=\"T_3a9039dc_6f4f_11eb_9615_00d861116937row15_col5\" class=\"data row15 col5\" >-0.166195</td>\n",
       "                        <td id=\"T_3a9039dc_6f4f_11eb_9615_00d861116937row15_col6\" class=\"data row15 col6\" >0.078537</td>\n",
       "                        <td id=\"T_3a9039dc_6f4f_11eb_9615_00d861116937row15_col7\" class=\"data row15 col7\" >-0.085621</td>\n",
       "                        <td id=\"T_3a9039dc_6f4f_11eb_9615_00d861116937row15_col8\" class=\"data row15 col8\" >-0.122324</td>\n",
       "                        <td id=\"T_3a9039dc_6f4f_11eb_9615_00d861116937row15_col9\" class=\"data row15 col9\" >-0.133988</td>\n",
       "                        <td id=\"T_3a9039dc_6f4f_11eb_9615_00d861116937row15_col10\" class=\"data row15 col10\" >-0.099391</td>\n",
       "                        <td id=\"T_3a9039dc_6f4f_11eb_9615_00d861116937row15_col11\" class=\"data row15 col11\" >-0.081080</td>\n",
       "                        <td id=\"T_3a9039dc_6f4f_11eb_9615_00d861116937row15_col12\" class=\"data row15 col12\" >-0.107770</td>\n",
       "                        <td id=\"T_3a9039dc_6f4f_11eb_9615_00d861116937row15_col13\" class=\"data row15 col13\" >-0.215406</td>\n",
       "                        <td id=\"T_3a9039dc_6f4f_11eb_9615_00d861116937row15_col14\" class=\"data row15 col14\" >-0.067640</td>\n",
       "                        <td id=\"T_3a9039dc_6f4f_11eb_9615_00d861116937row15_col15\" class=\"data row15 col15\" >1.000000</td>\n",
       "                        <td id=\"T_3a9039dc_6f4f_11eb_9615_00d861116937row15_col16\" class=\"data row15 col16\" >-0.185122</td>\n",
       "                        <td id=\"T_3a9039dc_6f4f_11eb_9615_00d861116937row15_col17\" class=\"data row15 col17\" >-0.312036</td>\n",
       "                        <td id=\"T_3a9039dc_6f4f_11eb_9615_00d861116937row15_col18\" class=\"data row15 col18\" >0.112299</td>\n",
       "            </tr>\n",
       "            <tr>\n",
       "                        <th id=\"T_3a9039dc_6f4f_11eb_9615_00d861116937level0_row16\" class=\"row_heading level0 row16\" >MonthlyCharges</th>\n",
       "                        <td id=\"T_3a9039dc_6f4f_11eb_9615_00d861116937row16_col0\" class=\"data row16 col0\" >0.232064</td>\n",
       "                        <td id=\"T_3a9039dc_6f4f_11eb_9615_00d861116937row16_col1\" class=\"data row16 col1\" >0.100603</td>\n",
       "                        <td id=\"T_3a9039dc_6f4f_11eb_9615_00d861116937row16_col2\" class=\"data row16 col2\" >-0.134437</td>\n",
       "                        <td id=\"T_3a9039dc_6f4f_11eb_9615_00d861116937row16_col3\" class=\"data row16 col3\" >0.270253</td>\n",
       "                        <td id=\"T_3a9039dc_6f4f_11eb_9615_00d861116937row16_col4\" class=\"data row16 col4\" >0.233180</td>\n",
       "                        <td id=\"T_3a9039dc_6f4f_11eb_9615_00d861116937row16_col5\" class=\"data row16 col5\" >0.434549</td>\n",
       "                        <td id=\"T_3a9039dc_6f4f_11eb_9615_00d861116937row16_col6\" class=\"data row16 col6\" >-0.340691</td>\n",
       "                        <td id=\"T_3a9039dc_6f4f_11eb_9615_00d861116937row16_col7\" class=\"data row16 col7\" >-0.045416</td>\n",
       "                        <td id=\"T_3a9039dc_6f4f_11eb_9615_00d861116937row16_col8\" class=\"data row16 col8\" >0.112481</td>\n",
       "                        <td id=\"T_3a9039dc_6f4f_11eb_9615_00d861116937row16_col9\" class=\"data row16 col9\" >0.156285</td>\n",
       "                        <td id=\"T_3a9039dc_6f4f_11eb_9615_00d861116937row16_col10\" class=\"data row16 col10\" >-0.003162</td>\n",
       "                        <td id=\"T_3a9039dc_6f4f_11eb_9615_00d861116937row16_col11\" class=\"data row16 col11\" >0.322699</td>\n",
       "                        <td id=\"T_3a9039dc_6f4f_11eb_9615_00d861116937row16_col12\" class=\"data row16 col12\" >0.326900</td>\n",
       "                        <td id=\"T_3a9039dc_6f4f_11eb_9615_00d861116937row16_col13\" class=\"data row16 col13\" >-0.065130</td>\n",
       "                        <td id=\"T_3a9039dc_6f4f_11eb_9615_00d861116937row16_col14\" class=\"data row16 col14\" >0.349176</td>\n",
       "                        <td id=\"T_3a9039dc_6f4f_11eb_9615_00d861116937row16_col15\" class=\"data row16 col15\" >-0.185122</td>\n",
       "                        <td id=\"T_3a9039dc_6f4f_11eb_9615_00d861116937row16_col16\" class=\"data row16 col16\" >1.000000</td>\n",
       "                        <td id=\"T_3a9039dc_6f4f_11eb_9615_00d861116937row16_col17\" class=\"data row16 col17\" >0.661456</td>\n",
       "                        <td id=\"T_3a9039dc_6f4f_11eb_9615_00d861116937row16_col18\" class=\"data row16 col18\" >0.185171</td>\n",
       "            </tr>\n",
       "            <tr>\n",
       "                        <th id=\"T_3a9039dc_6f4f_11eb_9615_00d861116937level0_row17\" class=\"row_heading level0 row17\" >TotalCharges</th>\n",
       "                        <td id=\"T_3a9039dc_6f4f_11eb_9615_00d861116937row17_col0\" class=\"data row17 col0\" >0.116250</td>\n",
       "                        <td id=\"T_3a9039dc_6f4f_11eb_9615_00d861116937row17_col1\" class=\"data row17 col1\" >0.318846</td>\n",
       "                        <td id=\"T_3a9039dc_6f4f_11eb_9615_00d861116937row17_col2\" class=\"data row17 col2\" >0.048533</td>\n",
       "                        <td id=\"T_3a9039dc_6f4f_11eb_9615_00d861116937row17_col3\" class=\"data row17 col3\" >0.830457</td>\n",
       "                        <td id=\"T_3a9039dc_6f4f_11eb_9615_00d861116937row17_col4\" class=\"data row17 col4\" >0.111107</td>\n",
       "                        <td id=\"T_3a9039dc_6f4f_11eb_9615_00d861116937row17_col5\" class=\"data row17 col5\" >0.446636</td>\n",
       "                        <td id=\"T_3a9039dc_6f4f_11eb_9615_00d861116937row17_col6\" class=\"data row17 col6\" >-0.170358</td>\n",
       "                        <td id=\"T_3a9039dc_6f4f_11eb_9615_00d861116937row17_col7\" class=\"data row17 col7\" >0.250601</td>\n",
       "                        <td id=\"T_3a9039dc_6f4f_11eb_9615_00d861116937row17_col8\" class=\"data row17 col8\" >0.361800</td>\n",
       "                        <td id=\"T_3a9039dc_6f4f_11eb_9615_00d861116937row17_col9\" class=\"data row17 col9\" >0.394285</td>\n",
       "                        <td id=\"T_3a9039dc_6f4f_11eb_9615_00d861116937row17_col10\" class=\"data row17 col10\" >0.283300</td>\n",
       "                        <td id=\"T_3a9039dc_6f4f_11eb_9615_00d861116937row17_col11\" class=\"data row17 col11\" >0.395313</td>\n",
       "                        <td id=\"T_3a9039dc_6f4f_11eb_9615_00d861116937row17_col12\" class=\"data row17 col12\" >0.399932</td>\n",
       "                        <td id=\"T_3a9039dc_6f4f_11eb_9615_00d861116937row17_col13\" class=\"data row17 col13\" >0.447222</td>\n",
       "                        <td id=\"T_3a9039dc_6f4f_11eb_9615_00d861116937row17_col14\" class=\"data row17 col14\" >0.153818</td>\n",
       "                        <td id=\"T_3a9039dc_6f4f_11eb_9615_00d861116937row17_col15\" class=\"data row17 col15\" >-0.312036</td>\n",
       "                        <td id=\"T_3a9039dc_6f4f_11eb_9615_00d861116937row17_col16\" class=\"data row17 col16\" >0.661456</td>\n",
       "                        <td id=\"T_3a9039dc_6f4f_11eb_9615_00d861116937row17_col17\" class=\"data row17 col17\" >1.000000</td>\n",
       "                        <td id=\"T_3a9039dc_6f4f_11eb_9615_00d861116937row17_col18\" class=\"data row17 col18\" >-0.188951</td>\n",
       "            </tr>\n",
       "            <tr>\n",
       "                        <th id=\"T_3a9039dc_6f4f_11eb_9615_00d861116937level0_row18\" class=\"row_heading level0 row18\" >Churn</th>\n",
       "                        <td id=\"T_3a9039dc_6f4f_11eb_9615_00d861116937row18_col0\" class=\"data row18 col0\" >0.130071</td>\n",
       "                        <td id=\"T_3a9039dc_6f4f_11eb_9615_00d861116937row18_col1\" class=\"data row18 col1\" >-0.163311</td>\n",
       "                        <td id=\"T_3a9039dc_6f4f_11eb_9615_00d861116937row18_col2\" class=\"data row18 col2\" >-0.166864</td>\n",
       "                        <td id=\"T_3a9039dc_6f4f_11eb_9615_00d861116937row18_col3\" class=\"data row18 col3\" >-0.340974</td>\n",
       "                        <td id=\"T_3a9039dc_6f4f_11eb_9615_00d861116937row18_col4\" class=\"data row18 col4\" >0.015068</td>\n",
       "                        <td id=\"T_3a9039dc_6f4f_11eb_9615_00d861116937row18_col5\" class=\"data row18 col5\" >0.056418</td>\n",
       "                        <td id=\"T_3a9039dc_6f4f_11eb_9615_00d861116937row18_col6\" class=\"data row18 col6\" >-0.061099</td>\n",
       "                        <td id=\"T_3a9039dc_6f4f_11eb_9615_00d861116937row18_col7\" class=\"data row18 col7\" >-0.283758</td>\n",
       "                        <td id=\"T_3a9039dc_6f4f_11eb_9615_00d861116937row18_col8\" class=\"data row18 col8\" >-0.190661</td>\n",
       "                        <td id=\"T_3a9039dc_6f4f_11eb_9615_00d861116937row18_col9\" class=\"data row18 col9\" >-0.184354</td>\n",
       "                        <td id=\"T_3a9039dc_6f4f_11eb_9615_00d861116937row18_col10\" class=\"data row18 col10\" >-0.287088</td>\n",
       "                        <td id=\"T_3a9039dc_6f4f_11eb_9615_00d861116937row18_col11\" class=\"data row18 col11\" >-0.054894</td>\n",
       "                        <td id=\"T_3a9039dc_6f4f_11eb_9615_00d861116937row18_col12\" class=\"data row18 col12\" >-0.030595</td>\n",
       "                        <td id=\"T_3a9039dc_6f4f_11eb_9615_00d861116937row18_col13\" class=\"data row18 col13\" >-0.395494</td>\n",
       "                        <td id=\"T_3a9039dc_6f4f_11eb_9615_00d861116937row18_col14\" class=\"data row18 col14\" >0.195092</td>\n",
       "                        <td id=\"T_3a9039dc_6f4f_11eb_9615_00d861116937row18_col15\" class=\"data row18 col15\" >0.112299</td>\n",
       "                        <td id=\"T_3a9039dc_6f4f_11eb_9615_00d861116937row18_col16\" class=\"data row18 col16\" >0.185171</td>\n",
       "                        <td id=\"T_3a9039dc_6f4f_11eb_9615_00d861116937row18_col17\" class=\"data row18 col17\" >-0.188951</td>\n",
       "                        <td id=\"T_3a9039dc_6f4f_11eb_9615_00d861116937row18_col18\" class=\"data row18 col18\" >1.000000</td>\n",
       "            </tr>\n",
       "    </tbody></table>"
      ],
      "text/plain": [
       "<pandas.io.formats.style.Styler at 0x1d4068ba788>"
      ]
     },
     "execution_count": 231,
     "metadata": {},
     "output_type": "execute_result"
    }
   ],
   "source": [
    "corr = df_train.corr()\n",
    "corr.style.background_gradient(cmap='coolwarm')"
   ]
  },
  {
   "cell_type": "code",
   "execution_count": 76,
   "metadata": {},
   "outputs": [],
   "source": [
    "x_train ,x_test, y_train ,  y_test  =    train_test_split(df_train[df_train.columns.difference(['Churn'])], df_train['Churn'], test_size=0.15, stratify=df_train['Churn'])\n",
    "# x_train ,x_valid, y_train ,  y_valid =  train_test_split(x_train, y_train, test_size=0.20, stratify=y_train)\n",
    "\n",
    "df_train.drop(['Churn'],axis=1, inplace=True)\n",
    "df_test.drop(['Churn'],axis=1, inplace=True)"
   ]
  },
  {
   "cell_type": "markdown",
   "metadata": {},
   "source": [
    "## Base Models - Fine Tuning"
   ]
  },
  {
   "cell_type": "markdown",
   "metadata": {},
   "source": [
    "#### catboost"
   ]
  },
  {
   "cell_type": "code",
   "execution_count": 20,
   "metadata": {},
   "outputs": [],
   "source": [
    "model = CatBoostClassifier(iterations=2000,\n",
    "#                              bagging_temperature = 0.2,\n",
    "                           depth = 12,\n",
    "                             use_best_model=True,\n",
    "                           gpu_ram_part = .95,\n",
    "                             random_seed=1993,\n",
    "                           loss_function =\"CrossEntropy\",\n",
    "                              eval_metric = \"AUC\",\n",
    "                             task_type='GPU',\n",
    "#                             l2_leaf_reg= 4, \n",
    "                        #    learning_rate = 0.03,\n",
    "                             early_stopping_rounds=300,\n",
    "                          verbose = 100)\n"
   ]
  },
  {
   "cell_type": "code",
   "execution_count": 56,
   "metadata": {},
   "outputs": [],
   "source": [
    "categorical_column =np.where(x_train.columns.isin(cat_cols))[0]"
   ]
  },
  {
   "cell_type": "code",
   "execution_count": 22,
   "metadata": {},
   "outputs": [
    {
     "name": "stdout",
     "output_type": "stream",
     "text": [
      "0:\tlearn: 0.8394035\ttest: 0.8137422\tbest: 0.8137422 (0)\ttotal: 236ms\tremaining: 7m 52s\n",
      "100:\tlearn: 0.9063416\ttest: 0.8321595\tbest: 0.8323370 (92)\ttotal: 1m 7s\tremaining: 21m 2s\n",
      "200:\tlearn: 0.9386254\ttest: 0.8329026\tbest: 0.8331466 (148)\ttotal: 2m 14s\tremaining: 20m 7s\n",
      "300:\tlearn: 0.9600590\ttest: 0.8310503\tbest: 0.8331466 (148)\ttotal: 3m 23s\tremaining: 19m 6s\n",
      "400:\tlearn: 0.9730737\ttest: 0.8293756\tbest: 0.8331466 (148)\ttotal: 4m 32s\tremaining: 18m 6s\n",
      "bestTest = 0.8331466317\n",
      "bestIteration = 148\n",
      "Shrink model to first 149 iterations.\n"
     ]
    }
   ],
   "source": [
    "cat_mod =  model.fit(x_train,y_train,cat_features=categorical_column,eval_set=(x_valid,y_valid))\n"
   ]
  },
  {
   "cell_type": "code",
   "execution_count": 23,
   "metadata": {
    "collapsed": true,
    "jupyter": {
     "outputs_hidden": true
    }
   },
   "outputs": [
    {
     "data": {
      "text/plain": [
       "[(12.76503338239249, 'tenure'),\n",
       " (8.461541248289384, 'TotalCharges'),\n",
       " (5.907858671570182, 'Contract'),\n",
       " (5.716251669757835, 'MonthlyCharges'),\n",
       " (4.531815628382477, 'PaymentMethod'),\n",
       " (4.394008809120431, 'InternetService'),\n",
       " (4.382739574284412, 'TechSupport'),\n",
       " (4.1304534624460505, 'StreamingMovies'),\n",
       " (3.83814589566943, 'OnlineSecurity'),\n",
       " (3.588616058458469, 'MultipleLines'),\n",
       " (3.3135531793880886, 'StreamingTV'),\n",
       " (2.948685226637699, 'DeviceProtection'),\n",
       " (2.1727486723910183, 'OnlineBackup'),\n",
       " (1.8792905245969547, 'TotalCharges_PaperlessBilling_count'),\n",
       " (1.5596177672350608, 'tenure_Contract_count'),\n",
       " (1.4844030550336813, 'tenure_InternetService_count'),\n",
       " (1.3522276980524288, 'TotalCharges_Contract_mean'),\n",
       " (1.2990424110284853, 'MonthlyCharges_Contract_mean'),\n",
       " (1.1665521059099007, 'tenure_PaperlessBilling_mean'),\n",
       " (1.040081442144385, 'TotalCharges_Contract_count'),\n",
       " (1.0239029147537395, 'MonthlyCharges_PaperlessBilling_mean'),\n",
       " (1.0162313636129774, 'tenure_StreamingMovies_mean'),\n",
       " (0.9828512686002709, 'tenure_gender_mean'),\n",
       " (0.9801653911044418, 'tenure_OnlineSecurity_mean'),\n",
       " (0.8686394470477381, 'TotalCharges_InternetService_count'),\n",
       " (0.826412672040569, 'MonthlyCharges_Contract_count'),\n",
       " (0.7318139523034807, 'tenure_Contract_mean'),\n",
       " (0.7204635750003865, 'TotalCharges_StreamingMovies_mean'),\n",
       " (0.7180002935977817, 'tenure_gender_count'),\n",
       " (0.6862769061117404, 'TotalCharges_InternetService_mean'),\n",
       " (0.680692665499002, 'TotalCharges_MultipleLines_count'),\n",
       " (0.6713797997385539, 'MonthlyCharges_InternetService_mean'),\n",
       " (0.6374970263544191, 'TotalCharges_TechSupport_count'),\n",
       " (0.562591381764846, 'MonthlyCharges_StreamingMovies_mean'),\n",
       " (0.540317569353529, 'MonthlyCharges_OnlineSecurity_count'),\n",
       " (0.5227513000425357, 'tenure_TechSupport_mean'),\n",
       " (0.5185996289859424, 'PaperlessBilling'),\n",
       " (0.4945028252547302, 'MonthlyCharges_MultipleLines_mean'),\n",
       " (0.47421833569546523, 'TotalCharges_PaymentMethod_count'),\n",
       " (0.4626720932279642, 'tenure_MultipleLines_mean'),\n",
       " (0.45947757841546133, 'MonthlyCharges_MultipleLines_count'),\n",
       " (0.44343536703310477, 'tenure_InternetService_mean'),\n",
       " (0.43575086656000195, 'tenure_StreamingMovies_count'),\n",
       " (0.43066482793553423, 'tenure_PaperlessBilling_count'),\n",
       " (0.42739845272725285, 'MonthlyCharges_gender_mean'),\n",
       " (0.42641810631609905, 'TotalCharges_OnlineBackup_mean'),\n",
       " (0.41183718981622325, 'MonthlyCharges_Dependents_count'),\n",
       " (0.4118023295935637, 'MonthlyCharges_Partner_mean'),\n",
       " (0.395202594585528, 'tenure_PaymentMethod_count'),\n",
       " (0.38425469210774643, 'MonthlyCharges_PaymentMethod_count'),\n",
       " (0.37476977996765, 'TotalCharges_MultipleLines_mean'),\n",
       " (0.350191693232833, 'MonthlyCharges_PaperlessBilling_count'),\n",
       " (0.325074635374156, 'TotalCharges_Dependents_mean'),\n",
       " (0.3090799856535209, 'MonthlyCharges_TechSupport_count'),\n",
       " (0.30907394304535957, 'tenure_OnlineSecurity_count'),\n",
       " (0.308231669666355, 'MonthlyCharges_PaymentMethod_mean'),\n",
       " (0.2955003047332779, 'MonthlyCharges_gender_count'),\n",
       " (0.28453771876338196, 'tenure_Dependents_mean'),\n",
       " (0.2823515968825532, 'tenure_OnlineBackup_mean'),\n",
       " (0.25779469291802015, 'TotalCharges_SeniorCitizen_count'),\n",
       " (0.23760528176794496, 'TotalCharges_PaperlessBilling_mean'),\n",
       " (0.22335240330471479, 'tenure_MultipleLines_count'),\n",
       " (0.22108961513045589, 'TotalCharges_gender_count'),\n",
       " (0.21917569119142513, 'MonthlyCharges_SeniorCitizen_mean'),\n",
       " (0.19065546048469256, 'tenure_PaymentMethod_mean'),\n",
       " (0.18861990549029037, 'MonthlyCharges_InternetService_count'),\n",
       " (0.18515552559545997, 'TotalCharges_OnlineSecurity_count'),\n",
       " (0.17565797660000518, 'MonthlyCharges_OnlineSecurity_mean'),\n",
       " (0.17423502491792744, 'TotalCharges_OnlineBackup_count'),\n",
       " (0.1563253927106863, 'TotalCharges_Partner_count'),\n",
       " (0.14040048681963613, 'MonthlyCharges_Partner_count'),\n",
       " (0.11078134823402035, 'MonthlyCharges_TechSupport_mean'),\n",
       " (0.10585495776835381, 'TotalCharges_PaymentMethod_mean'),\n",
       " (0.09044509109568086, 'SeniorCitizen'),\n",
       " (0.06519132860799481, 'TotalCharges_PhoneService_count'),\n",
       " (0.048538319260339684, 'MonthlyCharges_Dependents_mean'),\n",
       " (0.029231803142807353, 'tenure_PhoneService_count'),\n",
       " (0.022478616109678686, 'TotalCharges_StreamingMovies_count'),\n",
       " (0.019583117662292142, 'tenure_StreamingTV_count'),\n",
       " (0.013537673038873318, 'tenure_DeviceProtection_count'),\n",
       " (0.004294877284947667, 'TotalCharges_OnlineSecurity_mean'),\n",
       " (0.002295185575330653, 'MonthlyCharges_OnlineBackup_mean'),\n",
       " (0.0, 'tenure_TechSupport_count'),\n",
       " (0.0, 'tenure_StreamingTV_mean'),\n",
       " (0.0, 'tenure_SeniorCitizen_mean'),\n",
       " (0.0, 'tenure_SeniorCitizen_count'),\n",
       " (0.0, 'tenure_PhoneService_mean'),\n",
       " (0.0, 'tenure_Partner_mean'),\n",
       " (0.0, 'tenure_Partner_count'),\n",
       " (0.0, 'tenure_OnlineBackup_count'),\n",
       " (0.0, 'tenure_DeviceProtection_mean'),\n",
       " (0.0, 'tenure_Dependents_count'),\n",
       " (0.0, 'gender'),\n",
       " (0.0, 'TotalCharges_gender_mean'),\n",
       " (0.0, 'TotalCharges_TechSupport_mean'),\n",
       " (0.0, 'TotalCharges_StreamingTV_mean'),\n",
       " (0.0, 'TotalCharges_StreamingTV_count'),\n",
       " (0.0, 'TotalCharges_SeniorCitizen_mean'),\n",
       " (0.0, 'TotalCharges_PhoneService_mean'),\n",
       " (0.0, 'TotalCharges_Partner_mean'),\n",
       " (0.0, 'TotalCharges_DeviceProtection_mean'),\n",
       " (0.0, 'TotalCharges_DeviceProtection_count'),\n",
       " (0.0, 'TotalCharges_Dependents_count'),\n",
       " (0.0, 'PhoneService'),\n",
       " (0.0, 'Partner'),\n",
       " (0.0, 'MonthlyCharges_StreamingTV_mean'),\n",
       " (0.0, 'MonthlyCharges_StreamingTV_count'),\n",
       " (0.0, 'MonthlyCharges_StreamingMovies_count'),\n",
       " (0.0, 'MonthlyCharges_SeniorCitizen_count'),\n",
       " (0.0, 'MonthlyCharges_PhoneService_mean'),\n",
       " (0.0, 'MonthlyCharges_PhoneService_count'),\n",
       " (0.0, 'MonthlyCharges_OnlineBackup_count'),\n",
       " (0.0, 'MonthlyCharges_DeviceProtection_mean'),\n",
       " (0.0, 'MonthlyCharges_DeviceProtection_count'),\n",
       " (0.0, 'Dependents')]"
      ]
     },
     "execution_count": 23,
     "metadata": {},
     "output_type": "execute_result"
    }
   ],
   "source": [
    "sorted(zip(cat_mod.feature_importances_,x_train.columns),reverse=True) "
   ]
  },
  {
   "cell_type": "code",
   "execution_count": 26,
   "metadata": {},
   "outputs": [
    {
     "data": {
      "text/plain": [
       "[(18.522936175846475, 'Contract'),\n",
       " (17.053857616988566, 'tenure'),\n",
       " (13.64714520978379, 'TotalCharges'),\n",
       " (13.644775283807467, 'InternetService'),\n",
       " (7.731561515674626, 'TechSupport'),\n",
       " (7.44171269771672, 'PaymentMethod'),\n",
       " (7.284868016668111, 'OnlineSecurity'),\n",
       " (5.785298929026023, 'MonthlyCharges'),\n",
       " (2.634943596495006, 'PaperlessBilling'),\n",
       " (2.2269342524867657, 'StreamingMovies'),\n",
       " (1.4820160361344885, 'OnlineBackup'),\n",
       " (1.0170259445554615, 'StreamingTV'),\n",
       " (0.9211028009469464, 'MultipleLines'),\n",
       " (0.6058219238695901, 'DeviceProtection'),\n",
       " (0.0, 'gender'),\n",
       " (0.0, 'SeniorCitizen'),\n",
       " (0.0, 'PhoneService'),\n",
       " (0.0, 'Partner'),\n",
       " (0.0, 'Dependents')]"
      ]
     },
     "execution_count": 26,
     "metadata": {},
     "output_type": "execute_result"
    }
   ],
   "source": [
    "sorted(zip(cat_mod.feature_importances_,x_train.columns),reverse=True) "
   ]
  },
  {
   "cell_type": "code",
   "execution_count": 24,
   "metadata": {},
   "outputs": [],
   "source": [
    "pred =cat_mod.predict(x_test)"
   ]
  },
  {
   "cell_type": "code",
   "execution_count": 25,
   "metadata": {},
   "outputs": [
    {
     "name": "stdout",
     "output_type": "stream",
     "text": [
      " ROC AUC Score  : 0.8667104049932619\n",
      " F1 Score : 0.6\n",
      " Accuracy Score : 0.800711743772242\n"
     ]
    }
   ],
   "source": [
    "print(f' ROC AUC Score  : {roc_auc_score( y_test,cat_mod.predict_proba(x_test)[:,1] )}')\n",
    "print(f' F1 Score : {f1_score(pred,y_test)}')\n",
    "print(f\" Accuracy Score : {accuracy_score(pred,y_test)}\")"
   ]
  },
  {
   "cell_type": "code",
   "execution_count": 25,
   "metadata": {},
   "outputs": [
    {
     "name": "stdout",
     "output_type": "stream",
     "text": [
      " ROC AUC Score  : 0.8560500744733668\n",
      " F1 Score : 0.6258823529411764\n",
      " Accuracy Score : 0.8113879003558719\n"
     ]
    }
   ],
   "source": [
    "print(f' ROC AUC Score  : {roc_auc_score( y_test,cat_mod.predict_proba(x_test)[:,1] )}')\n",
    "print(f' F1 Score : {f1_score(pred,y_test)}')\n",
    "print(f\" Accuracy Score : {accuracy_score(pred,y_test)}\")"
   ]
  },
  {
   "cell_type": "code",
   "execution_count": 22,
   "metadata": {},
   "outputs": [],
   "source": [
    "# LightGBM"
   ]
  },
  {
   "cell_type": "code",
   "execution_count": 26,
   "metadata": {},
   "outputs": [
    {
     "name": "stderr",
     "output_type": "stream",
     "text": [
      "C:\\ProgramData\\Anaconda3\\lib\\site-packages\\lightgbm\\basic.py:1295: UserWarning: categorical_feature in Dataset is overridden.\n",
      "New categorical_feature is ['Contract', 'Dependents', 'DeviceProtection', 'InternetService', 'MultipleLines', 'OnlineBackup', 'OnlineSecurity', 'PaperlessBilling', 'Partner', 'PaymentMethod', 'PhoneService', 'SeniorCitizen', 'StreamingMovies', 'StreamingTV', 'TechSupport', 'gender']\n",
      "  'New categorical_feature is {}'.format(sorted(list(categorical_feature))))\n"
     ]
    },
    {
     "name": "stdout",
     "output_type": "stream",
     "text": [
      "Training until validation scores don't improve for 300 rounds\n",
      "[50]\tvalid_0's auc: 0.825288\n",
      "[100]\tvalid_0's auc: 0.8189\n",
      "[150]\tvalid_0's auc: 0.813432\n",
      "[200]\tvalid_0's auc: 0.809317\n",
      "[250]\tvalid_0's auc: 0.806788\n",
      "[300]\tvalid_0's auc: 0.804026\n",
      "Early stopping, best iteration is:\n",
      "[29]\tvalid_0's auc: 0.82744\n"
     ]
    }
   ],
   "source": [
    "params = {\n",
    "            'objective': 'cross_entropy',\n",
    "            'learning_rate' : 0.03, \n",
    "#             'max_depth' : 12, \n",
    "            'metric': 'auc',\n",
    "            'seed': 7,\n",
    "            'verbose': 100,\n",
    "            'boosting_type' : 'goss'\n",
    "        }\n",
    "\n",
    "lbgm_mod = lgb.train(params,\n",
    "                lgb.Dataset(x_train,y_train),\n",
    "                categorical_feature=cat_cols.to_list(),\n",
    "                num_boost_round=1000,\n",
    "                valid_sets=lgb.Dataset(x_valid,y_valid),\n",
    "                verbose_eval=50,\n",
    "                early_stopping_rounds=300)"
   ]
  },
  {
   "cell_type": "code",
   "execution_count": 27,
   "metadata": {},
   "outputs": [],
   "source": [
    "pred_lgbm = [1 if x > 0.5 else 0 for x in lbgm_mod.predict(x_test) ]"
   ]
  },
  {
   "cell_type": "code",
   "execution_count": 292,
   "metadata": {},
   "outputs": [
    {
     "data": {
      "text/plain": [
       "array([[564, 121],\n",
       "       [ 49, 109]], dtype=int64)"
      ]
     },
     "execution_count": 292,
     "metadata": {},
     "output_type": "execute_result"
    }
   ],
   "source": [
    "confusion_matrix(pred_lgbm,y_test)"
   ]
  },
  {
   "cell_type": "code",
   "execution_count": 28,
   "metadata": {},
   "outputs": [
    {
     "name": "stdout",
     "output_type": "stream",
     "text": [
      " ROC AUC Score  : 0.8535392581034116\n",
      " F1 Score : 0.4506172839506173\n",
      " Accuracy Score : 0.7888493475682088\n"
     ]
    }
   ],
   "source": [
    "print(f' ROC AUC Score  : {roc_auc_score(y_test,lbgm_mod.predict(x_test) )}')\n",
    "print(f' F1 Score : {f1_score(y_test,pred_lgbm)}')\n",
    "print(f\" Accuracy Score : {accuracy_score(y_test,pred_lgbm)}\")"
   ]
  },
  {
   "cell_type": "markdown",
   "metadata": {},
   "source": [
    "## Tabnet "
   ]
  },
  {
   "cell_type": "code",
   "execution_count": 401,
   "metadata": {},
   "outputs": [],
   "source": [
    "\n",
    "cat_idxs = [ i for i in np.where(x_train.columns.isin(cat_cols[1:]))[0]]\n",
    "\n",
    "cat_dims =[ df_train[col].nunique() for col  in cat_cols[1:] ]"
   ]
  },
  {
   "cell_type": "code",
   "execution_count": 407,
   "metadata": {},
   "outputs": [],
   "source": [
    "classifier = TabNetClassifier(verbose=0,seed=42,\n",
    "                              cat_idxs=cat_idxs,\n",
    "                              cat_dims=cat_dims,\n",
    "                              cat_emb_dim=1)\n",
    "\n"
   ]
  },
  {
   "cell_type": "code",
   "execution_count": 403,
   "metadata": {},
   "outputs": [
    {
     "data": {
      "text/plain": [
       "TabNetClassifier(n_d=8, n_a=8, n_steps=3, gamma=1.3, cat_idxs=[], cat_dims=[], cat_emb_dim=1, n_independent=2, n_shared=2, epsilon=1e-15, momentum=0.02, lambda_sparse=0.001, seed=42, clip_value=1, verbose=0, optimizer_fn=<class 'torch.optim.adam.Adam'>, optimizer_params={'lr': 0.02}, scheduler_fn=None, scheduler_params={}, mask_type='sparsemax', input_dim=None, output_dim=None, device_name='auto')"
      ]
     },
     "execution_count": 403,
     "metadata": {},
     "output_type": "execute_result"
    }
   ],
   "source": [
    "classifier"
   ]
  },
  {
   "cell_type": "code",
   "execution_count": 404,
   "metadata": {},
   "outputs": [
    {
     "name": "stdout",
     "output_type": "stream",
     "text": [
      "\n",
      "Early stopping occurred at epoch 11 with best_epoch = 6 and best_valid_auc = 0.73057\n",
      "Best weights from best epoch are automatically used!\n"
     ]
    }
   ],
   "source": [
    "classifier.fit(X_train=x_train.values, y_train=y_train.values,\n",
    "               eval_set=[(x_train.values, y_train.values), (x_valid.values, y_valid.values)],\n",
    "               eval_name=['train', 'valid'],eval_metric=['auc'],\n",
    "               batch_size=512,virtual_batch_size=128,num_workers=0,drop_last=False,\n",
    "               patience=5,max_epochs=100)"
   ]
  },
  {
   "cell_type": "code",
   "execution_count": 405,
   "metadata": {},
   "outputs": [],
   "source": [
    "\n",
    "predictions = classifier.predict_proba(x_test.values)[:,1]"
   ]
  },
  {
   "cell_type": "code",
   "execution_count": 406,
   "metadata": {},
   "outputs": [
    {
     "name": "stdout",
     "output_type": "stream",
     "text": [
      " ROC AUC Score  : 0.7539623356926188\n"
     ]
    }
   ],
   "source": [
    "\n",
    "print(f' ROC AUC Score  : {roc_auc_score(y_test,predictions )}')"
   ]
  },
  {
   "cell_type": "code",
   "execution_count": 40,
   "metadata": {},
   "outputs": [],
   "source": [
    "\n",
    "# classifier = TabNetClassifier(\n",
    "#     n_d=64, ncat_idxs=cat_idxs,\n",
    "#     cat_dims=cat_dims,\n",
    "#     cat_emb_dim=1,_a=64, n_steps=5,\n",
    "#     gamma=1.5, n_independent=2, n_shared=2,\n",
    "    \n",
    "#     lambda_sparse=1e-4, momentum=0.3, clip_value=2.,\n",
    "#     optimizer_fn=torch.optim.Adam,\n",
    "#     optimizer_params=dict(lr=2e-2),\n",
    "#     scheduler_params = {\"gamma\": 0.95,\n",
    "#                      \"step_size\": 20},\n",
    "#     scheduler_fn=torch.optim.lr_scheduler.StepLR, epsilon=1e-15\n",
    "# )"
   ]
  },
  {
   "cell_type": "markdown",
   "metadata": {},
   "source": [
    "# Stacking \n"
   ]
  },
  {
   "cell_type": "code",
   "execution_count": 77,
   "metadata": {},
   "outputs": [],
   "source": [
    "ntrain = x_train.shape[0]\n",
    "ntest = x_test.shape[0]\n",
    "base_test = df_test.shape[0]\n",
    "SEED = 1993 # for reproducibility\n",
    "NFOLDS = 3  #set folds for out-of-fold prediction\n",
    "kf = StratifiedKFold(n_splits=NFOLDS, random_state=SEED, shuffle=True)"
   ]
  },
  {
   "cell_type": "code",
   "execution_count": 3,
   "metadata": {},
   "outputs": [],
   "source": [
    "def calibrate_model(model_obj,data, target,test,method=\"isotonic\"):\n",
    "    model = CalibratedClassifierCV(model_obj, cv=3, method=method) \n",
    "    model.fit(data, target)\n",
    "    y_test_predict_proba = model.predict_proba(test)[:, 1]\n",
    "    return y_test_predict_proba\n",
    "\n",
    "\n",
    "\n",
    "def get_oof(clf, x_train, y_train, x_test,final_test,model=None,params=None,categorical_features=None):\n",
    "    oof_train = np.zeros((x_train.shape[0],))\n",
    "    oof_test = np.zeros((ntest,))\n",
    "    test =  np.empty((NFOLDS,final_test.shape[0]))\n",
    "    oof_test_skf = np.empty((NFOLDS, ntest))\n",
    "    final_test = final_test[x_train.columns]\n",
    "    clf = clf(**params)\n",
    "        \n",
    "    if categorical_features is not None:\n",
    "        cat_idx = np.where(x_train.columns.isin(categorical_features))[0]\n",
    "    \n",
    "    for i, (train_index, test_index) in enumerate(kf.split(x_train,y_train)):\n",
    "        x_tr,x_te  = x_train.iloc[train_index],x_train.iloc[test_index]\n",
    "        y_tr,y_te = y_train.iloc[train_index],y_train.iloc[test_index]\n",
    "         \n",
    "        if model == 'lightgbm':\n",
    "            print(f'{model} : Running !')\n",
    "            clf.fit(x_tr,y_tr,eval_set=[(x_te,y_te)],early_stopping_rounds=300,verbose=100)\n",
    "            \n",
    "        elif model == 'catboost':\n",
    "            print(f'{model} : Running !')\n",
    "            clf.fit(x_tr,y_tr,eval_set=(x_te,y_te),early_stopping_rounds=300,verbose=50,cat_features=cat_idx)\n",
    "        elif model == 'xgboost':\n",
    "            print(f'{model} : Running !')\n",
    "            clf.fit(x_tr,y_tr,eval_set=[(x_te,y_te)],early_stopping_rounds=300,verbose=50)\n",
    "        else:\n",
    "            print(f'{model} : Running !')\n",
    "            clf.fit(x_tr, y_tr)\n",
    "\n",
    "        \n",
    "        oof_train[test_index] = clf.predict_proba(x_te)[:,1]\n",
    "        print(\"AUC score is \",roc_auc_score(y_te,clf.predict_proba(x_te)[:,1]))\n",
    "        oof_test_skf[i, :] = clf.predict_proba(x_test)[:,1]\n",
    "\n",
    "        test[i, :] = clf.predict_proba(final_test)[:,1]\n",
    "\n",
    "    oof_test[:] = oof_test_skf.mean(axis=0)\n",
    "    test = test.mean(axis=0)\n",
    "    \n",
    "    return oof_train.reshape(-1, 1), oof_test.reshape(-1, 1), test "
   ]
  },
  {
   "cell_type": "code",
   "execution_count": 79,
   "metadata": {},
   "outputs": [],
   "source": [
    "catboost_params = {'n_estimators':300,'random_state' :1993,'eval_metric':'AUC','verbose' : 100,'task_type':'GPU','early_stopping_rounds':300}\n",
    "\n",
    "lgb_params = {'objective': 'cross_entropy','learning_rate' : 0.03,'num_boost_round':1000,\n",
    "#               'max_depth' : 12, \n",
    "                'metric': 'auc',\n",
    "                'seed': 7,\n",
    "                'verbose': 100,\n",
    "                'boosting_type' : 'goss'\n",
    "               }\n",
    "\n",
    "\n",
    "\n",
    "xg_params = {'train_method':'hist','nthread':4,'eval_metric':'auc','eta':0.05,'seed':1993,'objective':'binary:logitraw','grow_policy':'lossguide'} \n",
    "\n",
    "\n",
    "et_params = { 'n_jobs': -1, 'n_estimators':200,'verbose': 1}\n",
    "\n",
    "rf_params = { 'n_jobs': -1,'n_estimators': 300,'max_depth': 12,'criterion': 'gini'}\n",
    "\n",
    "lr_params = {'random_state':1993}\n"
   ]
  },
  {
   "cell_type": "code",
   "execution_count": 80,
   "metadata": {
    "collapsed": true,
    "jupyter": {
     "outputs_hidden": true
    }
   },
   "outputs": [
    {
     "name": "stdout",
     "output_type": "stream",
     "text": [
      "lightgbm : Running !\n",
      "Training until validation scores don't improve for 300 rounds\n",
      "[100]\tvalid_0's auc: 0.831573\n",
      "[200]\tvalid_0's auc: 0.82119\n",
      "[300]\tvalid_0's auc: 0.813288\n",
      "Early stopping, best iteration is:\n",
      "[61]\tvalid_0's auc: 0.836823\n",
      "AUC score is  0.8368225382375393\n",
      "lightgbm : Running !\n",
      "Training until validation scores don't improve for 300 rounds\n",
      "[100]\tvalid_0's auc: 0.825721\n",
      "[200]\tvalid_0's auc: 0.82178\n",
      "[300]\tvalid_0's auc: 0.820432\n",
      "Early stopping, best iteration is:\n",
      "[61]\tvalid_0's auc: 0.832093\n",
      "AUC score is  0.8320932293512938\n",
      "lightgbm : Running !\n",
      "Training until validation scores don't improve for 300 rounds\n",
      "[100]\tvalid_0's auc: 0.822834\n",
      "[200]\tvalid_0's auc: 0.813779\n",
      "[300]\tvalid_0's auc: 0.806756\n",
      "Early stopping, best iteration is:\n",
      "[61]\tvalid_0's auc: 0.825436\n",
      "AUC score is  0.825436015597306\n"
     ]
    }
   ],
   "source": [
    "lgb_oof_train, lgb_oof_test ,lgb_test  = get_oof(LGBMClassifier,x_train, y_train, x_test,df_test,model=\"lightgbm\",params=lgb_params,categorical_features=cat_cols[1:]) "
   ]
  },
  {
   "cell_type": "code",
   "execution_count": 81,
   "metadata": {
    "collapsed": true,
    "jupyter": {
     "outputs_hidden": true
    }
   },
   "outputs": [
    {
     "name": "stdout",
     "output_type": "stream",
     "text": [
      "catboost : Running !\n",
      "Learning rate set to 0.108867\n",
      "0:\tlearn: 0.8391408\ttest: 0.8207200\tbest: 0.8207200 (0)\ttotal: 25.2ms\tremaining: 7.53s\n",
      "50:\tlearn: 0.9093057\ttest: 0.8375382\tbest: 0.8419097 (26)\ttotal: 1.42s\tremaining: 6.96s\n",
      "100:\tlearn: 0.9407887\ttest: 0.8366670\tbest: 0.8419097 (26)\ttotal: 2.9s\tremaining: 5.72s\n",
      "150:\tlearn: 0.9609429\ttest: 0.8322037\tbest: 0.8419097 (26)\ttotal: 4.38s\tremaining: 4.32s\n",
      "200:\tlearn: 0.9754537\ttest: 0.8279381\tbest: 0.8419097 (26)\ttotal: 5.84s\tremaining: 2.88s\n",
      "250:\tlearn: 0.9847616\ttest: 0.8270299\tbest: 0.8419097 (26)\ttotal: 7.32s\tremaining: 1.43s\n",
      "299:\tlearn: 0.9915411\ttest: 0.8262277\tbest: 0.8419097 (26)\ttotal: 8.81s\tremaining: 0us\n",
      "bestTest = 0.8419096768\n",
      "bestIteration = 26\n",
      "Shrink model to first 27 iterations.\n",
      "AUC score is  0.8419096859008792\n",
      "catboost : Running !\n",
      "Learning rate set to 0.108863\n",
      "0:\tlearn: 0.8453434\ttest: 0.7864410\tbest: 0.7864410 (0)\ttotal: 23.3ms\tremaining: 6.95s\n",
      "50:\tlearn: 0.9082509\ttest: 0.8354307\tbest: 0.8375771 (33)\ttotal: 1.42s\tremaining: 6.93s\n",
      "100:\tlearn: 0.9427750\ttest: 0.8311290\tbest: 0.8375771 (33)\ttotal: 2.85s\tremaining: 5.61s\n",
      "150:\tlearn: 0.9636141\ttest: 0.8299025\tbest: 0.8375771 (33)\ttotal: 4.32s\tremaining: 4.26s\n",
      "200:\tlearn: 0.9783398\ttest: 0.8283375\tbest: 0.8375771 (33)\ttotal: 5.85s\tremaining: 2.88s\n",
      "250:\tlearn: 0.9876847\ttest: 0.8241581\tbest: 0.8375771 (33)\ttotal: 7.33s\tremaining: 1.43s\n",
      "299:\tlearn: 0.9939034\ttest: 0.8205122\tbest: 0.8375771 (33)\ttotal: 8.77s\tremaining: 0us\n",
      "bestTest = 0.8375770748\n",
      "bestIteration = 33\n",
      "Shrink model to first 34 iterations.\n",
      "AUC score is  0.8375771003190358\n",
      "catboost : Running !\n",
      "Learning rate set to 0.108863\n",
      "0:\tlearn: 0.8384155\ttest: 0.8124690\tbest: 0.8124690 (0)\ttotal: 26.3ms\tremaining: 7.87s\n",
      "50:\tlearn: 0.9125658\ttest: 0.8305583\tbest: 0.8323095 (28)\ttotal: 1.37s\tremaining: 6.69s\n",
      "100:\tlearn: 0.9472966\ttest: 0.8263860\tbest: 0.8323095 (28)\ttotal: 2.79s\tremaining: 5.49s\n",
      "150:\tlearn: 0.9675835\ttest: 0.8214002\tbest: 0.8323095 (28)\ttotal: 4.25s\tremaining: 4.2s\n",
      "200:\tlearn: 0.9799086\ttest: 0.8205707\tbest: 0.8323095 (28)\ttotal: 5.74s\tremaining: 2.82s\n",
      "250:\tlearn: 0.9888615\ttest: 0.8184580\tbest: 0.8323095 (28)\ttotal: 7.2s\tremaining: 1.41s\n",
      "299:\tlearn: 0.9935229\ttest: 0.8167405\tbest: 0.8323095 (28)\ttotal: 8.6s\tremaining: 0us\n",
      "bestTest = 0.8323094845\n",
      "bestIteration = 28\n",
      "Shrink model to first 29 iterations.\n",
      "AUC score is  0.8323094647288195\n"
     ]
    }
   ],
   "source": [
    "cb_oof_train, cb_oof_test,cb_test = get_oof(CatBoostClassifier,x_train, y_train, x_test,df_test,model=\"catboost\",params=catboost_params,categorical_features=cat_cols[1:]) "
   ]
  },
  {
   "cell_type": "code",
   "execution_count": 130,
   "metadata": {},
   "outputs": [
    {
     "name": "stdout",
     "output_type": "stream",
     "text": [
      "xgboost : Running !\n",
      "[0]\tvalidation_0-auc:0.79968\n",
      "Will train until validation_0-auc hasn't improved in 300 rounds.\n",
      "[50]\tvalidation_0-auc:0.81962\n",
      "[99]\tvalidation_0-auc:0.82200\n",
      "AUC score is  0.8227237708857537\n",
      "xgboost : Running !\n",
      "[0]\tvalidation_0-auc:0.79414\n",
      "Will train until validation_0-auc hasn't improved in 300 rounds.\n",
      "[50]\tvalidation_0-auc:0.82298\n",
      "[99]\tvalidation_0-auc:0.82217\n",
      "AUC score is  0.8271481744062389\n",
      "xgboost : Running !\n",
      "[0]\tvalidation_0-auc:0.79947\n",
      "Will train until validation_0-auc hasn't improved in 300 rounds.\n",
      "[50]\tvalidation_0-auc:0.81889\n",
      "[99]\tvalidation_0-auc:0.82043\n",
      "AUC score is  0.8220258773484579\n"
     ]
    }
   ],
   "source": [
    "xg_oof_train, xg_oof_test,xg_test= get_oof(XGBClassifier,x_train, y_train, x_test,df_test,model=\"xgboost\",params=xg_params,categorical_features=cat_cols) "
   ]
  },
  {
   "cell_type": "code",
   "execution_count": 112,
   "metadata": {
    "collapsed": true,
    "jupyter": {
     "outputs_hidden": true
    }
   },
   "outputs": [
    {
     "name": "stdout",
     "output_type": "stream",
     "text": [
      "extratrees : Running !\n"
     ]
    },
    {
     "name": "stderr",
     "output_type": "stream",
     "text": [
      "[Parallel(n_jobs=-1)]: Using backend ThreadingBackend with 8 concurrent workers.\n",
      "[Parallel(n_jobs=-1)]: Done  34 tasks      | elapsed:    0.0s\n",
      "[Parallel(n_jobs=-1)]: Done 184 tasks      | elapsed:    0.1s\n",
      "[Parallel(n_jobs=-1)]: Done 200 out of 200 | elapsed:    0.1s finished\n",
      "[Parallel(n_jobs=8)]: Using backend ThreadingBackend with 8 concurrent workers.\n",
      "[Parallel(n_jobs=8)]: Done  34 tasks      | elapsed:    0.0s\n",
      "[Parallel(n_jobs=8)]: Done 184 tasks      | elapsed:    0.0s\n",
      "[Parallel(n_jobs=8)]: Done 200 out of 200 | elapsed:    0.0s finished\n",
      "[Parallel(n_jobs=8)]: Using backend ThreadingBackend with 8 concurrent workers.\n",
      "[Parallel(n_jobs=8)]: Done  34 tasks      | elapsed:    0.0s\n",
      "[Parallel(n_jobs=8)]: Done 184 tasks      | elapsed:    0.0s\n",
      "[Parallel(n_jobs=8)]: Done 200 out of 200 | elapsed:    0.0s finished\n"
     ]
    },
    {
     "name": "stdout",
     "output_type": "stream",
     "text": [
      "AUC score is  0.8078616663368294\n"
     ]
    },
    {
     "name": "stderr",
     "output_type": "stream",
     "text": [
      "[Parallel(n_jobs=8)]: Using backend ThreadingBackend with 8 concurrent workers.\n",
      "[Parallel(n_jobs=8)]: Done  34 tasks      | elapsed:    0.0s\n",
      "[Parallel(n_jobs=8)]: Done 184 tasks      | elapsed:    0.0s\n",
      "[Parallel(n_jobs=8)]: Done 200 out of 200 | elapsed:    0.0s finished\n",
      "[Parallel(n_jobs=-1)]: Using backend ThreadingBackend with 8 concurrent workers.\n",
      "[Parallel(n_jobs=-1)]: Done  34 tasks      | elapsed:    0.0s\n",
      "[Parallel(n_jobs=-1)]: Done 184 tasks      | elapsed:    0.0s\n",
      "[Parallel(n_jobs=-1)]: Done 200 out of 200 | elapsed:    0.1s finished\n",
      "[Parallel(n_jobs=8)]: Using backend ThreadingBackend with 8 concurrent workers.\n",
      "[Parallel(n_jobs=8)]: Done  34 tasks      | elapsed:    0.0s\n",
      "[Parallel(n_jobs=8)]: Done 184 tasks      | elapsed:    0.0s\n",
      "[Parallel(n_jobs=8)]: Done 200 out of 200 | elapsed:    0.0s finished\n",
      "[Parallel(n_jobs=-1)]: Using backend ThreadingBackend with 8 concurrent workers.\n",
      "[Parallel(n_jobs=-1)]: Done  34 tasks      | elapsed:    0.0s\n",
      "[Parallel(n_jobs=-1)]: Done 184 tasks      | elapsed:    0.0s\n",
      "[Parallel(n_jobs=-1)]: Done 200 out of 200 | elapsed:    0.1s finished\n",
      "[Parallel(n_jobs=8)]: Using backend ThreadingBackend with 8 concurrent workers.\n",
      "[Parallel(n_jobs=8)]: Done  34 tasks      | elapsed:    0.0s\n",
      "[Parallel(n_jobs=8)]: Done 184 tasks      | elapsed:    0.0s\n",
      "[Parallel(n_jobs=8)]: Done 200 out of 200 | elapsed:    0.0s finished\n",
      "[Parallel(n_jobs=-1)]: Using backend ThreadingBackend with 8 concurrent workers.\n",
      "[Parallel(n_jobs=-1)]: Done  34 tasks      | elapsed:    0.0s\n",
      "[Parallel(n_jobs=-1)]: Done 184 tasks      | elapsed:    0.0s\n",
      "[Parallel(n_jobs=-1)]: Done 200 out of 200 | elapsed:    0.1s finished\n",
      "[Parallel(n_jobs=8)]: Using backend ThreadingBackend with 8 concurrent workers.\n",
      "[Parallel(n_jobs=8)]: Done  34 tasks      | elapsed:    0.0s\n",
      "[Parallel(n_jobs=8)]: Done 184 tasks      | elapsed:    0.0s\n",
      "[Parallel(n_jobs=8)]: Done 200 out of 200 | elapsed:    0.0s finished\n",
      "[Parallel(n_jobs=8)]: Using backend ThreadingBackend with 8 concurrent workers.\n",
      "[Parallel(n_jobs=8)]: Done  34 tasks      | elapsed:    0.0s\n",
      "[Parallel(n_jobs=8)]: Done 184 tasks      | elapsed:    0.0s\n",
      "[Parallel(n_jobs=8)]: Done 200 out of 200 | elapsed:    0.0s finished\n",
      "[Parallel(n_jobs=8)]: Using backend ThreadingBackend with 8 concurrent workers.\n",
      "[Parallel(n_jobs=8)]: Done  34 tasks      | elapsed:    0.0s\n",
      "[Parallel(n_jobs=8)]: Done 184 tasks      | elapsed:    0.0s\n",
      "[Parallel(n_jobs=8)]: Done 200 out of 200 | elapsed:    0.0s finished\n",
      "[Parallel(n_jobs=8)]: Using backend ThreadingBackend with 8 concurrent workers.\n",
      "[Parallel(n_jobs=8)]: Done  34 tasks      | elapsed:    0.0s\n",
      "[Parallel(n_jobs=8)]: Done 184 tasks      | elapsed:    0.0s\n",
      "[Parallel(n_jobs=8)]: Done 200 out of 200 | elapsed:    0.0s finished\n",
      "[Parallel(n_jobs=8)]: Using backend ThreadingBackend with 8 concurrent workers.\n",
      "[Parallel(n_jobs=8)]: Done  34 tasks      | elapsed:    0.0s\n",
      "[Parallel(n_jobs=8)]: Done 184 tasks      | elapsed:    0.0s\n",
      "[Parallel(n_jobs=8)]: Done 200 out of 200 | elapsed:    0.0s finished\n",
      "[Parallel(n_jobs=-1)]: Using backend ThreadingBackend with 8 concurrent workers.\n"
     ]
    },
    {
     "name": "stdout",
     "output_type": "stream",
     "text": [
      "extratrees : Running !\n"
     ]
    },
    {
     "name": "stderr",
     "output_type": "stream",
     "text": [
      "[Parallel(n_jobs=-1)]: Done  34 tasks      | elapsed:    0.0s\n",
      "[Parallel(n_jobs=-1)]: Done 184 tasks      | elapsed:    0.1s\n",
      "[Parallel(n_jobs=-1)]: Done 200 out of 200 | elapsed:    0.1s finished\n",
      "[Parallel(n_jobs=8)]: Using backend ThreadingBackend with 8 concurrent workers.\n",
      "[Parallel(n_jobs=8)]: Done  34 tasks      | elapsed:    0.0s\n",
      "[Parallel(n_jobs=8)]: Done 184 tasks      | elapsed:    0.0s\n",
      "[Parallel(n_jobs=8)]: Done 200 out of 200 | elapsed:    0.0s finished\n",
      "[Parallel(n_jobs=8)]: Using backend ThreadingBackend with 8 concurrent workers.\n",
      "[Parallel(n_jobs=8)]: Done  34 tasks      | elapsed:    0.0s\n",
      "[Parallel(n_jobs=8)]: Done 184 tasks      | elapsed:    0.0s\n",
      "[Parallel(n_jobs=8)]: Done 200 out of 200 | elapsed:    0.0s finished\n",
      "[Parallel(n_jobs=8)]: Using backend ThreadingBackend with 8 concurrent workers.\n",
      "[Parallel(n_jobs=8)]: Done  34 tasks      | elapsed:    0.0s\n"
     ]
    },
    {
     "name": "stdout",
     "output_type": "stream",
     "text": [
      "AUC score is  0.7822048918823112\n"
     ]
    },
    {
     "name": "stderr",
     "output_type": "stream",
     "text": [
      "[Parallel(n_jobs=8)]: Done 184 tasks      | elapsed:    0.0s\n",
      "[Parallel(n_jobs=8)]: Done 200 out of 200 | elapsed:    0.0s finished\n",
      "[Parallel(n_jobs=-1)]: Using backend ThreadingBackend with 8 concurrent workers.\n",
      "[Parallel(n_jobs=-1)]: Done  34 tasks      | elapsed:    0.0s\n",
      "[Parallel(n_jobs=-1)]: Done 184 tasks      | elapsed:    0.1s\n",
      "[Parallel(n_jobs=-1)]: Done 200 out of 200 | elapsed:    0.1s finished\n",
      "[Parallel(n_jobs=8)]: Using backend ThreadingBackend with 8 concurrent workers.\n",
      "[Parallel(n_jobs=8)]: Done  34 tasks      | elapsed:    0.0s\n",
      "[Parallel(n_jobs=8)]: Done 184 tasks      | elapsed:    0.0s\n",
      "[Parallel(n_jobs=8)]: Done 200 out of 200 | elapsed:    0.0s finished\n",
      "[Parallel(n_jobs=-1)]: Using backend ThreadingBackend with 8 concurrent workers.\n",
      "[Parallel(n_jobs=-1)]: Done  34 tasks      | elapsed:    0.0s\n",
      "[Parallel(n_jobs=-1)]: Done 184 tasks      | elapsed:    0.0s\n",
      "[Parallel(n_jobs=-1)]: Done 200 out of 200 | elapsed:    0.1s finished\n",
      "[Parallel(n_jobs=8)]: Using backend ThreadingBackend with 8 concurrent workers.\n",
      "[Parallel(n_jobs=8)]: Done  34 tasks      | elapsed:    0.0s\n",
      "[Parallel(n_jobs=8)]: Done 184 tasks      | elapsed:    0.0s\n",
      "[Parallel(n_jobs=8)]: Done 200 out of 200 | elapsed:    0.0s finished\n",
      "[Parallel(n_jobs=-1)]: Using backend ThreadingBackend with 8 concurrent workers.\n",
      "[Parallel(n_jobs=-1)]: Done  34 tasks      | elapsed:    0.0s\n",
      "[Parallel(n_jobs=-1)]: Done 184 tasks      | elapsed:    0.0s\n",
      "[Parallel(n_jobs=-1)]: Done 200 out of 200 | elapsed:    0.1s finished\n",
      "[Parallel(n_jobs=8)]: Using backend ThreadingBackend with 8 concurrent workers.\n",
      "[Parallel(n_jobs=8)]: Done  34 tasks      | elapsed:    0.0s\n",
      "[Parallel(n_jobs=8)]: Done 184 tasks      | elapsed:    0.0s\n",
      "[Parallel(n_jobs=8)]: Done 200 out of 200 | elapsed:    0.0s finished\n",
      "[Parallel(n_jobs=8)]: Using backend ThreadingBackend with 8 concurrent workers.\n",
      "[Parallel(n_jobs=8)]: Done  34 tasks      | elapsed:    0.0s\n",
      "[Parallel(n_jobs=8)]: Done 184 tasks      | elapsed:    0.0s\n",
      "[Parallel(n_jobs=8)]: Done 200 out of 200 | elapsed:    0.0s finished\n",
      "[Parallel(n_jobs=8)]: Using backend ThreadingBackend with 8 concurrent workers.\n",
      "[Parallel(n_jobs=8)]: Done  34 tasks      | elapsed:    0.0s\n",
      "[Parallel(n_jobs=8)]: Done 184 tasks      | elapsed:    0.0s\n",
      "[Parallel(n_jobs=8)]: Done 200 out of 200 | elapsed:    0.0s finished\n",
      "[Parallel(n_jobs=8)]: Using backend ThreadingBackend with 8 concurrent workers.\n",
      "[Parallel(n_jobs=8)]: Done  34 tasks      | elapsed:    0.0s\n",
      "[Parallel(n_jobs=8)]: Done 184 tasks      | elapsed:    0.0s\n",
      "[Parallel(n_jobs=8)]: Done 200 out of 200 | elapsed:    0.0s finished\n",
      "[Parallel(n_jobs=8)]: Using backend ThreadingBackend with 8 concurrent workers.\n",
      "[Parallel(n_jobs=8)]: Done  34 tasks      | elapsed:    0.0s\n",
      "[Parallel(n_jobs=8)]: Done 184 tasks      | elapsed:    0.0s\n",
      "[Parallel(n_jobs=8)]: Done 200 out of 200 | elapsed:    0.0s finished\n"
     ]
    },
    {
     "name": "stdout",
     "output_type": "stream",
     "text": [
      "extratrees : Running !\n"
     ]
    },
    {
     "name": "stderr",
     "output_type": "stream",
     "text": [
      "[Parallel(n_jobs=-1)]: Using backend ThreadingBackend with 8 concurrent workers.\n",
      "[Parallel(n_jobs=-1)]: Done  34 tasks      | elapsed:    0.0s\n",
      "[Parallel(n_jobs=-1)]: Done 184 tasks      | elapsed:    0.1s\n",
      "[Parallel(n_jobs=-1)]: Done 200 out of 200 | elapsed:    0.1s finished\n",
      "[Parallel(n_jobs=8)]: Using backend ThreadingBackend with 8 concurrent workers.\n",
      "[Parallel(n_jobs=8)]: Done  34 tasks      | elapsed:    0.0s\n",
      "[Parallel(n_jobs=8)]: Done 184 tasks      | elapsed:    0.0s\n",
      "[Parallel(n_jobs=8)]: Done 200 out of 200 | elapsed:    0.0s finished\n",
      "[Parallel(n_jobs=8)]: Using backend ThreadingBackend with 8 concurrent workers.\n",
      "[Parallel(n_jobs=8)]: Done  34 tasks      | elapsed:    0.0s\n",
      "[Parallel(n_jobs=8)]: Done 184 tasks      | elapsed:    0.0s\n",
      "[Parallel(n_jobs=8)]: Done 200 out of 200 | elapsed:    0.0s finished\n"
     ]
    },
    {
     "name": "stdout",
     "output_type": "stream",
     "text": [
      "AUC score is  0.7835962424672103\n"
     ]
    },
    {
     "name": "stderr",
     "output_type": "stream",
     "text": [
      "[Parallel(n_jobs=8)]: Using backend ThreadingBackend with 8 concurrent workers.\n",
      "[Parallel(n_jobs=8)]: Done  34 tasks      | elapsed:    0.0s\n",
      "[Parallel(n_jobs=8)]: Done 184 tasks      | elapsed:    0.0s\n",
      "[Parallel(n_jobs=8)]: Done 200 out of 200 | elapsed:    0.0s finished\n",
      "[Parallel(n_jobs=-1)]: Using backend ThreadingBackend with 8 concurrent workers.\n",
      "[Parallel(n_jobs=-1)]: Done  34 tasks      | elapsed:    0.0s\n",
      "[Parallel(n_jobs=-1)]: Done 184 tasks      | elapsed:    0.1s\n",
      "[Parallel(n_jobs=-1)]: Done 200 out of 200 | elapsed:    0.1s finished\n",
      "[Parallel(n_jobs=8)]: Using backend ThreadingBackend with 8 concurrent workers.\n",
      "[Parallel(n_jobs=8)]: Done  34 tasks      | elapsed:    0.0s\n",
      "[Parallel(n_jobs=8)]: Done 184 tasks      | elapsed:    0.0s\n",
      "[Parallel(n_jobs=8)]: Done 200 out of 200 | elapsed:    0.0s finished\n",
      "[Parallel(n_jobs=-1)]: Using backend ThreadingBackend with 8 concurrent workers.\n",
      "[Parallel(n_jobs=-1)]: Done  34 tasks      | elapsed:    0.0s\n",
      "[Parallel(n_jobs=-1)]: Done 184 tasks      | elapsed:    0.1s\n",
      "[Parallel(n_jobs=-1)]: Done 200 out of 200 | elapsed:    0.1s finished\n",
      "[Parallel(n_jobs=8)]: Using backend ThreadingBackend with 8 concurrent workers.\n",
      "[Parallel(n_jobs=8)]: Done  34 tasks      | elapsed:    0.0s\n",
      "[Parallel(n_jobs=8)]: Done 184 tasks      | elapsed:    0.0s\n",
      "[Parallel(n_jobs=8)]: Done 200 out of 200 | elapsed:    0.0s finished\n",
      "[Parallel(n_jobs=-1)]: Using backend ThreadingBackend with 8 concurrent workers.\n",
      "[Parallel(n_jobs=-1)]: Done  34 tasks      | elapsed:    0.0s\n",
      "[Parallel(n_jobs=-1)]: Done 184 tasks      | elapsed:    0.0s\n",
      "[Parallel(n_jobs=-1)]: Done 200 out of 200 | elapsed:    0.1s finished\n",
      "[Parallel(n_jobs=8)]: Using backend ThreadingBackend with 8 concurrent workers.\n",
      "[Parallel(n_jobs=8)]: Done  34 tasks      | elapsed:    0.0s\n",
      "[Parallel(n_jobs=8)]: Done 184 tasks      | elapsed:    0.0s\n",
      "[Parallel(n_jobs=8)]: Done 200 out of 200 | elapsed:    0.0s finished\n",
      "[Parallel(n_jobs=8)]: Using backend ThreadingBackend with 8 concurrent workers.\n",
      "[Parallel(n_jobs=8)]: Done  34 tasks      | elapsed:    0.0s\n",
      "[Parallel(n_jobs=8)]: Done 184 tasks      | elapsed:    0.0s\n",
      "[Parallel(n_jobs=8)]: Done 200 out of 200 | elapsed:    0.0s finished\n",
      "[Parallel(n_jobs=8)]: Using backend ThreadingBackend with 8 concurrent workers.\n",
      "[Parallel(n_jobs=8)]: Done  34 tasks      | elapsed:    0.0s\n",
      "[Parallel(n_jobs=8)]: Done 184 tasks      | elapsed:    0.0s\n",
      "[Parallel(n_jobs=8)]: Done 200 out of 200 | elapsed:    0.0s finished\n",
      "[Parallel(n_jobs=8)]: Using backend ThreadingBackend with 8 concurrent workers.\n",
      "[Parallel(n_jobs=8)]: Done  34 tasks      | elapsed:    0.0s\n",
      "[Parallel(n_jobs=8)]: Done 184 tasks      | elapsed:    0.0s\n",
      "[Parallel(n_jobs=8)]: Done 200 out of 200 | elapsed:    0.0s finished\n",
      "[Parallel(n_jobs=8)]: Using backend ThreadingBackend with 8 concurrent workers.\n",
      "[Parallel(n_jobs=8)]: Done  34 tasks      | elapsed:    0.0s\n",
      "[Parallel(n_jobs=8)]: Done 184 tasks      | elapsed:    0.0s\n",
      "[Parallel(n_jobs=8)]: Done 200 out of 200 | elapsed:    0.0s finished\n"
     ]
    }
   ],
   "source": [
    "\n",
    "# et_oof_train, et_oof_test,et_test ,et_iso = get_oof(ExtraTreesClassifier,x_train, y_train, x_test,df_test,model=\"extratrees\",params=et_params,categorical_features=cat_cols) "
   ]
  },
  {
   "cell_type": "code",
   "execution_count": 83,
   "metadata": {},
   "outputs": [
    {
     "name": "stdout",
     "output_type": "stream",
     "text": [
      "randomforest : Running !\n",
      "AUC score is  0.827105891832292\n",
      "randomforest : Running !\n",
      "AUC score is  0.8205494505494506\n",
      "randomforest : Running !\n",
      "AUC score is  0.8123980857851827\n"
     ]
    }
   ],
   "source": [
    "rf_oof_train, rf_oof_test ,rf_test = get_oof(RandomForestClassifier,x_train, y_train, x_test,df_test,model=\"randomforest\",params=rf_params) "
   ]
  },
  {
   "cell_type": "code",
   "execution_count": 84,
   "metadata": {},
   "outputs": [
    {
     "name": "stdout",
     "output_type": "stream",
     "text": [
      "logistic : Running !\n",
      "AUC score is  0.8390171326793137\n",
      "logistic : Running !\n",
      "AUC score is  0.8234686281460475\n",
      "logistic : Running !\n",
      "AUC score is  0.829432825239277\n"
     ]
    }
   ],
   "source": [
    "lr_oof_train, lr_oof_test ,lr_test  = get_oof(LogisticRegression,x_train, y_train, x_test,df_test,model=\"logistic\",params=lr_params) "
   ]
  },
  {
   "cell_type": "code",
   "execution_count": 244,
   "metadata": {},
   "outputs": [],
   "source": [
    "# from sklearn.metrics import roc_curve\n",
    "# import matplotlib.pyplot as plt\n",
    "\n",
    "# # Compute False postive rate, and True positive rate\n",
    "# fpr, tpr, _ = roc_curve(target_test,final_pred,pos_label=2 )\n",
    "# fpr1, tpr1, _  = roc_curve(target_test,pred1,pos_label=2 )\n",
    "# fpr2, tpr2, _  = roc_curve(target_test,pred2,pos_label=2 )\n",
    "# fpr3, tpr3, _  = roc_curve(target_test,pred3,pos_label=2 )\n",
    "# fpr4, tpr4, _  = roc_curve(target_test,pred4,pos_label=2 )\n",
    "# fpr5, tpr5, _  = roc_curve(target_test,finalpred,pos_label=2 )\n",
    "\n",
    "\n",
    "\n",
    "# # Calculate Area under the curve to display on the plot\n",
    "# auc = roc_auc_score(target_test, final_pred)\n",
    "# plt.plot(fpr,tpr,label=\"Ensemble mean, auc=\"+str(auc))\n",
    "# plt.plot(fpr1,tpr1,lw=1,label=\"logistic, auc=\"+str(roc_auc_score(target_test, pred1)))\n",
    "# plt.plot(fpr2,tpr2,label=\"random forest, auc=\"+str(roc_auc_score(target_test, pred2)))\n",
    "# plt.plot(fpr3,tpr3,label=\"catboost, auc=\"+str(roc_auc_score(target_test, pred3)))\n",
    "# plt.plot(fpr4,tpr4,label=\"Kfold_catboost, auc=\"+str(roc_auc_score(target_test, pred4)))\n",
    "# plt.plot(fpr5,tpr5,label=\"Weighted AVG, auc=\"+str(roc_auc_score(target_test, finalpred)))\n",
    "\n",
    "\n",
    "# # Custom settings for the plot \n",
    "# plt.plot([0, 1], [0, 1],'r--')\n",
    "# plt.xlim([0.0, 1.0])\n",
    "# plt.ylim([0.0, 1.05])\n",
    "# plt.xlabel('1-Specificity(False Positive Rate)')\n",
    "# plt.ylabel('Sensitivity(True Positive Rate)')\n",
    "# plt.title('Receiver Operating Characteristic')\n",
    "# plt.legend(loc=4)\n",
    "# plt.show()"
   ]
  },
  {
   "cell_type": "code",
   "execution_count": 133,
   "metadata": {},
   "outputs": [],
   "source": [
    "#### Model 2 :\n",
    "base_predictions_train = pd.DataFrame( {'lightgbm': lgb_oof_train.ravel(),\n",
    "     'catboost': cb_oof_train.ravel(),\n",
    "#      'xgboost': xg_oof_train.ravel(),\n",
    "#      'extratrees':et_oof_train.ravel(),\n",
    "     'randomforest':rf_oof_train.ravel(),\n",
    "     'logisticregression':lr_oof_train.ravel()\n",
    "                                  \n",
    "    })"
   ]
  },
  {
   "cell_type": "code",
   "execution_count": 167,
   "metadata": {},
   "outputs": [
    {
     "data": {
      "text/html": [
       "<style  type=\"text/css\" >\n",
       "#T_2aa76fe6_6f4c_11eb_8715_00d861116937row0_col0,#T_2aa76fe6_6f4c_11eb_8715_00d861116937row1_col1,#T_2aa76fe6_6f4c_11eb_8715_00d861116937row2_col2,#T_2aa76fe6_6f4c_11eb_8715_00d861116937row3_col3,#T_2aa76fe6_6f4c_11eb_8715_00d861116937row4_col4{\n",
       "            background-color:  #b40426;\n",
       "            color:  #f1f1f1;\n",
       "        }#T_2aa76fe6_6f4c_11eb_8715_00d861116937row0_col1,#T_2aa76fe6_6f4c_11eb_8715_00d861116937row0_col2,#T_2aa76fe6_6f4c_11eb_8715_00d861116937row1_col0{\n",
       "            background-color:  #b5cdfa;\n",
       "            color:  #000000;\n",
       "        }#T_2aa76fe6_6f4c_11eb_8715_00d861116937row0_col3{\n",
       "            background-color:  #afcafc;\n",
       "            color:  #000000;\n",
       "        }#T_2aa76fe6_6f4c_11eb_8715_00d861116937row0_col4{\n",
       "            background-color:  #8fb1fe;\n",
       "            color:  #000000;\n",
       "        }#T_2aa76fe6_6f4c_11eb_8715_00d861116937row1_col2{\n",
       "            background-color:  #90b2fe;\n",
       "            color:  #000000;\n",
       "        }#T_2aa76fe6_6f4c_11eb_8715_00d861116937row1_col3{\n",
       "            background-color:  #93b5fe;\n",
       "            color:  #000000;\n",
       "        }#T_2aa76fe6_6f4c_11eb_8715_00d861116937row1_col4{\n",
       "            background-color:  #f2cbb7;\n",
       "            color:  #000000;\n",
       "        }#T_2aa76fe6_6f4c_11eb_8715_00d861116937row2_col0{\n",
       "            background-color:  #688aef;\n",
       "            color:  #000000;\n",
       "        }#T_2aa76fe6_6f4c_11eb_8715_00d861116937row2_col1,#T_2aa76fe6_6f4c_11eb_8715_00d861116937row2_col4,#T_2aa76fe6_6f4c_11eb_8715_00d861116937row4_col0,#T_2aa76fe6_6f4c_11eb_8715_00d861116937row4_col2,#T_2aa76fe6_6f4c_11eb_8715_00d861116937row4_col3{\n",
       "            background-color:  #3b4cc0;\n",
       "            color:  #f1f1f1;\n",
       "        }#T_2aa76fe6_6f4c_11eb_8715_00d861116937row2_col3{\n",
       "            background-color:  #5977e3;\n",
       "            color:  #000000;\n",
       "        }#T_2aa76fe6_6f4c_11eb_8715_00d861116937row3_col0{\n",
       "            background-color:  #98b9ff;\n",
       "            color:  #000000;\n",
       "        }#T_2aa76fe6_6f4c_11eb_8715_00d861116937row3_col1{\n",
       "            background-color:  #7699f6;\n",
       "            color:  #000000;\n",
       "        }#T_2aa76fe6_6f4c_11eb_8715_00d861116937row3_col2{\n",
       "            background-color:  #92b4fe;\n",
       "            color:  #000000;\n",
       "        }#T_2aa76fe6_6f4c_11eb_8715_00d861116937row3_col4{\n",
       "            background-color:  #7396f5;\n",
       "            color:  #000000;\n",
       "        }#T_2aa76fe6_6f4c_11eb_8715_00d861116937row4_col1{\n",
       "            background-color:  #d2dbe8;\n",
       "            color:  #000000;\n",
       "        }</style><table id=\"T_2aa76fe6_6f4c_11eb_8715_00d861116937\" ><thead>    <tr>        <th class=\"blank level0\" ></th>        <th class=\"col_heading level0 col0\" >lightgbm</th>        <th class=\"col_heading level0 col1\" >catboost</th>        <th class=\"col_heading level0 col2\" >xgboost</th>        <th class=\"col_heading level0 col3\" >randomforest</th>        <th class=\"col_heading level0 col4\" >logisticregression</th>    </tr></thead><tbody>\n",
       "                <tr>\n",
       "                        <th id=\"T_2aa76fe6_6f4c_11eb_8715_00d861116937level0_row0\" class=\"row_heading level0 row0\" >lightgbm</th>\n",
       "                        <td id=\"T_2aa76fe6_6f4c_11eb_8715_00d861116937row0_col0\" class=\"data row0 col0\" >1.000000</td>\n",
       "                        <td id=\"T_2aa76fe6_6f4c_11eb_8715_00d861116937row0_col1\" class=\"data row0 col1\" >0.947435</td>\n",
       "                        <td id=\"T_2aa76fe6_6f4c_11eb_8715_00d861116937row0_col2\" class=\"data row0 col2\" >0.929034</td>\n",
       "                        <td id=\"T_2aa76fe6_6f4c_11eb_8715_00d861116937row0_col3\" class=\"data row0 col3\" >0.940445</td>\n",
       "                        <td id=\"T_2aa76fe6_6f4c_11eb_8715_00d861116937row0_col4\" class=\"data row0 col4\" >0.916956</td>\n",
       "            </tr>\n",
       "            <tr>\n",
       "                        <th id=\"T_2aa76fe6_6f4c_11eb_8715_00d861116937level0_row1\" class=\"row_heading level0 row1\" >catboost</th>\n",
       "                        <td id=\"T_2aa76fe6_6f4c_11eb_8715_00d861116937row1_col0\" class=\"data row1 col0\" >0.947435</td>\n",
       "                        <td id=\"T_2aa76fe6_6f4c_11eb_8715_00d861116937row1_col1\" class=\"data row1 col1\" >1.000000</td>\n",
       "                        <td id=\"T_2aa76fe6_6f4c_11eb_8715_00d861116937row1_col2\" class=\"data row1 col2\" >0.917198</td>\n",
       "                        <td id=\"T_2aa76fe6_6f4c_11eb_8715_00d861116937row1_col3\" class=\"data row1 col3\" >0.932704</td>\n",
       "                        <td id=\"T_2aa76fe6_6f4c_11eb_8715_00d861116937row1_col4\" class=\"data row1 col4\" >0.955287</td>\n",
       "            </tr>\n",
       "            <tr>\n",
       "                        <th id=\"T_2aa76fe6_6f4c_11eb_8715_00d861116937level0_row2\" class=\"row_heading level0 row2\" >xgboost</th>\n",
       "                        <td id=\"T_2aa76fe6_6f4c_11eb_8715_00d861116937row2_col0\" class=\"data row2 col0\" >0.929034</td>\n",
       "                        <td id=\"T_2aa76fe6_6f4c_11eb_8715_00d861116937row2_col1\" class=\"data row2 col1\" >0.917198</td>\n",
       "                        <td id=\"T_2aa76fe6_6f4c_11eb_8715_00d861116937row2_col2\" class=\"data row2 col2\" >1.000000</td>\n",
       "                        <td id=\"T_2aa76fe6_6f4c_11eb_8715_00d861116937row2_col3\" class=\"data row2 col3\" >0.917488</td>\n",
       "                        <td id=\"T_2aa76fe6_6f4c_11eb_8715_00d861116937row2_col4\" class=\"data row2 col4\" >0.888168</td>\n",
       "            </tr>\n",
       "            <tr>\n",
       "                        <th id=\"T_2aa76fe6_6f4c_11eb_8715_00d861116937level0_row3\" class=\"row_heading level0 row3\" >randomforest</th>\n",
       "                        <td id=\"T_2aa76fe6_6f4c_11eb_8715_00d861116937row3_col0\" class=\"data row3 col0\" >0.940445</td>\n",
       "                        <td id=\"T_2aa76fe6_6f4c_11eb_8715_00d861116937row3_col1\" class=\"data row3 col1\" >0.932704</td>\n",
       "                        <td id=\"T_2aa76fe6_6f4c_11eb_8715_00d861116937row3_col2\" class=\"data row3 col2\" >0.917488</td>\n",
       "                        <td id=\"T_2aa76fe6_6f4c_11eb_8715_00d861116937row3_col3\" class=\"data row3 col3\" >1.000000</td>\n",
       "                        <td id=\"T_2aa76fe6_6f4c_11eb_8715_00d861116937row3_col4\" class=\"data row3 col4\" >0.908244</td>\n",
       "            </tr>\n",
       "            <tr>\n",
       "                        <th id=\"T_2aa76fe6_6f4c_11eb_8715_00d861116937level0_row4\" class=\"row_heading level0 row4\" >logisticregression</th>\n",
       "                        <td id=\"T_2aa76fe6_6f4c_11eb_8715_00d861116937row4_col0\" class=\"data row4 col0\" >0.916956</td>\n",
       "                        <td id=\"T_2aa76fe6_6f4c_11eb_8715_00d861116937row4_col1\" class=\"data row4 col1\" >0.955287</td>\n",
       "                        <td id=\"T_2aa76fe6_6f4c_11eb_8715_00d861116937row4_col2\" class=\"data row4 col2\" >0.888168</td>\n",
       "                        <td id=\"T_2aa76fe6_6f4c_11eb_8715_00d861116937row4_col3\" class=\"data row4 col3\" >0.908244</td>\n",
       "                        <td id=\"T_2aa76fe6_6f4c_11eb_8715_00d861116937row4_col4\" class=\"data row4 col4\" >1.000000</td>\n",
       "            </tr>\n",
       "    </tbody></table>"
      ],
      "text/plain": [
       "<pandas.io.formats.style.Styler at 0x1d407c9f408>"
      ]
     },
     "execution_count": 167,
     "metadata": {},
     "output_type": "execute_result"
    }
   ],
   "source": [
    "corr = base_predictions_train.corr()\n",
    "corr.style.background_gradient(cmap='coolwarm')"
   ]
  },
  {
   "cell_type": "code",
   "execution_count": 88,
   "metadata": {},
   "outputs": [
    {
     "data": {
      "text/plain": [
       "(0.8400910010111224, 0.851706268958544, 0.8538928210313447, 0.8457785642062688)"
      ]
     },
     "execution_count": 88,
     "metadata": {},
     "output_type": "execute_result"
    }
   ],
   "source": [
    "(roc_auc_score(y_test,rf_oof_test),roc_auc_score(y_test,lgb_oof_test),roc_auc_score(y_test,cb_oof_test),roc_auc_score(y_test,xg_oof_test))"
   ]
  },
  {
   "cell_type": "code",
   "execution_count": 134,
   "metadata": {},
   "outputs": [],
   "source": [
    "base_test =pd.DataFrame( {'lightgbm': lgb_oof_test.ravel(),\n",
    "     'catboost': cb_oof_test.ravel(),\n",
    "#      'xgboost': xg_oof_test.ravel(),\n",
    "#      'extratrees':et_oof_test.ravel(),\n",
    "     'randomforest': rf_oof_test.ravel(),\n",
    "     'logisticregression':lr_oof_test.ravel()                     \n",
    "    })"
   ]
  },
  {
   "cell_type": "code",
   "execution_count": 135,
   "metadata": {},
   "outputs": [],
   "source": [
    "final_pred =pd.DataFrame( {'lightgbm': lgb_test.ravel(),\n",
    "     'catboost': cb_test.ravel(),\n",
    "#      'xgboost': xg_test.ravel(),\n",
    "#      'extratrees':et_test.ravel(),\n",
    "     'randomforest': rf_test.ravel(),\n",
    "     'logisticregression':lr_test.ravel()                     \n",
    "    })"
   ]
  },
  {
   "cell_type": "code",
   "execution_count": 136,
   "metadata": {},
   "outputs": [],
   "source": [
    "clf_lr = LogisticRegression(random_state=0).fit(base_predictions_train, y_train)\n",
    "predictions_model_level1=clf_lr.predict_proba(base_test)[:,1]"
   ]
  },
  {
   "cell_type": "code",
   "execution_count": 137,
   "metadata": {},
   "outputs": [],
   "source": [
    "# Calibrated\n",
    "clf_sigmoid = CalibratedClassifierCV(clf_lr, cv=3, method='isotonic')\n",
    "clf_sigmoid.fit(base_predictions_train, y_train)\n",
    "predictions_model_level1_iso = clf_sigmoid.predict_proba(base_test)[:, 1]"
   ]
  },
  {
   "cell_type": "code",
   "execution_count": 292,
   "metadata": {},
   "outputs": [],
   "source": [
    "#18 vars ~~ 0.8614582594510249 auc roc"
   ]
  },
  {
   "cell_type": "code",
   "execution_count": 138,
   "metadata": {},
   "outputs": [
    {
     "data": {
      "text/plain": [
       "(0.8563195146612739, 0.8556370070778564)"
      ]
     },
     "execution_count": 138,
     "metadata": {},
     "output_type": "execute_result"
    }
   ],
   "source": [
    "roc_auc_score(y_test,predictions_model_level1),roc_auc_score(y_test,predictions_model_level1_iso)"
   ]
  },
  {
   "cell_type": "code",
   "execution_count": 127,
   "metadata": {},
   "outputs": [],
   "source": [
    "final_pred = clf_lr.predict_proba(final_pred)[:,1]"
   ]
  },
  {
   "cell_type": "code",
   "execution_count": 129,
   "metadata": {},
   "outputs": [],
   "source": []
  },
  {
   "cell_type": "markdown",
   "metadata": {},
   "source": [
    "# Blending"
   ]
  },
  {
   "cell_type": "code",
   "execution_count": 139,
   "metadata": {},
   "outputs": [],
   "source": [
    "from scipy.optimize import fmin\n",
    "from functools import partial"
   ]
  },
  {
   "cell_type": "code",
   "execution_count": 140,
   "metadata": {},
   "outputs": [],
   "source": [
    "class OptimizeAUC:\n",
    "    def __inti__(self):\n",
    "        self.coeff = None\n",
    "        \n",
    "    def loss_function(self, coeff,data, target):\n",
    "        data_coeff = data * coeff\n",
    "        prediction = np.sum(data_coeff,axis=1)\n",
    "        auc_score = roc_auc_score(target, prediction)\n",
    "        return -1 * auc_score\n",
    "        \n",
    "    \n",
    "    def fit(self, data, target):\n",
    "        partial_loss = partial(self.loss_function,data=data, target=target)\n",
    "        init_coeff = np.random.dirichlet(np.ones(data.shape[1]))\n",
    "        self.coeff = fmin(partial_loss, init_coeff, disp=True)\n",
    "        \n",
    "    def predict(self,data):\n",
    "        data_coeff = data *self.coeff\n",
    "        prediction = np.sum(data_coeff,axis=1)\n",
    "        return prediction \n",
    "        "
   ]
  },
  {
   "cell_type": "code",
   "execution_count": 141,
   "metadata": {},
   "outputs": [],
   "source": [
    "opt = OptimizeAUC()"
   ]
  },
  {
   "cell_type": "code",
   "execution_count": 142,
   "metadata": {},
   "outputs": [
    {
     "name": "stdout",
     "output_type": "stream",
     "text": [
      "Optimization terminated successfully.\n",
      "         Current function value: -0.854879\n",
      "         Iterations: 51\n",
      "         Function evaluations: 113\n"
     ]
    }
   ],
   "source": [
    "opt.fit(base_test,y_test)"
   ]
  },
  {
   "cell_type": "code",
   "execution_count": 143,
   "metadata": {},
   "outputs": [],
   "source": [
    "preds = opt.predict(base_test)"
   ]
  },
  {
   "cell_type": "code",
   "execution_count": 144,
   "metadata": {},
   "outputs": [
    {
     "data": {
      "text/plain": [
       "0.8548786653185036"
      ]
     },
     "execution_count": 144,
     "metadata": {},
     "output_type": "execute_result"
    }
   ],
   "source": [
    "roc_auc_score(y_test,preds)"
   ]
  },
  {
   "cell_type": "markdown",
   "metadata": {},
   "source": [
    "### check model calibration "
   ]
  },
  {
   "cell_type": "code",
   "execution_count": 155,
   "metadata": {},
   "outputs": [],
   "source": [
    "fraction_of_positives, mean_predicted_value = calibration_curve(y_test.values, base_test.catboost.values, n_bins=10,normalize=True)"
   ]
  },
  {
   "cell_type": "code",
   "execution_count": 154,
   "metadata": {},
   "outputs": [
    {
     "data": {
      "image/png": "[encoded data removed]",
      "text/plain": [
       "<Figure size 864x432 with 1 Axes>"
      ]
     },
     "metadata": {
      "needs_background": "light"
     },
     "output_type": "display_data"
    }
   ],
   "source": [
    "import seaborn as sns\n",
    "fig, ax = plt.subplots(1, figsize=(12, 6))\n",
    "plt.plot(mean_predicted_value, fraction_of_positives, 's-')\n",
    "plt.plot([0, 1], [0, 1], '--', color='gray')\n",
    "\n",
    "sns.despine(left=True, bottom=True)\n",
    "plt.gca().xaxis.set_ticks_position('none')\n",
    "plt.gca().yaxis.set_ticks_position('none')\n",
    "plt.title(\"$catboost$ Calibration Curve\", fontsize=20); pass"
   ]
  },
  {
   "cell_type": "code",
   "execution_count": 156,
   "metadata": {},
   "outputs": [
    {
     "data": {
      "image/png": "[encoded data removed]",
      "text/plain": [
       "<Figure size 864x432 with 1 Axes>"
      ]
     },
     "metadata": {
      "needs_background": "light"
     },
     "output_type": "display_data"
    }
   ],
   "source": [
    "import seaborn as sns\n",
    "fig, ax = plt.subplots(1, figsize=(12, 6))\n",
    "plt.plot(mean_predicted_value, fraction_of_positives, 's-')\n",
    "plt.plot([0, 1], [0, 1], '--', color='gray')\n",
    "\n",
    "sns.despine(left=True, bottom=True)\n",
    "plt.gca().xaxis.set_ticks_position('none')\n",
    "plt.gca().yaxis.set_ticks_position('none')\n",
    "plt.title(\"$randomforest$ Calibration Curve\", fontsize=20); pass"
   ]
  },
  {
   "cell_type": "code",
   "execution_count": 4,
   "metadata": {},
   "outputs": [],
   "source": [
    "# Prediction"
   ]
  },
  {
   "cell_type": "code",
   "execution_count": null,
   "metadata": {},
   "outputs": [],
   "source": [
    "final_pred.to_csv('final_predictions.csv',index=False)"
   ]
  }
 ],
 "metadata": {
  "kernelspec": {
   "display_name": "Python 3",
   "language": "python",
   "name": "python3"
  },
  "language_info": {
   "codemirror_mode": {
    "name": "ipython",
    "version": 3
   },
   "file_extension": ".py",
   "mimetype": "text/x-python",
   "name": "python",
   "nbconvert_exporter": "python",
   "pygments_lexer": "ipython3",
   "version": "3.7.4"
  }
 },
 "nbformat": 4,
 "nbformat_minor": 4
}
